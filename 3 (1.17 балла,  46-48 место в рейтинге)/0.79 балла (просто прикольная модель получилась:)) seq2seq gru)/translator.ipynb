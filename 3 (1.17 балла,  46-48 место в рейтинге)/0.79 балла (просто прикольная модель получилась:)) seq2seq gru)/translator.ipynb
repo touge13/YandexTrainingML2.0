{
 "cells": [
  {
   "cell_type": "code",
   "execution_count": null,
   "metadata": {
    "colab": {
     "base_uri": "https://localhost:8080/"
    },
    "id": "Nd00llsC7klu",
    "outputId": "11d0733d-4768-4ea3-e5d4-8d68615abd0b"
   },
   "outputs": [
    {
     "name": "stdout",
     "output_type": "stream",
     "text": [
      "Collecting sacrebleu\n",
      "  Downloading sacrebleu-2.4.3-py3-none-any.whl.metadata (51 kB)\n",
      "\u001b[?25l     \u001b[90m━━━━━━━━━━━━━━━━━━━━━━━━━━━━━━━━━━━━━━━━\u001b[0m \u001b[32m0.0/51.8 kB\u001b[0m \u001b[31m?\u001b[0m eta \u001b[36m-:--:--\u001b[0m\r\u001b[2K     \u001b[90m━━━━━━━━━━━━━━━━━━━━━━━━━━━━━━━━━━━━━━━━\u001b[0m \u001b[32m51.8/51.8 kB\u001b[0m \u001b[31m1.4 MB/s\u001b[0m eta \u001b[36m0:00:00\u001b[0m\n",
      "\u001b[?25hCollecting portalocker (from sacrebleu)\n",
      "  Downloading portalocker-2.10.1-py3-none-any.whl.metadata (8.5 kB)\n",
      "Requirement already satisfied: regex in /usr/local/lib/python3.10/dist-packages (from sacrebleu) (2024.9.11)\n",
      "Requirement already satisfied: tabulate>=0.8.9 in /usr/local/lib/python3.10/dist-packages (from sacrebleu) (0.9.0)\n",
      "Requirement already satisfied: numpy>=1.17 in /usr/local/lib/python3.10/dist-packages (from sacrebleu) (1.26.4)\n",
      "Collecting colorama (from sacrebleu)\n",
      "  Downloading colorama-0.4.6-py2.py3-none-any.whl.metadata (17 kB)\n",
      "Requirement already satisfied: lxml in /usr/local/lib/python3.10/dist-packages (from sacrebleu) (5.3.0)\n",
      "Downloading sacrebleu-2.4.3-py3-none-any.whl (103 kB)\n",
      "\u001b[2K   \u001b[90m━━━━━━━━━━━━━━━━━━━━━━━━━━━━━━━━━━━━━━━━\u001b[0m \u001b[32m104.0/104.0 kB\u001b[0m \u001b[31m3.8 MB/s\u001b[0m eta \u001b[36m0:00:00\u001b[0m\n",
      "\u001b[?25hDownloading colorama-0.4.6-py2.py3-none-any.whl (25 kB)\n",
      "Downloading portalocker-2.10.1-py3-none-any.whl (18 kB)\n",
      "Installing collected packages: portalocker, colorama, sacrebleu\n",
      "Successfully installed colorama-0.4.6 portalocker-2.10.1 sacrebleu-2.4.3\n"
     ]
    }
   ],
   "source": [
    "!pip install sacrebleu"
   ]
  },
  {
   "cell_type": "code",
   "execution_count": 98,
   "metadata": {
    "id": "p7bJpM0e9cjg"
   },
   "outputs": [],
   "source": [
    "import torch\n",
    "import torch.nn as nn\n",
    "import torch.optim as optim\n",
    "import json\n",
    "import sacrebleu\n",
    "import time"
   ]
  },
  {
   "cell_type": "code",
   "execution_count": null,
   "metadata": {
    "id": "-e1HK1YY9fhu"
   },
   "outputs": [],
   "source": [
    "# 1. Загрузка данных\n",
    "def load_data(file_path, limit=None):\n",
    "    data = []\n",
    "    with open(file_path, 'r', encoding='utf-8') as f:\n",
    "        for i, line in enumerate(f):\n",
    "            if limit and i >= limit:  # Останавливаемся после достижения лимита\n",
    "                break\n",
    "            data.append(json.loads(line))\n",
    "    return data\n",
    "\n",
    "# Загружаем обучающие данные с ограничением в 10,000 примеров\n",
    "train_data = load_data(\"3/alien_translation/train.jsonl\", limit=1000)\n",
    "val_data = load_data(\"3/alien_translation/val.jsonl\")"
   ]
  },
  {
   "cell_type": "code",
   "execution_count": 100,
   "metadata": {
    "id": "sqbJfEzGTOiz"
   },
   "outputs": [],
   "source": [
    "# 2. Создание словарей с гарантией добавления служебных токенов\n",
    "# Функция для создания словаря\n",
    "def build_vocab(datasets, key):\n",
    "    vocab = {\"<PAD>\": 0, \"<SOS>\": 1, \"<EOS>\": 2, \"<UNK>\": 3}  # Инициализация с служебными токенами\n",
    "    idx = 4  # Начинаем индексацию с 4\n",
    "\n",
    "    for item in datasets:\n",
    "        for char in item[key]:  # Проходим по символам строки\n",
    "            if char not in vocab:\n",
    "                vocab[char] = idx\n",
    "                idx += 1\n",
    "    return vocab, len(vocab)\n",
    "# Объединяем данные для создания словарей\n",
    "all_data = train_data + val_data\n",
    "src_vocab, src_vocab_size = build_vocab(all_data, \"src\")\n",
    "dst_vocab, dst_vocab_size = build_vocab(all_data, \"dst\")\n",
    "\n",
    "# Обратные словари для декодирования\n",
    "src_rev_vocab = {v: k for k, v in src_vocab.items()}\n",
    "dst_rev_vocab = {v: k for k, v in dst_vocab.items()}\n"
   ]
  },
  {
   "cell_type": "code",
   "execution_count": 101,
   "metadata": {
    "id": "rwyoyLRaTTCN"
   },
   "outputs": [],
   "source": [
    "# 3. Токенизация\n",
    "def encode(sentence, vocab, add_eos=True):\n",
    "    tokens = [vocab.get(char, vocab[\"<UNK>\"]) for char in sentence]  # Используем <UNK> для неизвестных символов\n",
    "    if add_eos:\n",
    "        tokens.append(vocab[\"<EOS>\"])\n",
    "    return tokens"
   ]
  },
  {
   "cell_type": "code",
   "execution_count": 102,
   "metadata": {
    "id": "9QkMBvWx9iyI"
   },
   "outputs": [],
   "source": [
    "# 4. Модель Seq2Seq с GRU\n",
    "class Seq2Seq(nn.Module):\n",
    "    def __init__(self, src_vocab_size, dst_vocab_size, embed_size, hidden_size):\n",
    "        super(Seq2Seq, self).__init__()\n",
    "        self.encoder = nn.Embedding(src_vocab_size, embed_size)\n",
    "        self.decoder = nn.Embedding(dst_vocab_size, embed_size)\n",
    "        self.enc_gru = nn.GRU(embed_size, hidden_size, batch_first=True)\n",
    "        self.dec_gru = nn.GRU(embed_size, hidden_size, batch_first=True)\n",
    "        self.fc = nn.Linear(hidden_size, dst_vocab_size)\n",
    "\n",
    "    def forward(self, src, dst):\n",
    "        # Encoder\n",
    "        src_embed = self.encoder(src)\n",
    "        _, hidden = self.enc_gru(src_embed)\n",
    "\n",
    "        # Decoder\n",
    "        dst_embed = self.decoder(dst)\n",
    "        outputs, _ = self.dec_gru(dst_embed, hidden)\n",
    "        logits = self.fc(outputs)\n",
    "        return logits"
   ]
  },
  {
   "cell_type": "code",
   "execution_count": 103,
   "metadata": {
    "id": "PR9sMfXU9kKx"
   },
   "outputs": [],
   "source": [
    "import matplotlib.pyplot as plt\n",
    "\n",
    "def train_model(model, train_data, src_vocab, dst_vocab, epochs=5, lr=0.001):\n",
    "    loss_fn = nn.CrossEntropyLoss(ignore_index=0)\n",
    "    optimizer = optim.Adam(model.parameters(), lr=lr)\n",
    "    epoch_losses = []\n",
    "\n",
    "    for epoch in range(epochs):\n",
    "        model.train()\n",
    "        start_time = time.time()\n",
    "        epoch_loss = 0\n",
    "\n",
    "        for item in train_data:\n",
    "            src = torch.tensor(encode(item[\"src\"], src_vocab), dtype=torch.long).unsqueeze(0)\n",
    "            dst = torch.tensor(encode(item[\"dst\"], dst_vocab), dtype=torch.long).unsqueeze(0)\n",
    "            target = dst[:, 1:]\n",
    "\n",
    "            logits = model(src, dst[:, :-1])\n",
    "            loss = loss_fn(logits.reshape(-1, dst_vocab_size), target.reshape(-1))\n",
    "            optimizer.zero_grad()\n",
    "            loss.backward()\n",
    "            optimizer.step()\n",
    "\n",
    "            epoch_loss += loss.item()\n",
    "\n",
    "        epoch_losses.append(epoch_loss)\n",
    "        end_time = time.time()\n",
    "        print(f\"Epoch {epoch + 1}/{epochs}, Loss: {epoch_loss:.4f}, Time: {end_time - start_time:.2f}s\")\n",
    "\n",
    "    # Построение графика\n",
    "    plt.plot(range(1, epochs + 1), epoch_losses)\n",
    "    plt.xlabel(\"Epoch\")\n",
    "    plt.ylabel(\"Loss\")\n",
    "    plt.title(\"Training Loss Over Epochs\")\n",
    "    plt.show()\n"
   ]
  },
  {
   "cell_type": "code",
   "execution_count": 104,
   "metadata": {
    "id": "B1sNk8VI9lTZ"
   },
   "outputs": [],
   "source": [
    "\n",
    "# 6. Инференс\n",
    "def translate(model, sentence, src_vocab, dst_vocab, max_len=50):\n",
    "    model.eval()\n",
    "    src = torch.tensor(encode(sentence, src_vocab), dtype=torch.long).unsqueeze(0)\n",
    "    with torch.no_grad():\n",
    "        _, hidden = model.enc_gru(model.encoder(src))\n",
    "        dec_input = torch.tensor([[dst_vocab[\"<SOS>\"]]], dtype=torch.long)\n",
    "        output_sentence = []\n",
    "        for _ in range(max_len):\n",
    "            dec_embed = model.decoder(dec_input)\n",
    "            output, hidden = model.dec_gru(dec_embed, hidden)\n",
    "            logits = model.fc(output.squeeze(1))\n",
    "            token = logits.argmax(1).item()\n",
    "            if token == dst_vocab[\"<EOS>\"]:\n",
    "                break\n",
    "            output_sentence.append(token)\n",
    "            dec_input = torch.tensor([[token]], dtype=torch.long)\n",
    "    return \"\".join([dst_rev_vocab[token] for token in output_sentence])\n"
   ]
  },
  {
   "cell_type": "code",
   "execution_count": 105,
   "metadata": {
    "id": "DVcbHAR_9nJs"
   },
   "outputs": [],
   "source": [
    "\n",
    "# 7. Оценка BLEU\n",
    "def evaluate_bleu(model, val_data, src_vocab, dst_vocab):\n",
    "    predictions = []\n",
    "    references = []\n",
    "\n",
    "    for item in val_data:\n",
    "        src_sentence = item[\"src\"]\n",
    "        ref_sentence = item[\"dst\"]\n",
    "\n",
    "        # Генерация перевода\n",
    "        predicted_sentence = translate(model, src_sentence, src_vocab, dst_vocab)\n",
    "\n",
    "        predictions.append(predicted_sentence)\n",
    "        references.append([ref_sentence])  # BLEU ожидает список референсов\n",
    "\n",
    "    # Вычисление BLEU\n",
    "    bleu = sacrebleu.corpus_bleu(predictions, references)\n",
    "    print(f\"BLEU Score: {bleu.score:.2f}\")\n",
    "    return bleu.score\n"
   ]
  },
  {
   "cell_type": "code",
   "execution_count": 106,
   "metadata": {
    "colab": {
     "base_uri": "https://localhost:8080/",
     "height": 555
    },
    "id": "J0JAkRqq9o4M",
    "outputId": "73ba237e-be80-4a01-860a-9b5a671154c7"
   },
   "outputs": [
    {
     "name": "stdout",
     "output_type": "stream",
     "text": [
      "Epoch 1/5, Loss: 2249.1491, Time: 55.44s\n",
      "Epoch 2/5, Loss: 1843.3931, Time: 55.39s\n",
      "Epoch 3/5, Loss: 1660.5182, Time: 53.92s\n",
      "Epoch 4/5, Loss: 1513.1387, Time: 54.63s\n",
      "Epoch 5/5, Loss: 1380.1435, Time: 53.53s\n"
     ]
    },
    {
     "data": {
      "image/png": "[encoded data removed]",
      "text/plain": [
       "<Figure size 640x480 with 1 Axes>"
      ]
     },
     "metadata": {},
     "output_type": "display_data"
    }
   ],
   "source": [
    "embed_size = 128\n",
    "hidden_size = 256\n",
    "model = Seq2Seq(src_vocab_size, dst_vocab_size, embed_size, hidden_size)\n",
    "\n",
    "train_model(model, train_data, src_vocab, dst_vocab, epochs=5)\n",
    "bleu_score = evaluate_bleu(model, val_data, src_vocab, dst_vocab)"
   ]
  },
  {
   "cell_type": "code",
   "execution_count": null,
   "metadata": {
    "colab": {
     "base_uri": "https://localhost:8080/"
    },
    "id": "g-d1euZc7f4V",
    "outputId": "7dc61790-2a56-4959-8a41-796b68905405"
   },
   "outputs": [
    {
     "name": "stdout",
     "output_type": "stream",
     "text": [
      "Переводы сохранены в файл test_translations.jsonl в заданном формате.\n"
     ]
    }
   ],
   "source": [
    "# Перевод тестовых данных с сохранением в нужном формате\n",
    "test_data = load_data(\"3/alien_translation/test_no_reference.jsonl\")\n",
    "\n",
    "with open(\"test_translations.jsonl\", \"w\", encoding=\"utf-8\") as f:\n",
    "    for item in test_data:\n",
    "        src_sentence = item[\"src\"]\n",
    "        translation = translate(model, src_sentence, src_vocab, dst_vocab)\n",
    "        # Меняем порядок ключей, как требуется\n",
    "        json.dump({\"dst\": translation, \"src\": src_sentence}, f, ensure_ascii=False)  # ensure_ascii=False для читаемости\n",
    "        f.write(\"\\n\")\n",
    "\n",
    "print(\"Переводы сохранены в файл test_translations.jsonl в заданном формате.\")\n"
   ]
  },
  {
   "cell_type": "code",
   "execution_count": 118,
   "metadata": {
    "colab": {
     "base_uri": "https://localhost:8080/"
    },
    "id": "amNgFV-4AyiS",
    "outputId": "ef7399ea-5b58-423b-c3d5-a32618736612"
   },
   "outputs": [
    {
     "name": "stdout",
     "output_type": "stream",
     "text": [
      "ow you can the fuck of a bitch.\n"
     ]
    }
   ],
   "source": [
    "test_sentence = \"▤◧◞◪▦◞▫◪◗▦\"\n",
    "print(translate(model, test_sentence, src_vocab, dst_vocab))"
   ]
  },
  {
   "cell_type": "code",
   "execution_count": 119,
   "metadata": {
    "colab": {
     "base_uri": "https://localhost:8080/"
    },
    "id": "Dw53c6oUCb_O",
    "outputId": "4890d352-0d55-4d67-b386-a2ef5cd3f8ae"
   },
   "outputs": [
    {
     "name": "stdout",
     "output_type": "stream",
     "text": [
      "Source (src): ◲▦◠▦◬▦■ ◉◗▢◕◗ ◍◗▱◎ ▽◠▽▪▦◠ ◕▴◉◗▦▼▴ ◀◗◓◉◧▨ ◎▴◞◠▸ ◠▱◈▪▨ ◚◪ ◀◨ ◎◪◞◠▸▱◠◓◬▦ ◀◠▢▪▱◠◓▪ ▻◪▨ ◈◂◞▫◉◠ ◈▴◐◫▱◈◗▵\n",
      "Target (dst): ow have to be the beginning the becort.\n",
      "\n",
      "Source (src): ▯▴▥ ◟◧◓▨▱◨ ◀◫◓ ◈◠◈◬■ ◉◂▼◨◐◨▦ ◠▦▦◪◞◗▦◗▦ ▽◠▢◈◬◐▪ ◚◪ ◳◠▦▱▪◒▱▪▨▱◠ ▨▴▦◈◗◞◗▦▴ ◕◣▦◈▴◓◈◗◐◫■ \"◀◫◓ ◞◫◳◠▷◗ ◈◠▷◠\" ◳◠▢◠▦ ◀◗◓ ◎▴◞◠▸◈◠▦ ◞◧▦◓◠ ▨◪▦◈◫◞◗▦◪ ◠◳◓▪◎▼◬▱◬▨ ◳◠▻▪▱◈▪◐▪ ◚◪ ◗◒◫▦◈◪▦ ▨◂◚◨▱◈▾◐▾ ◫◉◫▦ ◉◗◍▫▴ ◈◠◚◠ ◠◉◬▽◂◓▵\n",
      "Target (dst): oney?\n",
      "\n",
      "Source (src): ◡◠▻◧▦ ◂▫◧◎◂◀◗▱ ◍◗◓◎◠◞◬ ◠▦▱◠◒◎◠◞▪▢ ◝◓▴▹◗▫ ◈◨◓▾◎▾▦◈◠ ◞▪▦◬◓◈◠ ◀◪▨▱▴◎◪ ◞◭◓◪◞◫▦◫▦ ◨▢◠◎◠◞▪▦▪▦ ◫▦◞◠▦▱◠◓▪▦ ◗◒◗▦◫ ▨◠▽◀◪▫◎◪◞◫▦◪ ▦▴◈◪▦ ◂▱◠◀◫▱▴▼▴◐◫▦◫ ◞◇◳▱◪◈◗▵\n",
      "Target (dst): ook you are the real of the bring the becort.\n",
      "\n",
      "Source (src): ◝▾◀◀◠ ▰◠▫◞◂▦ ◚▴ ▰▴◀◀ ▮◫◎▻◞◂▦■ ◞◠◀◠▷ ◂◳▦◠▦◠▦ ◍◂◨◓◀◠▱▱ ◎◠◉▱◠◓▪▦▪▦ ▨◠▷◓◠◎◠▦▪ ▮▴◓◕◫◧ ◆◠◓▼◗◠'▽◬ ◚◪ ○▱▴▹ ▯◂◓▴▦ ◫▱▴ ▴◒▱▴◒▫◗◐◫ ◎◠◉▫◠ ▨◬◞◠ ◞▩◓◪◈◪ ◎◠◐▱▾▻ ▴▫▫◗▵\n",
      "Target (dst):  an are the real of the bring the becort.\n",
      "\n",
      "Source (src): \"○◐▱◠◈◬◐▪▦▪ ◕◣◓◎◪▱◪◓◗▦◪ ◠◞▱◠ ◗▢◫▦ ◚▴◓◎▴■\" ◈◪◈◫ ◀◠▦◠▵\n",
      "Target (dst): ook be the beginning the becort.\n",
      "\n"
     ]
    }
   ],
   "source": [
    "import json\n",
    "\n",
    "# Функция для чтения JSONL и преобразования Unicode-символов в читаемый формат\n",
    "def read_jsonl(file_path):\n",
    "    with open(file_path, 'r', encoding='utf-8') as f:\n",
    "        data = [json.loads(line) for line in f]\n",
    "    return data\n",
    "\n",
    "# Загружаем данные\n",
    "test_translations = read_jsonl(\"test_translations.jsonl\")\n",
    "\n",
    "# Выводим пример для проверки\n",
    "for item in test_translations[:5]:  # Показываем первые 5 записей\n",
    "    print(\"Source (src):\", item[\"src\"])\n",
    "    print(\"Target (dst):\", item[\"dst\"])\n",
    "    print()\n"
   ]
  },
  {
   "cell_type": "code",
   "execution_count": 120,
   "metadata": {
    "id": "QzXBW5bTQp4A"
   },
   "outputs": [],
   "source": [
    "# Сохранение модели после обучения\n",
    "torch.save(model.state_dict(), \"translator_from_alien_to_english.pth\")"
   ]
  },
  {
   "cell_type": "code",
   "execution_count": 121,
   "metadata": {
    "colab": {
     "base_uri": "https://localhost:8080/"
    },
    "id": "sH1NoL8KPlEz",
    "outputId": "132ae0a0-53fa-40da-d31d-7185b744f3a5"
   },
   "outputs": [
    {
     "name": "stdout",
     "output_type": "stream",
     "text": [
      "Перевод: ow baby!\n"
     ]
    },
    {
     "name": "stderr",
     "output_type": "stream",
     "text": [
      "<ipython-input-121-950e7580cf05>:6: FutureWarning: You are using `torch.load` with `weights_only=False` (the current default value), which uses the default pickle module implicitly. It is possible to construct malicious pickle data which will execute arbitrary code during unpickling (See https://github.com/pytorch/pytorch/blob/main/SECURITY.md#untrusted-models for more details). In a future release, the default value for `weights_only` will be flipped to `True`. This limits the functions that could be executed during unpickling. Arbitrary objects will no longer be allowed to be loaded via this mode unless they are explicitly allowlisted by the user via `torch.serialization.add_safe_globals`. We recommend you start setting `weights_only=True` for any use case where you don't have full control of the loaded file. Please open an issue on GitHub for any issues related to this experimental feature.\n",
      "  model.load_state_dict(torch.load(\"translator_from_alien_to_english.pth\"))\n"
     ]
    }
   ],
   "source": [
    "# Загрузка модели в будущем для инференса\n",
    "# Создаём модель с теми же параметрами\n",
    "model = Seq2Seq(src_vocab_size, dst_vocab_size, embed_size, hidden_size)\n",
    "\n",
    "# Загружаем сохранённые параметры\n",
    "model.load_state_dict(torch.load(\"translator_from_alien_to_english.pth\"))\n",
    "model.eval()  # Переводим модель в режим инференса\n",
    "\n",
    "# Пример использования модели для инференса\n",
    "src_sentence = \"◱ ◒◂◍◣◓▩▦ ◗◞◎◗ ▦◪▽◈◫ ▫▴▨◓◠◓ ◞◣▽▱▴◓ ◎◗◞◗▦?\"\n",
    "translation = translate(model, src_sentence, src_vocab, dst_vocab) # Идеальный перевод: What'd you say this driver's name was again?\n",
    "print(f\"Перевод: {translation}\")"
   ]
  },
  {
   "cell_type": "code",
   "execution_count": null,
   "metadata": {
    "id": "XZdigDJiUcw0"
   },
   "outputs": [],
   "source": []
  }
 ],
 "metadata": {
  "colab": {
   "provenance": []
  },
  "kernelspec": {
   "display_name": "Python 3",
   "name": "python3"
  },
  "language_info": {
   "name": "python"
  }
 },
 "nbformat": 4,
 "nbformat_minor": 0
}
