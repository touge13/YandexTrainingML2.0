{
 "cells": [
  {
   "cell_type": "code",
   "execution_count": 6,
   "metadata": {
    "colab": {
     "base_uri": "https://localhost:8080/"
    },
    "id": "Nd00llsC7klu",
    "outputId": "8ee0eb99-0781-496a-9707-a56734050886"
   },
   "outputs": [
    {
     "name": "stdout",
     "output_type": "stream",
     "text": [
      "Requirement already satisfied: sacrebleu in /usr/local/lib/python3.10/dist-packages (2.4.3)\n",
      "Requirement already satisfied: portalocker in /usr/local/lib/python3.10/dist-packages (from sacrebleu) (3.0.0)\n",
      "Requirement already satisfied: regex in /usr/local/lib/python3.10/dist-packages (from sacrebleu) (2024.9.11)\n",
      "Requirement already satisfied: tabulate>=0.8.9 in /usr/local/lib/python3.10/dist-packages (from sacrebleu) (0.9.0)\n",
      "Requirement already satisfied: numpy>=1.17 in /usr/local/lib/python3.10/dist-packages (from sacrebleu) (1.26.4)\n",
      "Requirement already satisfied: colorama in /usr/local/lib/python3.10/dist-packages (from sacrebleu) (0.4.6)\n",
      "Requirement already satisfied: lxml in /usr/local/lib/python3.10/dist-packages (from sacrebleu) (5.3.0)\n"
     ]
    }
   ],
   "source": [
    "!pip install sacrebleu"
   ]
  },
  {
   "cell_type": "code",
   "execution_count": null,
   "metadata": {
    "id": "p7bJpM0e9cjg"
   },
   "outputs": [],
   "source": [
    "import torch\n",
    "import torch.nn as nn\n",
    "import torch.optim as optim\n",
    "from torch.optim.lr_scheduler import ReduceLROnPlateau\n",
    "import torch.nn.functional as F\n",
    "import json\n",
    "import sacrebleu\n",
    "import time\n",
    "import matplotlib.pyplot as plt\n",
    "from google.colab import files"
   ]
  },
  {
   "cell_type": "code",
   "execution_count": null,
   "metadata": {
    "id": "-e1HK1YY9fhu"
   },
   "outputs": [],
   "source": [
    "# 1. Загрузка данных\n",
    "def load_data(file_path, limit=None):\n",
    "    data = []\n",
    "    with open(file_path, 'r', encoding='utf-8') as f:\n",
    "        for i, line in enumerate(f):\n",
    "            if limit and i >= limit:\n",
    "                break\n",
    "            data.append(json.loads(line))\n",
    "    return data\n",
    "\n",
    "# Создание словарей с гарантией добавления служебных токенов\n",
    "def build_vocab(datasets, key):\n",
    "    vocab = {\"<PAD>\": 0, \"<SOS>\": 1, \"<EOS>\": 2, \"<UNK>\": 3}  # Инициализация с служебными токенами\n",
    "    idx = 4  # Начинаем индексацию с 4\n",
    "\n",
    "    for item in datasets:\n",
    "        for char in item[key]:  # Проходим по символам строки\n",
    "            if char not in vocab:\n",
    "                vocab[char] = idx\n",
    "                idx += 1\n",
    "    return vocab, len(vocab)\n",
    "\n",
    "# Объединяем данные для создания словарей\n",
    "train_data = load_data(\"train.jsonl\", limit=10000)\n",
    "val_data = load_data(\"val.jsonl\")\n",
    "all_data = train_data + val_data\n",
    "src_vocab, src_vocab_size = build_vocab(all_data, \"src\")\n",
    "dst_vocab, dst_vocab_size = build_vocab(all_data, \"dst\")\n",
    "\n",
    "# Обратные словари для декодирования\n",
    "src_rev_vocab = {v: k for k, v in src_vocab.items()}\n",
    "dst_rev_vocab = {v: k for k, v in dst_vocab.items()}\n",
    "\n",
    "# 2. Токенизация\n",
    "def encode(sentence, vocab, add_eos=True):\n",
    "    tokens = [vocab.get(char, vocab[\"<UNK>\"]) for char in sentence]  # Используем <UNK> для неизвестных символов\n",
    "    if add_eos:\n",
    "        tokens.append(vocab[\"<EOS>\"])\n",
    "    return tokens\n",
    "\n",
    "# 3. Модель Seq2Seq с GRU\n",
    "class Seq2Seq(nn.Module):\n",
    "    def __init__(self, src_vocab_size, dst_vocab_size, embed_size, hidden_size):\n",
    "        super(Seq2Seq, self).__init__()\n",
    "        self.encoder = nn.Embedding(src_vocab_size, embed_size)\n",
    "        self.decoder = nn.Embedding(dst_vocab_size, embed_size)\n",
    "        self.enc_gru = nn.GRU(embed_size, hidden_size, batch_first=True)\n",
    "        self.dec_gru = nn.GRU(embed_size, hidden_size, batch_first=True)\n",
    "        self.fc = nn.Linear(hidden_size, dst_vocab_size)\n",
    "\n",
    "    def forward(self, src, dst, src_lengths):\n",
    "        # Encoder\n",
    "        src_embed = self.encoder(src)\n",
    "\n",
    "        # Упаковка последовательности перед подачей в GRU\n",
    "        packed_src = nn.utils.rnn.pack_padded_sequence(src_embed, src_lengths, batch_first=True, enforce_sorted=False)\n",
    "        packed_enc_outputs, hidden = self.enc_gru(packed_src)\n",
    "\n",
    "        # Распаковка\n",
    "        enc_outputs, _ = nn.utils.rnn.pad_packed_sequence(packed_enc_outputs, batch_first=True)\n",
    "\n",
    "        # Decoder\n",
    "        dst_embed = self.decoder(dst)\n",
    "        outputs, _ = self.dec_gru(dst_embed, hidden)\n",
    "        logits = self.fc(outputs)\n",
    "        return logits\n",
    "\n",
    "# 4. Оценка BLEU\n",
    "def evaluate_bleu(model, val_data, src_vocab, dst_vocab):\n",
    "    predictions = []\n",
    "    references = []\n",
    "\n",
    "    for item in val_data:\n",
    "        src_sentence = item[\"src\"]\n",
    "        ref_sentence = item[\"dst\"]\n",
    "\n",
    "        # Генерация перевода\n",
    "        predicted_sentence = translate(model, src_sentence, src_vocab, dst_vocab)\n",
    "\n",
    "        predictions.append(predicted_sentence)\n",
    "        references.append([ref_sentence])  # BLEU ожидает список референсов\n",
    "\n",
    "    # Вычисление BLEU\n",
    "    bleu = sacrebleu.corpus_bleu(predictions, references)\n",
    "    return bleu.score\n",
    "\n",
    "# 5. Тренировка модели с автоматическим изменением learning rate\n",
    "def train_model(model, train_data, src_vocab, dst_vocab, epochs=15, lr=9e-5, patience=3):\n",
    "    loss_fn = nn.CrossEntropyLoss(ignore_index=0)\n",
    "    optimizer = optim.Adam(model.parameters(), lr=lr)\n",
    "    scheduler = ReduceLROnPlateau(optimizer, mode='max', factor=0.5, patience=patience, verbose=True)\n",
    "\n",
    "    epoch_losses = []\n",
    "    best_bleu = -1  # Начальное значение BLEU (меньше нуля, так как BLEU не может быть отрицательным)\n",
    "\n",
    "    for epoch in range(epochs):\n",
    "        model.train()\n",
    "        start_time = time.time()\n",
    "        epoch_loss = 0\n",
    "\n",
    "        for item in train_data:\n",
    "            src = torch.tensor(encode(item[\"src\"], src_vocab), dtype=torch.long).unsqueeze(0)\n",
    "            dst = torch.tensor(encode(item[\"dst\"], dst_vocab), dtype=torch.long).unsqueeze(0)\n",
    "            target = dst[:, 1:]\n",
    "\n",
    "            # Определяем длины исходных предложений\n",
    "            src_lengths = torch.tensor([src.size(1)], dtype=torch.long)\n",
    "\n",
    "            logits = model(src, dst[:, :-1], src_lengths)\n",
    "            loss = loss_fn(logits.reshape(-1, dst_vocab_size), target.reshape(-1))\n",
    "            optimizer.zero_grad()\n",
    "            loss.backward()\n",
    "            optimizer.step()\n",
    "\n",
    "            epoch_loss += loss.item()\n",
    "\n",
    "        epoch_losses.append(epoch_loss)\n",
    "        end_time = time.time()\n",
    "\n",
    "        # Оценка BLEU на валидационных данных после каждой эпохи\n",
    "        bleu_score = evaluate_bleu(model, val_data, src_vocab, dst_vocab)\n",
    "\n",
    "        print(f\"Epoch {epoch + 1}/{epochs}, Loss: {epoch_loss:.4f}, BLEU Score: {bleu_score:.2f}, Time: {end_time - start_time:.2f}s\")\n",
    "\n",
    "        # Сохранение модели, если BLEU улучшился\n",
    "        if bleu_score > best_bleu:\n",
    "            best_bleu = bleu_score\n",
    "            torch.save(model.state_dict(), \"best_model.pth\")\n",
    "            print(\"Сохранена лучшая модель с BLEU:\", bleu_score)\n",
    "\n",
    "        # Обновление learning rate, если BLEU не улучшился\n",
    "        scheduler.step(bleu_score)\n",
    "\n",
    "    # Построение графика\n",
    "    plt.plot(range(1, epochs + 1), epoch_losses)\n",
    "    plt.xlabel(\"Epoch\")\n",
    "    plt.ylabel(\"Loss\")\n",
    "    plt.title(\"Training Loss Over Epochs\")\n",
    "    plt.show()\n",
    "\n",
    "# 6. Инференс\n",
    "def translate(model, sentence, src_vocab, dst_vocab, max_len=50):\n",
    "    model.eval()\n",
    "    src = torch.tensor(encode(sentence, src_vocab), dtype=torch.long).unsqueeze(0)\n",
    "    src_lengths = torch.tensor([src.size(1)], dtype=torch.long)\n",
    "    with torch.no_grad():\n",
    "        _, hidden = model.enc_gru(model.encoder(src))\n",
    "        dec_input = torch.tensor([[dst_vocab[\"<SOS>\"]]], dtype=torch.long)\n",
    "        output_sentence = []\n",
    "        for _ in range(max_len):\n",
    "            dec_embed = model.decoder(dec_input)\n",
    "            output, hidden = model.dec_gru(dec_embed, hidden)\n",
    "            logits = model.fc(output.squeeze(1))\n",
    "            token = logits.argmax(1).item()\n",
    "            if token == dst_vocab[\"<EOS>\"]:\n",
    "                break\n",
    "            output_sentence.append(token)\n",
    "            dec_input = torch.tensor([[token]], dtype=torch.long)\n",
    "    return \"\".join([dst_rev_vocab[token] for token in output_sentence])\n"
   ]
  },
  {
   "cell_type": "code",
   "execution_count": 9,
   "metadata": {
    "colab": {
     "base_uri": "https://localhost:8080/",
     "height": 832
    },
    "id": "J0JAkRqq9o4M",
    "outputId": "ba4b420b-e847-451f-e548-39dbdc50b3af"
   },
   "outputs": [
    {
     "name": "stderr",
     "output_type": "stream",
     "text": [
      "/usr/local/lib/python3.10/dist-packages/torch/optim/lr_scheduler.py:62: UserWarning: The verbose parameter is deprecated. Please use get_last_lr() to access the learning rate.\n",
      "  warnings.warn(\n"
     ]
    },
    {
     "name": "stdout",
     "output_type": "stream",
     "text": [
      "Epoch 1/15, Loss: 21250.2167, BLEU Score: 15.97, Time: 539.16s\n",
      "Сохранена лучшая модель с BLEU: 15.97357760615681\n",
      "Epoch 2/15, Loss: 17505.6116, BLEU Score: 12.14, Time: 531.35s\n",
      "Epoch 3/15, Loss: 16226.5517, BLEU Score: 6.57, Time: 523.77s\n",
      "Epoch 4/15, Loss: 15436.2300, BLEU Score: 6.57, Time: 533.28s\n",
      "Epoch 5/15, Loss: 14866.0453, BLEU Score: 6.57, Time: 524.94s\n",
      "Epoch 6/15, Loss: 14398.8120, BLEU Score: 18.08, Time: 521.87s\n",
      "Сохранена лучшая модель с BLEU: 18.079276125727674\n",
      "Epoch 7/15, Loss: 14159.2577, BLEU Score: 18.08, Time: 512.15s\n",
      "Epoch 8/15, Loss: 13954.9673, BLEU Score: 23.46, Time: 525.33s\n",
      "Сохранена лучшая модель с BLEU: 23.462350320528007\n",
      "Epoch 9/15, Loss: 13765.7076, BLEU Score: 14.81, Time: 521.71s\n",
      "Epoch 10/15, Loss: 13588.6395, BLEU Score: 14.81, Time: 514.56s\n",
      "Epoch 11/15, Loss: 13421.0320, BLEU Score: 11.84, Time: 526.68s\n",
      "Epoch 12/15, Loss: 13261.4344, BLEU Score: 14.15, Time: 518.60s\n",
      "Epoch 13/15, Loss: 13066.3315, BLEU Score: 18.00, Time: 516.18s\n",
      "Epoch 14/15, Loss: 12973.7445, BLEU Score: 18.00, Time: 520.39s\n",
      "Epoch 15/15, Loss: 12892.1516, BLEU Score: 20.94, Time: 516.96s\n"
     ]
    },
    {
     "data": {
      "image/png": "[encoded data removed]",
      "text/plain": [
       "<Figure size 640x480 with 1 Axes>"
      ]
     },
     "metadata": {},
     "output_type": "display_data"
    }
   ],
   "source": [
    "# Загрузка и тренировка модели\n",
    "embed_size = 128\n",
    "hidden_size = 256\n",
    "model = Seq2Seq(src_vocab_size, dst_vocab_size, embed_size, hidden_size)\n",
    "\n",
    "train_model(model, train_data, src_vocab, dst_vocab)\n",
    "\n",
    "# Оценка BLEU на валидации\n",
    "bleu_score = evaluate_bleu(model, val_data, src_vocab, dst_vocab)"
   ]
  },
  {
   "cell_type": "code",
   "execution_count": null,
   "metadata": {
    "colab": {
     "base_uri": "https://localhost:8080/"
    },
    "id": "g-d1euZc7f4V",
    "outputId": "06c1a52f-cb64-46aa-b399-98e3d24da576"
   },
   "outputs": [
    {
     "name": "stdout",
     "output_type": "stream",
     "text": [
      "Переводы сохранены в файл test_translations.jsonl.\n"
     ]
    },
    {
     "name": "stderr",
     "output_type": "stream",
     "text": [
      "<ipython-input-10-435d1449b489>:13: FutureWarning: You are using `torch.load` with `weights_only=False` (the current default value), which uses the default pickle module implicitly. It is possible to construct malicious pickle data which will execute arbitrary code during unpickling (See https://github.com/pytorch/pytorch/blob/main/SECURITY.md#untrusted-models for more details). In a future release, the default value for `weights_only` will be flipped to `True`. This limits the functions that could be executed during unpickling. Arbitrary objects will no longer be allowed to be loaded via this mode unless they are explicitly allowlisted by the user via `torch.serialization.add_safe_globals`. We recommend you start setting `weights_only=True` for any use case where you don't have full control of the loaded file. Please open an issue on GitHub for any issues related to this experimental feature.\n",
      "  model.load_state_dict(torch.load(\"best_model.pth\"))\n"
     ]
    },
    {
     "data": {
      "text/plain": [
       "Seq2Seq(\n",
       "  (encoder): Embedding(130, 128)\n",
       "  (decoder): Embedding(116, 128)\n",
       "  (enc_gru): GRU(128, 256, batch_first=True)\n",
       "  (dec_gru): GRU(128, 256, batch_first=True)\n",
       "  (fc): Linear(in_features=256, out_features=116, bias=True)\n",
       ")"
      ]
     },
     "execution_count": 10,
     "metadata": {},
     "output_type": "execute_result"
    }
   ],
   "source": [
    "# Сохранение переведённых данных\n",
    "test_data = load_data(\"test_no_reference.jsonl\")\n",
    "with open(\"test_translations.jsonl\", \"w\", encoding=\"utf-8\") as f:\n",
    "    for item in test_data:\n",
    "        src_sentence = item[\"src\"]\n",
    "        translation = translate(model, src_sentence, src_vocab, dst_vocab)\n",
    "        json.dump({\"dst\": translation, \"src\": src_sentence}, f, ensure_ascii=False)\n",
    "        f.write(\"\\n\")\n",
    "\n",
    "print(\"Переводы сохранены в файл test_translations.jsonl.\")\n",
    "\n",
    "files.download('test_translations.jsonl')\n"
   ]
  },
  {
   "cell_type": "code",
   "execution_count": null,
   "metadata": {
    "colab": {
     "base_uri": "https://localhost:8080/"
    },
    "id": "syg_p2TWOGoV",
    "outputId": "eaa158fa-9882-4aa8-9407-d6f71249f45f"
   },
   "outputs": [
    {
     "name": "stdout",
     "output_type": "stream",
     "text": [
      "Переводы сохранены в файл test_translations_best.jsonl.\n"
     ]
    }
   ],
   "source": [
    "# Загрузка модели для инференса\n",
    "model.load_state_dict(torch.load(\"best_model.pth\"))\n",
    "model.eval()\n",
    "\n",
    "# Сохранение переведённых данных\n",
    "test_data = load_data(\"test_no_reference.jsonl\")\n",
    "with open(\"test_translations_best.jsonl\", \"w\", encoding=\"utf-8\") as f:\n",
    "    for item in test_data:\n",
    "        src_sentence = item[\"src\"]\n",
    "        translation = translate(model, src_sentence, src_vocab, dst_vocab)\n",
    "        json.dump({\"dst\": translation, \"src\": src_sentence}, f, ensure_ascii=False)\n",
    "        f.write(\"\\n\")\n",
    "\n",
    "print(\"Переводы сохранены в файл test_translations_best.jsonl.\")\n",
    "\n",
    "files.download('test_translations_best.jsonl')"
   ]
  }
 ],
 "metadata": {
  "colab": {
   "provenance": []
  },
  "kernelspec": {
   "display_name": "Python 3",
   "name": "python3"
  },
  "language_info": {
   "name": "python"
  }
 },
 "nbformat": 4,
 "nbformat_minor": 0
}
