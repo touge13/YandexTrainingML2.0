{
  "cells": [
    {
      "cell_type": "markdown",
      "metadata": {
        "id": "nTSf4ro-qU0d"
      },
      "source": [
        "## Бонусное задание: word2vec на PyTorch\n",
        "\n",
        "Как вы уже могли заметить, идея, лежащая в основе [word2vec](https://arxiv.org/pdf/1310.4546), достаточно общая. В данном задании вы реализуете его самостоятельно.\n",
        "\n",
        "Дисклеймер: не стоит удивляться тому, что реализация от `gensim` (или аналоги) обучается быстрее и работает точнее. Она использует множество доработок и ускорений, а также достаточно эффективный код. Ваша задача добиться промежуточных результатов за разумное время.\n",
        "\n",
        "P.s. Как ни странно, GPU в этом задании нам не потребуется."
      ]
    },
    {
      "cell_type": "markdown",
      "metadata": {
        "id": "MxLJ3S1CzgbS"
      },
      "source": [
        "__Requirements:__ if you're running locally, in the selected environment run the following command:\n",
        "\n",
        "```pip install --upgrade nltk bokeh umap-learn```\n"
      ]
    },
    {
      "cell_type": "code",
      "execution_count": 3,
      "metadata": {
        "colab": {
          "base_uri": "https://localhost:8080/"
        },
        "id": "Oipe2DU8qfm7",
        "outputId": "cb3c9d2b-fbce-44c8-81ce-159490f94dcb"
      },
      "outputs": [
        {
          "name": "stdout",
          "output_type": "stream",
          "text": [
            "Requirement already satisfied: nltk in /usr/local/lib/python3.10/dist-packages (3.9.1)\n",
            "Requirement already satisfied: bokeh in /usr/local/lib/python3.10/dist-packages (3.6.0)\n",
            "Requirement already satisfied: umap-learn in /usr/local/lib/python3.10/dist-packages (0.5.7)\n",
            "Requirement already satisfied: click in /usr/local/lib/python3.10/dist-packages (from nltk) (8.1.7)\n",
            "Requirement already satisfied: joblib in /usr/local/lib/python3.10/dist-packages (from nltk) (1.4.2)\n",
            "Requirement already satisfied: regex>=2021.8.3 in /usr/local/lib/python3.10/dist-packages (from nltk) (2024.9.11)\n",
            "Requirement already satisfied: tqdm in /usr/local/lib/python3.10/dist-packages (from nltk) (4.66.5)\n",
            "Requirement already satisfied: Jinja2>=2.9 in /usr/local/lib/python3.10/dist-packages (from bokeh) (3.1.4)\n",
            "Requirement already satisfied: contourpy>=1.2 in /usr/local/lib/python3.10/dist-packages (from bokeh) (1.3.0)\n",
            "Requirement already satisfied: numpy>=1.16 in /usr/local/lib/python3.10/dist-packages (from bokeh) (1.26.4)\n",
            "Requirement already satisfied: packaging>=16.8 in /usr/local/lib/python3.10/dist-packages (from bokeh) (24.1)\n",
            "Requirement already satisfied: pandas>=1.2 in /usr/local/lib/python3.10/dist-packages (from bokeh) (2.2.2)\n",
            "Requirement already satisfied: pillow>=7.1.0 in /usr/local/lib/python3.10/dist-packages (from bokeh) (10.4.0)\n",
            "Requirement already satisfied: PyYAML>=3.10 in /usr/local/lib/python3.10/dist-packages (from bokeh) (6.0.2)\n",
            "Requirement already satisfied: tornado>=6.2 in /usr/local/lib/python3.10/dist-packages (from bokeh) (6.3.3)\n",
            "Requirement already satisfied: xyzservices>=2021.09.1 in /usr/local/lib/python3.10/dist-packages (from bokeh) (2024.9.0)\n",
            "Requirement already satisfied: scipy>=1.3.1 in /usr/local/lib/python3.10/dist-packages (from umap-learn) (1.13.1)\n",
            "Requirement already satisfied: scikit-learn>=0.22 in /usr/local/lib/python3.10/dist-packages (from umap-learn) (1.5.2)\n",
            "Requirement already satisfied: numba>=0.51.2 in /usr/local/lib/python3.10/dist-packages (from umap-learn) (0.60.0)\n",
            "Requirement already satisfied: pynndescent>=0.5 in /usr/local/lib/python3.10/dist-packages (from umap-learn) (0.5.13)\n",
            "Requirement already satisfied: MarkupSafe>=2.0 in /usr/local/lib/python3.10/dist-packages (from Jinja2>=2.9->bokeh) (3.0.2)\n",
            "Requirement already satisfied: llvmlite<0.44,>=0.43.0dev0 in /usr/local/lib/python3.10/dist-packages (from numba>=0.51.2->umap-learn) (0.43.0)\n",
            "Requirement already satisfied: python-dateutil>=2.8.2 in /usr/local/lib/python3.10/dist-packages (from pandas>=1.2->bokeh) (2.8.2)\n",
            "Requirement already satisfied: pytz>=2020.1 in /usr/local/lib/python3.10/dist-packages (from pandas>=1.2->bokeh) (2024.2)\n",
            "Requirement already satisfied: tzdata>=2022.7 in /usr/local/lib/python3.10/dist-packages (from pandas>=1.2->bokeh) (2024.2)\n",
            "Requirement already satisfied: threadpoolctl>=3.1.0 in /usr/local/lib/python3.10/dist-packages (from scikit-learn>=0.22->umap-learn) (3.5.0)\n",
            "Requirement already satisfied: six>=1.5 in /usr/local/lib/python3.10/dist-packages (from python-dateutil>=2.8.2->pandas>=1.2->bokeh) (1.16.0)\n"
          ]
        }
      ],
      "source": [
        "!pip3 install --upgrade nltk bokeh umap-learn"
      ]
    },
    {
      "cell_type": "code",
      "execution_count": 4,
      "metadata": {
        "id": "pqPU4Lu2qU0h"
      },
      "outputs": [],
      "source": [
        "import itertools\n",
        "import random\n",
        "import string\n",
        "from collections import Counter\n",
        "from itertools import chain\n",
        "\n",
        "import matplotlib.pyplot as plt\n",
        "import numpy as np\n",
        "import torch\n",
        "import torch.autograd as autograd\n",
        "import torch.nn as nn\n",
        "import torch.nn.functional as F\n",
        "import torch.optim as optim\n",
        "import umap\n",
        "from IPython.display import clear_output\n",
        "from matplotlib import pyplot as plt\n",
        "from nltk.tokenize import WordPunctTokenizer\n",
        "from torch.optim.lr_scheduler import ReduceLROnPlateau, StepLR\n",
        "from tqdm.auto import tqdm as tqdma"
      ]
    },
    {
      "cell_type": "code",
      "execution_count": 5,
      "metadata": {
        "colab": {
          "base_uri": "https://localhost:8080/"
        },
        "id": "8Fbx57z3qU0i",
        "outputId": "c9357d51-187b-418a-bd68-96a8d3c9a6d9"
      },
      "outputs": [
        {
          "name": "stdout",
          "output_type": "stream",
          "text": [
            "--2024-10-29 15:05:58--  https://www.dropbox.com/s/obaitrix9jyu84r/quora.txt?dl=1\n",
            "Resolving www.dropbox.com (www.dropbox.com)... 162.125.3.18, 2620:100:6031:18::a27d:5112\n",
            "Connecting to www.dropbox.com (www.dropbox.com)|162.125.3.18|:443... connected.\n",
            "HTTP request sent, awaiting response... 302 Found\n",
            "Location: https://www.dropbox.com/scl/fi/p0t2dw6oqs6oxpd6zz534/quora.txt?rlkey=bjupppwua4zmd4elz8octecy9&dl=1 [following]\n",
            "--2024-10-29 15:05:58--  https://www.dropbox.com/scl/fi/p0t2dw6oqs6oxpd6zz534/quora.txt?rlkey=bjupppwua4zmd4elz8octecy9&dl=1\n",
            "Reusing existing connection to www.dropbox.com:443.\n",
            "HTTP request sent, awaiting response... 302 Found\n",
            "Location: https://uc84699326ecd933f0263f0b35e3.dl.dropboxusercontent.com/cd/0/inline/CdXMj-TkI86GTEGALqvoN-XXoXc_G1bmLJlvj2QjgtfNVE2VUCd4_M4VdXc-wCNMY0SDHlCp4P8xiyEHBH-XohCYMD7foRxfjwrRNSI-f8umiFWGXE27QA24Gcl4di9KPnM/file?dl=1# [following]\n",
            "--2024-10-29 15:05:59--  https://uc84699326ecd933f0263f0b35e3.dl.dropboxusercontent.com/cd/0/inline/CdXMj-TkI86GTEGALqvoN-XXoXc_G1bmLJlvj2QjgtfNVE2VUCd4_M4VdXc-wCNMY0SDHlCp4P8xiyEHBH-XohCYMD7foRxfjwrRNSI-f8umiFWGXE27QA24Gcl4di9KPnM/file?dl=1\n",
            "Resolving uc84699326ecd933f0263f0b35e3.dl.dropboxusercontent.com (uc84699326ecd933f0263f0b35e3.dl.dropboxusercontent.com)... 162.125.3.15, 2620:100:6018:15::a27d:30f\n",
            "Connecting to uc84699326ecd933f0263f0b35e3.dl.dropboxusercontent.com (uc84699326ecd933f0263f0b35e3.dl.dropboxusercontent.com)|162.125.3.15|:443... connected.\n",
            "HTTP request sent, awaiting response... 200 OK\n",
            "Length: 33813903 (32M) [application/binary]\n",
            "Saving to: ‘./quora.txt’\n",
            "\n",
            "./quora.txt         100%[===================>]  32.25M  84.7MB/s    in 0.4s    \n",
            "\n",
            "2024-10-29 15:06:00 (84.7 MB/s) - ‘./quora.txt’ saved [33813903/33813903]\n",
            "\n"
          ]
        }
      ],
      "source": [
        "# download the data:\n",
        "!wget https://www.dropbox.com/s/obaitrix9jyu84r/quora.txt?dl=1 -O ./quora.txt -nc\n",
        "# alternative download link: https://yadi.sk/i/BPQrUu1NaTduEw"
      ]
    },
    {
      "cell_type": "code",
      "execution_count": 6,
      "metadata": {
        "colab": {
          "base_uri": "https://localhost:8080/",
          "height": 56
        },
        "id": "8EYy5dQpqU0i",
        "outputId": "4529db13-369b-4c1d-ac02-56503cbecd4d",
        "scrolled": false
      },
      "outputs": [
        {
          "data": {
            "application/vnd.google.colaboratory.intrinsic+json": {
              "type": "string"
            },
            "text/plain": [
              "\"What TV shows or books help you read people's body language?\\n\""
            ]
          },
          "execution_count": 6,
          "metadata": {},
          "output_type": "execute_result"
        }
      ],
      "source": [
        "data = list(open(\"./quora.txt\", encoding=\"utf-8\"))\n",
        "data[50]"
      ]
    },
    {
      "cell_type": "markdown",
      "metadata": {
        "id": "feBEGI2eqU0j"
      },
      "source": [
        "Токенизация – первый шаг.\n",
        "Тексты, с которыми мы работаем, включают в себя пунктуацию, смайлики и прочие нестандартные токены, так что простой `str.split` не подойдет.\n",
        "\n",
        "Обратимся к `nltk` - библиотеку, нашла широкое применеие в области NLP."
      ]
    },
    {
      "cell_type": "code",
      "execution_count": 7,
      "metadata": {
        "colab": {
          "base_uri": "https://localhost:8080/"
        },
        "id": "7mWTvm50qU0j",
        "outputId": "4237d4d4-d8fb-43d8-95cd-33960a44e543"
      },
      "outputs": [
        {
          "name": "stdout",
          "output_type": "stream",
          "text": [
            "['What', 'TV', 'shows', 'or', 'books', 'help', 'you', 'read', 'people', \"'\", 's', 'body', 'language', '?']\n"
          ]
        }
      ],
      "source": [
        "tokenizer = WordPunctTokenizer()\n",
        "\n",
        "print(tokenizer.tokenize(data[50]))"
      ]
    },
    {
      "cell_type": "code",
      "execution_count": 8,
      "metadata": {
        "id": "HzC05EHWqU0j"
      },
      "outputs": [],
      "source": [
        "data_tok = [\n",
        "    tokenizer.tokenize(\n",
        "        line.translate(str.maketrans(\"\", \"\", string.punctuation)).lower()\n",
        "    )\n",
        "    for line in data\n",
        "]\n",
        "data_tok = [x for x in data_tok if len(x) >= 3]"
      ]
    },
    {
      "cell_type": "markdown",
      "metadata": {
        "id": "6azRAgHIqU0k"
      },
      "source": [
        "Несколько проверок:"
      ]
    },
    {
      "cell_type": "code",
      "execution_count": 9,
      "metadata": {
        "id": "Cp8UpxdWqU0k"
      },
      "outputs": [],
      "source": [
        "assert all(\n",
        "    isinstance(row, (list, tuple)) for row in data_tok\n",
        "), \"please convert each line into a list of tokens (strings)\"\n",
        "assert all(\n",
        "    all(isinstance(tok, str) for tok in row) for row in data_tok\n",
        "), \"please convert each line into a list of tokens (strings)\"\n",
        "is_latin = lambda tok: all(\"a\" <= x.lower() <= \"z\" for x in tok)\n",
        "assert all(\n",
        "    map(lambda l: not is_latin(l) or l.islower(), map(\" \".join, data_tok))\n",
        "), \"please make sure to lowercase the data\""
      ]
    },
    {
      "cell_type": "markdown",
      "metadata": {
        "id": "37e7-MIhqU0x"
      },
      "source": [
        "Ниже заданы константы ширины окна контекста и проведена предобработка для построения skip-gram модели."
      ]
    },
    {
      "cell_type": "code",
      "execution_count": 10,
      "metadata": {
        "id": "fugc1IomqU0x"
      },
      "outputs": [],
      "source": [
        "min_count = 5\n",
        "window_radius = 5"
      ]
    },
    {
      "cell_type": "code",
      "execution_count": 11,
      "metadata": {
        "id": "xPsB--NTzgbc"
      },
      "outputs": [],
      "source": [
        "vocabulary_with_counter = Counter(chain.from_iterable(data_tok))\n",
        "\n",
        "word_count_dict = dict()\n",
        "for word, counter in vocabulary_with_counter.items():\n",
        "    if counter >= min_count:\n",
        "        word_count_dict[word] = counter\n",
        "\n",
        "vocabulary = set(word_count_dict.keys())\n",
        "del vocabulary_with_counter"
      ]
    },
    {
      "cell_type": "code",
      "execution_count": 12,
      "metadata": {
        "id": "XqwYLKvYzgbd"
      },
      "outputs": [],
      "source": [
        "word_to_index = {word: index for index, word in enumerate(vocabulary)}\n",
        "index_to_word = {index: word for word, index in word_to_index.items()}"
      ]
    },
    {
      "cell_type": "markdown",
      "metadata": {
        "id": "4Y8rlBfqqU0x"
      },
      "source": [
        "Пары `(слово, контекст)` на основе доступного датасета сгенерированы ниже."
      ]
    },
    {
      "cell_type": "code",
      "execution_count": 13,
      "metadata": {
        "colab": {
          "base_uri": "https://localhost:8080/"
        },
        "id": "h2-aqyyaqU0x",
        "outputId": "32e8d341-cd33-4d74-c950-0454df0c7b5b"
      },
      "outputs": [
        {
          "name": "stdout",
          "output_type": "stream",
          "text": [
            "Generated 40220313 pairs of target and context words.\n"
          ]
        }
      ],
      "source": [
        "context_pairs = []\n",
        "\n",
        "for text in data_tok:\n",
        "    for i, central_word in enumerate(text):\n",
        "        context_indices = range(\n",
        "            max(0, i - window_radius), min(i + window_radius, len(text))\n",
        "        )\n",
        "        for j in context_indices:\n",
        "            if j == i:\n",
        "                continue\n",
        "            context_word = text[j]\n",
        "            if central_word in vocabulary and context_word in vocabulary:\n",
        "                context_pairs.append(\n",
        "                    (word_to_index[central_word], word_to_index[context_word])\n",
        "                )\n",
        "\n",
        "print(f\"Generated {len(context_pairs)} pairs of target and context words.\")"
      ]
    },
    {
      "cell_type": "markdown",
      "metadata": {
        "id": "UezodHpazgbh"
      },
      "source": [
        "#### Подзадача №1: subsampling\n",
        "Для того, чтобы сгладить разницу в частоте встречаемсости слов, необходимо реализовать механизм subsampling'а.\n",
        "Для этого вам необходимо реализовать функцию ниже.\n",
        "\n",
        "Вероятность **исключить** слово из обучения (на фиксированном шаге) вычисляется как\n",
        "$$\n",
        "P_\\text{drop}(w_i)=1 - \\sqrt{\\frac{t}{f(w_i)}},\n",
        "$$\n",
        "где $f(w_i)$ – нормированная частота встречаемости слова, а $t$ – заданный порог (threshold)."
      ]
    },
    {
      "cell_type": "code",
      "execution_count": 14,
      "metadata": {
        "id": "QePPwSt9zgbi"
      },
      "outputs": [],
      "source": [
        "def subsample_frequent_words(word_count_dict, threshold=1e-5):\n",
        "    \"\"\"\n",
        "    Calculates the subsampling probabilities for words based on their frequencies.\n",
        "\n",
        "    This function is used to determine the probability of keeping a word in the dataset\n",
        "    when subsampling frequent words. The method used is inspired by the subsampling approach\n",
        "    in Word2Vec, where each word's frequency affects its probability of being kept.\n",
        "\n",
        "    Parameters:\n",
        "    - word_count_dict (dict): A dictionary where keys are words and values are the counts of those words.\n",
        "    - threshold (float, optional): A threshold parameter used to adjust the frequency of word subsampling.\n",
        "                                   Defaults to 1e-5.\n",
        "\n",
        "    Returns:\n",
        "    - dict: A dictionary where keys are words and values are the probabilities of keeping each word.\n",
        "\n",
        "    Example:\n",
        "    >>> word_counts = {'the': 5000, 'is': 1000, 'apple': 50}\n",
        "    >>> subsample_frequent_words(word_counts)\n",
        "    {'the': 0.028, 'is': 0.223, 'apple': 1.0}\n",
        "    \"\"\"\n",
        "\n",
        "    total_count = sum(word_count_dict.values())\n",
        "    keep_prob_dict = {}\n",
        "    for word, count in word_count_dict.items():\n",
        "        freq = count / total_count\n",
        "        keep_prob_dict[word] = min(1.0, (threshold / freq) ** 0.5)\n",
        "\n",
        "    return keep_prob_dict"
      ]
    },
    {
      "cell_type": "markdown",
      "metadata": {
        "id": "7ZJU5GgXzgbj"
      },
      "source": [
        "#### Подзадача №2: negative sampling\n",
        "Для более эффективного обучения необходимо не только предсказывать высокие вероятности для слов из контекста, но и предсказывать низкие для слов, не встреченных в контексте. Для этого вам необходимо вычислить вероятност использовать слово в качестве negative sample, реализовав функцию ниже.\n",
        "\n",
        "В оригинальной статье предлагается оценивать вероятность слов выступать в качестве negative sample согласно распределению $P_n(w)$\n",
        "$$\n",
        "P_n(w) = \\frac{U(w)^{3/4}}{Z},\n",
        "$$\n",
        "\n",
        "где $U(w)$ распределение слов по частоте (или, как его еще называют, по униграммам), а $Z$ – нормировочная константа, чтобы общая мера была равна $1$."
      ]
    },
    {
      "cell_type": "code",
      "execution_count": 15,
      "metadata": {
        "id": "omsNDDzczgbk"
      },
      "outputs": [],
      "source": [
        "def get_negative_sampling_prob(word_count_dict):\n",
        "    \"\"\"\n",
        "    Calculates the negative sampling probabilities for words based on their frequencies.\n",
        "\n",
        "    This function adjusts the frequency of each word raised to the power of 0.75, which is\n",
        "    commonly used in algorithms like Word2Vec to moderate the influence of very frequent words.\n",
        "    It then normalizes these adjusted frequencies to ensure they sum to 1, forming a probability\n",
        "    distribution used for negative sampling.\n",
        "\n",
        "    Parameters:\n",
        "    - word_count_dict (dict): A dictionary where keys are words and values are the counts of those words.\n",
        "\n",
        "    Returns:\n",
        "    - dict: A dictionary where keys are words and values are the probabilities of selecting each word\n",
        "            for negative sampling.\n",
        "\n",
        "    Example:\n",
        "    >>> word_counts = {'the': 5000, 'is': 1000, 'apple': 50}\n",
        "    >>> get_negative_sampling_prob(word_counts)\n",
        "    {'the': 0.298, 'is': 0.160, 'apple': 0.042}\n",
        "    \"\"\"\n",
        "\n",
        "    adjusted_freq_dict = {word: count ** 0.75 for word, count in word_count_dict.items()}\n",
        "    Z = sum(adjusted_freq_dict.values())\n",
        "    negative_sampling_prob_dict = {word: adjusted_freq / Z for word, adjusted_freq in adjusted_freq_dict.items()}\n",
        "\n",
        "    return negative_sampling_prob_dict"
      ]
    },
    {
      "cell_type": "markdown",
      "metadata": {
        "id": "Xbf6akgjzgbl"
      },
      "source": [
        "Для удобства, преобразуем полученные словари в массивы (т.к. все слова все равно уже пронумерованы)."
      ]
    },
    {
      "cell_type": "code",
      "execution_count": 16,
      "metadata": {
        "id": "RLcuUwgxzgbl"
      },
      "outputs": [],
      "source": [
        "keep_prob_dict = subsample_frequent_words(word_count_dict)\n",
        "assert keep_prob_dict.keys() == word_count_dict.keys()"
      ]
    },
    {
      "cell_type": "code",
      "execution_count": 17,
      "metadata": {
        "id": "OSBqHSVczgbm"
      },
      "outputs": [],
      "source": [
        "negative_sampling_prob_dict = get_negative_sampling_prob(word_count_dict)\n",
        "assert negative_sampling_prob_dict.keys() == negative_sampling_prob_dict.keys()\n",
        "assert np.allclose(sum(negative_sampling_prob_dict.values()), 1)"
      ]
    },
    {
      "cell_type": "code",
      "execution_count": 18,
      "metadata": {
        "id": "P2AoKpJTzgbm"
      },
      "outputs": [],
      "source": [
        "keep_prob_array = np.array(\n",
        "    [keep_prob_dict[index_to_word[idx]] for idx in range(len(word_to_index))]\n",
        ")\n",
        "negative_sampling_prob_array = np.array(\n",
        "    [\n",
        "        negative_sampling_prob_dict[index_to_word[idx]]\n",
        "        for idx in range(len(word_to_index))\n",
        "    ]\n",
        ")"
      ]
    },
    {
      "cell_type": "markdown",
      "metadata": {
        "id": "-aPxU_cDzgbn"
      },
      "source": [
        "Если все прошло успешно, функция ниже поможет вам с генерацией подвыборок (батчей)."
      ]
    },
    {
      "cell_type": "code",
      "execution_count": 19,
      "metadata": {
        "id": "zqF_DovOzgbn"
      },
      "outputs": [],
      "source": [
        "def generate_batch_with_neg_samples(\n",
        "    context_pairs,\n",
        "    batch_size,\n",
        "    keep_prob_array,\n",
        "    word_to_index,\n",
        "    num_negatives,\n",
        "    negative_sampling_prob_array,\n",
        "):\n",
        "    batch = []\n",
        "    neg_samples = []\n",
        "\n",
        "    while len(batch) < batch_size:\n",
        "        center, context = random.choice(context_pairs)\n",
        "        if random.random() < keep_prob_array[center]:\n",
        "            batch.append((center, context))\n",
        "            neg_sample = np.random.choice(\n",
        "                range(len(negative_sampling_prob_array)),\n",
        "                size=num_negatives,\n",
        "                p=negative_sampling_prob_array,\n",
        "            )\n",
        "            neg_samples.append(neg_sample)\n",
        "    batch = np.array(batch)\n",
        "    neg_samples = np.vstack(neg_samples)\n",
        "    return batch, neg_samples"
      ]
    },
    {
      "cell_type": "code",
      "execution_count": 20,
      "metadata": {
        "id": "duB6-fgszgbo"
      },
      "outputs": [],
      "source": [
        "batch_size = 4\n",
        "num_negatives = 15\n",
        "batch, neg_samples = generate_batch_with_neg_samples(\n",
        "    context_pairs,\n",
        "    batch_size,\n",
        "    keep_prob_array,\n",
        "    word_to_index,\n",
        "    num_negatives,\n",
        "    negative_sampling_prob_array,\n",
        ")"
      ]
    },
    {
      "cell_type": "markdown",
      "metadata": {
        "id": "l-aCRoRTzgbo"
      },
      "source": [
        "Наконец, время реализовать модель. Обращаем ваше внимание, использование линейных слоев (`nn.Linear`) далеко не всегда оправданно!\n",
        "\n",
        "Напомним, что в случае negative sampling решается задача максимизации следующего функционала:\n",
        "\n",
        "$$\n",
        "\\mathcal{L} = \\log \\sigma({\\mathbf{v}'_{w_O}}^\\top \\mathbf{v}_{w_I}) + \\sum_{i=1}^{k} \\mathbb{E}_{w_i \\sim P_n(w)} \\left[ \\log \\sigma({-\\mathbf{v}'_{w_i}}^\\top \\mathbf{v}_{w_I}) \\right],\n",
        "$$\n",
        "\n",
        "где:\n",
        "- $\\mathbf{v}_{w_I}$ – вектор центрального слова $w_I$,\n",
        "- $\\mathbf{v}'_{w_O}$ – вектор слова из контекста $w_O$,\n",
        "- $k$ – число negative samplesЮ,\n",
        "- $P_n(w)$ – распределение negative samples, заданное выше,\n",
        "- $\\sigma$ – сигмоида."
      ]
    },
    {
      "cell_type": "code",
      "execution_count": 4,
      "metadata": {
        "id": "6Y4eJlddzgbp"
      },
      "outputs": [
        {
          "ename": "NameError",
          "evalue": "name 'nn' is not defined",
          "output_type": "error",
          "traceback": [
            "\u001b[0;31m---------------------------------------------------------------------------\u001b[0m",
            "\u001b[0;31mNameError\u001b[0m                                 Traceback (most recent call last)",
            "Cell \u001b[0;32mIn[4], line 1\u001b[0m\n\u001b[0;32m----> 1\u001b[0m \u001b[38;5;28;01mclass\u001b[39;00m \u001b[38;5;21;01mSkipGramModelWithNegSampling\u001b[39;00m(\u001b[43mnn\u001b[49m\u001b[38;5;241m.\u001b[39mModule):\n\u001b[1;32m      2\u001b[0m     \u001b[38;5;28;01mdef\u001b[39;00m \u001b[38;5;21m__init__\u001b[39m(\u001b[38;5;28mself\u001b[39m, vocab_size, embedding_dim):\n\u001b[1;32m      3\u001b[0m         \u001b[38;5;28msuper\u001b[39m(SkipGramModelWithNegSampling, \u001b[38;5;28mself\u001b[39m)\u001b[38;5;241m.\u001b[39m\u001b[38;5;21m__init__\u001b[39m()\n",
            "\u001b[0;31mNameError\u001b[0m: name 'nn' is not defined"
          ]
        }
      ],
      "source": [
        "class SkipGramModelWithNegSampling(nn.Module):\n",
        "    def __init__(self, vocab_size, embedding_dim):\n",
        "        super(SkipGramModelWithNegSampling, self).__init__()\n",
        "        self.center_embeddings = nn.Embedding(vocab_size, embedding_dim)\n",
        "        self.context_embeddings = nn.Embedding(vocab_size, embedding_dim)\n",
        "\n",
        "    def forward(self, center_words, pos_context_words, neg_context_words):\n",
        "        center_embeds = self.center_embeddings(center_words)\n",
        "\n",
        "        pos_context_embeds = self.context_embeddings(pos_context_words)\n",
        "        pos_scores = torch.sum(center_embeds * pos_context_embeds, dim=1)\n",
        "\n",
        "        neg_context_embeds = self.context_embeddings(neg_context_words)\n",
        "        neg_scores = torch.bmm(neg_context_embeds, center_embeds.unsqueeze(2)).squeeze()\n",
        "\n",
        "        return pos_scores, neg_scores\n",
        "    \n",
        "    # def forward(self, center_words, pos_context_words, neg_context_words):\n",
        "    #     center_embeds = self.center_embeddings(center_words)\n",
        "    #     pos_embeds = self.context_embeddings(pos_context_words)\n",
        "    #     neg_embeds = self.context_embeddings(neg_context_words)\n",
        "\n",
        "    #     pos_scores = torch.sum(center_embeds * pos_embeds, dim=1)\n",
        "    #     neg_scores = torch.sum(center_embeds. unsqueeze(1) * neg_embeds, dim=2)\n",
        "    #     return pos_scores, neg_scores"
      ]
    },
    {
      "cell_type": "code",
      "execution_count": 3,
      "metadata": {
        "id": "nglGMIy3zgbq"
      },
      "outputs": [
        {
          "ename": "NameError",
          "evalue": "name 'torch' is not defined",
          "output_type": "error",
          "traceback": [
            "\u001b[0;31m---------------------------------------------------------------------------\u001b[0m",
            "\u001b[0;31mNameError\u001b[0m                                 Traceback (most recent call last)",
            "Cell \u001b[0;32mIn[3], line 1\u001b[0m\n\u001b[0;32m----> 1\u001b[0m device \u001b[38;5;241m=\u001b[39m \u001b[43mtorch\u001b[49m\u001b[38;5;241m.\u001b[39mdevice(\u001b[38;5;124m\"\u001b[39m\u001b[38;5;124mcpu\u001b[39m\u001b[38;5;124m\"\u001b[39m)\n",
            "\u001b[0;31mNameError\u001b[0m: name 'torch' is not defined"
          ]
        }
      ],
      "source": [
        "device = torch.device(\"cpu\")"
      ]
    },
    {
      "cell_type": "code",
      "execution_count": 31,
      "metadata": {
        "id": "FYorJN4zzgbr"
      },
      "outputs": [],
      "source": [
        "vocab_size = len(word_to_index)\n",
        "embedding_dim = 32\n",
        "num_negatives = 15\n",
        "\n",
        "model = SkipGramModelWithNegSampling(vocab_size, embedding_dim).to(device)\n",
        "optimizer = optim.Adam(model.parameters(), lr=0.05)\n",
        "lr_scheduler = ReduceLROnPlateau(optimizer, factor=0.5, patience=150)\n",
        "criterion = nn.BCEWithLogitsLoss()"
      ]
    },
    {
      "cell_type": "code",
      "execution_count": 32,
      "metadata": {
        "id": "x-KTkshNzgbs"
      },
      "outputs": [],
      "source": [
        "params_counter = 0\n",
        "for weights in model.parameters():\n",
        "    params_counter += weights.shape.numel()\n",
        "assert params_counter == len(word_to_index) * embedding_dim * 2"
      ]
    },
    {
      "cell_type": "code",
      "execution_count": 33,
      "metadata": {
        "id": "qPXaUadkzgbt"
      },
      "outputs": [],
      "source": [
        "def train_skipgram_with_neg_sampling(\n",
        "    model,\n",
        "    context_pairs,\n",
        "    keep_prob_array,\n",
        "    word_to_index,\n",
        "    batch_size,\n",
        "    num_negatives,\n",
        "    negative_sampling_prob_array,\n",
        "    steps,\n",
        "    optimizer=optimizer,\n",
        "    lr_scheduler=lr_scheduler,\n",
        "    device=device,\n",
        "):\n",
        "    pos_labels = torch.ones(batch_size).to(device)\n",
        "    neg_labels = torch.zeros(batch_size, num_negatives).to(device)\n",
        "    loss_history = []\n",
        "    for step in tqdma(range(steps)):\n",
        "        batch, neg_samples = generate_batch_with_neg_samples(\n",
        "            context_pairs,\n",
        "            batch_size,\n",
        "            keep_prob_array,\n",
        "            word_to_index,\n",
        "            num_negatives,\n",
        "            negative_sampling_prob_array,\n",
        "        )\n",
        "        center_words = torch.tensor([pair[0] for pair in batch], dtype=torch.long).to(\n",
        "            device\n",
        "        )\n",
        "        pos_context_words = torch.tensor(\n",
        "            [pair[1] for pair in batch], dtype=torch.long\n",
        "        ).to(device)\n",
        "        neg_context_words = torch.tensor(neg_samples, dtype=torch.long).to(device)\n",
        "\n",
        "        optimizer.zero_grad()\n",
        "        pos_scores, neg_scores = model(\n",
        "            center_words, pos_context_words, neg_context_words\n",
        "        )\n",
        "\n",
        "        loss_pos = criterion(pos_scores, pos_labels)\n",
        "        loss_neg = criterion(neg_scores, neg_labels)\n",
        "\n",
        "        loss = loss_pos + loss_neg\n",
        "        loss.backward()\n",
        "        optimizer.step()\n",
        "\n",
        "        loss_history.append(loss.item())\n",
        "        lr_scheduler.step(loss_history[-1])\n",
        "\n",
        "        if step % 100 == 0:\n",
        "            print(\n",
        "                f\"Step {step}, Loss: {np.mean(loss_history[-100:])}, learning rate: {lr_scheduler._last_lr}\"\n",
        "            )"
      ]
    },
    {
      "cell_type": "code",
      "execution_count": 34,
      "metadata": {
        "colab": {
          "base_uri": "https://localhost:8080/",
          "height": 482,
          "referenced_widgets": [
            "1b5d0a45a2c049ac88be84cfc5183ec6",
            "515eb0391af14f11ac86562a5b4a6270",
            "8892bf6a751c41f8aa3572c6342145bf",
            "34ed351efd444aa4b50b830aa41e7279",
            "323a5612f7a848d5a4f6f8ee054628e0",
            "3af1350b5396430980bb9e7c745aedf3",
            "b43a1cae325648a79cff94007aea7339",
            "d9d4c3e37c12486ab08e71db1d4fa3f0",
            "d1d08722b8f441c187b2477f27c4c305",
            "918da1e1037e4eeca3deecb5e5e5b46c",
            "37caea48e182455d8c5bb32fb8fd34b2"
          ]
        },
        "id": "Ce2_9cH-zgbx",
        "outputId": "abe71d80-a740-4a3e-fc03-f9e60a4484b7"
      },
      "outputs": [
        {
          "data": {
            "application/vnd.jupyter.widget-view+json": {
              "model_id": "1b5d0a45a2c049ac88be84cfc5183ec6",
              "version_major": 2,
              "version_minor": 0
            },
            "text/plain": [
              "  0%|          | 0/2500 [00:00<?, ?it/s]"
            ]
          },
          "metadata": {},
          "output_type": "display_data"
        },
        {
          "name": "stdout",
          "output_type": "stream",
          "text": [
            "Step 0, Loss: 4.798181533813477, learning rate: [0.05]\n",
            "Step 100, Loss: 3.4571551752090453, learning rate: [0.05]\n",
            "Step 200, Loss: 2.5768050503730775, learning rate: [0.05]\n",
            "Step 300, Loss: 2.2715808868408205, learning rate: [0.05]\n",
            "Step 400, Loss: 2.113979912996292, learning rate: [0.05]\n",
            "Step 500, Loss: 2.0489089608192446, learning rate: [0.05]\n",
            "Step 600, Loss: 2.0303951680660246, learning rate: [0.05]\n",
            "Step 700, Loss: 2.0637610757350924, learning rate: [0.05]\n",
            "Step 800, Loss: 2.0495817959308624, learning rate: [0.025]\n",
            "Step 900, Loss: 1.9461610162258147, learning rate: [0.025]\n",
            "Step 1000, Loss: 1.8871312868595123, learning rate: [0.025]\n",
            "Step 1100, Loss: 1.8316458940505982, learning rate: [0.025]\n",
            "Step 1200, Loss: 1.7850587010383605, learning rate: [0.025]\n",
            "Step 1300, Loss: 1.7619698214530946, learning rate: [0.025]\n",
            "Step 1400, Loss: 1.7463883888721465, learning rate: [0.0125]\n",
            "Step 1500, Loss: 1.707558469772339, learning rate: [0.0125]\n",
            "Step 1600, Loss: 1.67717423081398, learning rate: [0.0125]\n",
            "Step 1700, Loss: 1.6387585127353668, learning rate: [0.0125]\n",
            "Step 1800, Loss: 1.6110843074321748, learning rate: [0.0125]\n",
            "Step 1900, Loss: 1.5808150672912598, learning rate: [0.0125]\n",
            "Step 2000, Loss: 1.5671479141712188, learning rate: [0.0125]\n",
            "Step 2100, Loss: 1.5524183738231658, learning rate: [0.00625]\n",
            "Step 2200, Loss: 1.5252309679985045, learning rate: [0.00625]\n",
            "Step 2300, Loss: 1.5190004372596742, learning rate: [0.00625]\n",
            "Step 2400, Loss: 1.514089537858963, learning rate: [0.00625]\n"
          ]
        }
      ],
      "source": [
        "steps = 2500\n",
        "batch_size = 512\n",
        "train_skipgram_with_neg_sampling(\n",
        "    model,\n",
        "    context_pairs,\n",
        "    keep_prob_array,\n",
        "    word_to_index,\n",
        "    batch_size,\n",
        "    num_negatives,\n",
        "    negative_sampling_prob_array,\n",
        "    steps,\n",
        ")"
      ]
    },
    {
      "cell_type": "markdown",
      "metadata": {
        "id": "JW9-Wh6pzgb0"
      },
      "source": [
        "Наконец, используйте полученную матрицу весов в качестве матрицы в векторными представлениями слов. Рекомендуем использовать для сдачи матрицу, которая отвечала за слова из контекста (т.е. декодера)."
      ]
    },
    {
      "cell_type": "code",
      "execution_count": 35,
      "metadata": {
        "id": "-itxZ4xczgb0"
      },
      "outputs": [],
      "source": [
        "_model_parameters = model.parameters()\n",
        "embedding_matrix_center = next(\n",
        "    _model_parameters\n",
        ").detach()  # Assuming that first matrix was for central word\n",
        "embedding_matrix_context = next(\n",
        "    _model_parameters\n",
        ").detach()  # Assuming that second matrix was for context word"
      ]
    },
    {
      "cell_type": "code",
      "execution_count": 36,
      "metadata": {
        "id": "knUXTvxwzgb1"
      },
      "outputs": [],
      "source": [
        "def get_word_vector(word, embedding_matrix, word_to_index=word_to_index):\n",
        "    return embedding_matrix[word_to_index[word]]"
      ]
    },
    {
      "cell_type": "markdown",
      "metadata": {
        "id": "MNZcutKxzgb2"
      },
      "source": [
        "Простые проверки:"
      ]
    },
    {
      "cell_type": "code",
      "execution_count": 37,
      "metadata": {
        "id": "4ZaV0efUzgb3"
      },
      "outputs": [],
      "source": [
        "similarity_1 = F.cosine_similarity(\n",
        "    get_word_vector(\"iphone\", embedding_matrix_context)[None, :],\n",
        "    get_word_vector(\"apple\", embedding_matrix_context)[None, :],\n",
        ")\n",
        "similarity_2 = F.cosine_similarity(\n",
        "    get_word_vector(\"iphone\", embedding_matrix_context)[None, :],\n",
        "    get_word_vector(\"dell\", embedding_matrix_context)[None, :],\n",
        ")\n",
        "assert similarity_1 > similarity_2"
      ]
    },
    {
      "cell_type": "code",
      "execution_count": 38,
      "metadata": {
        "id": "kf6xMFzozgb3"
      },
      "outputs": [],
      "source": [
        "similarity_1 = F.cosine_similarity(\n",
        "    get_word_vector(\"windows\", embedding_matrix_context)[None, :],\n",
        "    get_word_vector(\"laptop\", embedding_matrix_context)[None, :],\n",
        ")\n",
        "similarity_2 = F.cosine_similarity(\n",
        "    get_word_vector(\"windows\", embedding_matrix_context)[None, :],\n",
        "    get_word_vector(\"macbook\", embedding_matrix_context)[None, :],\n",
        ")\n",
        "assert similarity_1 > similarity_2"
      ]
    },
    {
      "cell_type": "markdown",
      "metadata": {
        "id": "CxEaVtAjzgb4"
      },
      "source": [
        "Наконец, взглянем на ближайшие по косинусной мере слова. Функция реализована ниже."
      ]
    },
    {
      "cell_type": "code",
      "execution_count": 39,
      "metadata": {
        "id": "dA0V6rOYtsLk"
      },
      "outputs": [],
      "source": [
        "def find_nearest(word, embedding_matrix, word_to_index=word_to_index, k=10):\n",
        "    word_vector = get_word_vector(word, embedding_matrix)[None, :]\n",
        "    dists = F.cosine_similarity(embedding_matrix, word_vector)\n",
        "    index_sorted = torch.argsort(dists)\n",
        "    top_k = index_sorted[-k:]\n",
        "    return [(index_to_word[x], dists[x].item()) for x in top_k.numpy()]"
      ]
    },
    {
      "cell_type": "code",
      "execution_count": 40,
      "metadata": {
        "colab": {
          "base_uri": "https://localhost:8080/"
        },
        "id": "p2Gnr2_mzgb6",
        "outputId": "998800c1-374b-43dc-ff26-98011474a479"
      },
      "outputs": [
        {
          "data": {
            "text/plain": [
              "[('clarke', 0.6514529585838318),\n",
              " ('seva', 0.6553453207015991),\n",
              " ('abstract', 0.6567371487617493),\n",
              " ('sharpening', 0.6603165864944458),\n",
              " ('displayed', 0.6668806076049805),\n",
              " ('undefined', 0.6863594055175781),\n",
              " ('hairloss', 0.6905684471130371),\n",
              " ('lamb', 0.6982854008674622),\n",
              " ('azor', 0.7085549831390381),\n",
              " ('python', 1.0000001192092896)]"
            ]
          },
          "execution_count": 40,
          "metadata": {},
          "output_type": "execute_result"
        }
      ],
      "source": [
        "find_nearest(\"python\", embedding_matrix_context, k=10)"
      ]
    },
    {
      "cell_type": "markdown",
      "metadata": {
        "id": "iwE70Epfzgb7"
      },
      "source": [
        "Также вы можете визуально проверить, как представлены в латентном пространстве часто встречающиеся слова."
      ]
    },
    {
      "cell_type": "code",
      "execution_count": 41,
      "metadata": {
        "id": "rBXA5PSMzgb8"
      },
      "outputs": [],
      "source": [
        "top_k = 5000\n",
        "_top_words = sorted([x for x in word_count_dict.items()], key=lambda x: x[1])[\n",
        "    -top_k - 100 : -100\n",
        "]  # ignoring 100 most frequent words\n",
        "top_words = [x[0] for x in _top_words]\n",
        "del _top_words"
      ]
    },
    {
      "cell_type": "code",
      "execution_count": 42,
      "metadata": {
        "id": "GAt8EJ9ezgb8"
      },
      "outputs": [],
      "source": [
        "word_embeddings = torch.cat(\n",
        "    [embedding_matrix_context[word_to_index[x]][None, :] for x in top_words], dim=0\n",
        ").numpy()"
      ]
    },
    {
      "cell_type": "code",
      "execution_count": 43,
      "metadata": {
        "id": "tgZt1qVxzgb9"
      },
      "outputs": [],
      "source": [
        "import bokeh.models as bm\n",
        "import bokeh.plotting as pl\n",
        "from bokeh.io import output_notebook\n",
        "\n",
        "output_notebook()\n",
        "\n",
        "\n",
        "def draw_vectors(\n",
        "    x,\n",
        "    y,\n",
        "    radius=10,\n",
        "    alpha=0.25,\n",
        "    color=\"blue\",\n",
        "    width=600,\n",
        "    height=400,\n",
        "    show=True,\n",
        "    **kwargs,\n",
        "):\n",
        "    \"\"\"draws an interactive plot for data points with auxilirary info on hover\"\"\"\n",
        "    if isinstance(color, str):\n",
        "        color = [color] * len(x)\n",
        "    data_source = bm.ColumnDataSource({\"x\": x, \"y\": y, \"color\": color, **kwargs})\n",
        "\n",
        "    fig = pl.figure(active_scroll=\"wheel_zoom\", width=width, height=height)\n",
        "    fig.scatter(\"x\", \"y\", size=radius, color=\"color\", alpha=alpha, source=data_source)\n",
        "\n",
        "    fig.add_tools(bm.HoverTool(tooltips=[(key, \"@\" + key) for key in kwargs.keys()]))\n",
        "    if show:\n",
        "        pl.show(fig)\n",
        "    return fig"
      ]
    },
    {
      "cell_type": "code",
      "execution_count": 44,
      "metadata": {
        "id": "qn-adIShzgb9"
      },
      "outputs": [],
      "source": [
        "embedding = umap.UMAP(n_neighbors=5).fit_transform(word_embeddings)"
      ]
    },
    {
      "cell_type": "code",
      "execution_count": 45,
      "metadata": {
        "colab": {
          "base_uri": "https://localhost:8080/",
          "height": 454
        },
        "id": "E7A6JhnJzgb_",
        "outputId": "6a349da1-2f4a-414a-8915-ab13362c2da1"
      },
      "outputs": [
        {
          "data": {
            "application/javascript": "'use strict';\n(function(root) {\n  function now() {\n    return new Date();\n  }\n\n  const force = true;\n\n  if (typeof root._bokeh_onload_callbacks === \"undefined\" || force === true) {\n    root._bokeh_onload_callbacks = [];\n    root._bokeh_is_loading = undefined;\n  }\n\nconst JS_MIME_TYPE = 'application/javascript';\n  const HTML_MIME_TYPE = 'text/html';\n  const EXEC_MIME_TYPE = 'application/vnd.bokehjs_exec.v0+json';\n  const CLASS_NAME = 'output_bokeh rendered_html';\n\n  /**\n   * Render data to the DOM node\n   */\n  function render(props, node) {\n    const script = document.createElement(\"script\");\n    node.appendChild(script);\n  }\n\n  /**\n   * Handle when an output is cleared or removed\n   */\n  function handleClearOutput(event, handle) {\n    function drop(id) {\n      const view = Bokeh.index.get_by_id(id)\n      if (view != null) {\n        view.model.document.clear()\n        Bokeh.index.delete(view)\n      }\n    }\n\n    const cell = handle.cell;\n\n    const id = cell.output_area._bokeh_element_id;\n    const server_id = cell.output_area._bokeh_server_id;\n\n    // Clean up Bokeh references\n    if (id != null) {\n      drop(id)\n    }\n\n    if (server_id !== undefined) {\n      // Clean up Bokeh references\n      const cmd_clean = \"from bokeh.io.state import curstate; print(curstate().uuid_to_server['\" + server_id + \"'].get_sessions()[0].document.roots[0]._id)\";\n      cell.notebook.kernel.execute(cmd_clean, {\n        iopub: {\n          output: function(msg) {\n            const id = msg.content.text.trim()\n            drop(id)\n          }\n        }\n      });\n      // Destroy server and session\n      const cmd_destroy = \"import bokeh.io.notebook as ion; ion.destroy_server('\" + server_id + \"')\";\n      cell.notebook.kernel.execute(cmd_destroy);\n    }\n  }\n\n  /**\n   * Handle when a new output is added\n   */\n  function handleAddOutput(event, handle) {\n    const output_area = handle.output_area;\n    const output = handle.output;\n\n    // limit handleAddOutput to display_data with EXEC_MIME_TYPE content only\n    if ((output.output_type != \"display_data\") || (!Object.prototype.hasOwnProperty.call(output.data, EXEC_MIME_TYPE))) {\n      return\n    }\n\n    const toinsert = output_area.element.find(\".\" + CLASS_NAME.split(' ')[0]);\n\n    if (output.metadata[EXEC_MIME_TYPE][\"id\"] !== undefined) {\n      toinsert[toinsert.length - 1].firstChild.textContent = output.data[JS_MIME_TYPE];\n      // store reference to embed id on output_area\n      output_area._bokeh_element_id = output.metadata[EXEC_MIME_TYPE][\"id\"];\n    }\n    if (output.metadata[EXEC_MIME_TYPE][\"server_id\"] !== undefined) {\n      const bk_div = document.createElement(\"div\");\n      bk_div.innerHTML = output.data[HTML_MIME_TYPE];\n      const script_attrs = bk_div.children[0].attributes;\n      for (let i = 0; i < script_attrs.length; i++) {\n        toinsert[toinsert.length - 1].firstChild.setAttribute(script_attrs[i].name, script_attrs[i].value);\n        toinsert[toinsert.length - 1].firstChild.textContent = bk_div.children[0].textContent\n      }\n      // store reference to server id on output_area\n      output_area._bokeh_server_id = output.metadata[EXEC_MIME_TYPE][\"server_id\"];\n    }\n  }\n\n  function register_renderer(events, OutputArea) {\n\n    function append_mime(data, metadata, element) {\n      // create a DOM node to render to\n      const toinsert = this.create_output_subarea(\n        metadata,\n        CLASS_NAME,\n        EXEC_MIME_TYPE\n      );\n      this.keyboard_manager.register_events(toinsert);\n      // Render to node\n      const props = {data: data, metadata: metadata[EXEC_MIME_TYPE]};\n      render(props, toinsert[toinsert.length - 1]);\n      element.append(toinsert);\n      return toinsert\n    }\n\n    /* Handle when an output is cleared or removed */\n    events.on('clear_output.CodeCell', handleClearOutput);\n    events.on('delete.Cell', handleClearOutput);\n\n    /* Handle when a new output is added */\n    events.on('output_added.OutputArea', handleAddOutput);\n\n    /**\n     * Register the mime type and append_mime function with output_area\n     */\n    OutputArea.prototype.register_mime_type(EXEC_MIME_TYPE, append_mime, {\n      /* Is output safe? */\n      safe: true,\n      /* Index of renderer in `output_area.display_order` */\n      index: 0\n    });\n  }\n\n  // register the mime type if in Jupyter Notebook environment and previously unregistered\n  if (root.Jupyter !== undefined) {\n    const events = require('base/js/events');\n    const OutputArea = require('notebook/js/outputarea').OutputArea;\n\n    if (OutputArea.prototype.mime_types().indexOf(EXEC_MIME_TYPE) == -1) {\n      register_renderer(events, OutputArea);\n    }\n  }\n  if (typeof (root._bokeh_timeout) === \"undefined\" || force === true) {\n    root._bokeh_timeout = Date.now() + 5000;\n    root._bokeh_failed_load = false;\n  }\n\n  const NB_LOAD_WARNING = {'data': {'text/html':\n     \"<div style='background-color: #fdd'>\\n\"+\n     \"<p>\\n\"+\n     \"BokehJS does not appear to have successfully loaded. If loading BokehJS from CDN, this \\n\"+\n     \"may be due to a slow or bad network connection. Possible fixes:\\n\"+\n     \"</p>\\n\"+\n     \"<ul>\\n\"+\n     \"<li>re-rerun `output_notebook()` to attempt to load from CDN again, or</li>\\n\"+\n     \"<li>use INLINE resources instead, as so:</li>\\n\"+\n     \"</ul>\\n\"+\n     \"<code>\\n\"+\n     \"from bokeh.resources import INLINE\\n\"+\n     \"output_notebook(resources=INLINE)\\n\"+\n     \"</code>\\n\"+\n     \"</div>\"}};\n\n  function display_loaded(error = null) {\n    const el = document.getElementById(null);\n    if (el != null) {\n      const html = (() => {\n        if (typeof root.Bokeh === \"undefined\") {\n          if (error == null) {\n            return \"BokehJS is loading ...\";\n          } else {\n            return \"BokehJS failed to load.\";\n          }\n        } else {\n          const prefix = `BokehJS ${root.Bokeh.version}`;\n          if (error == null) {\n            return `${prefix} successfully loaded.`;\n          } else {\n            return `${prefix} <b>encountered errors</b> while loading and may not function as expected.`;\n          }\n        }\n      })();\n      el.innerHTML = html;\n\n      if (error != null) {\n        const wrapper = document.createElement(\"div\");\n        wrapper.style.overflow = \"auto\";\n        wrapper.style.height = \"5em\";\n        wrapper.style.resize = \"vertical\";\n        const content = document.createElement(\"div\");\n        content.style.fontFamily = \"monospace\";\n        content.style.whiteSpace = \"pre-wrap\";\n        content.style.backgroundColor = \"rgb(255, 221, 221)\";\n        content.textContent = error.stack ?? error.toString();\n        wrapper.append(content);\n        el.append(wrapper);\n      }\n    } else if (Date.now() < root._bokeh_timeout) {\n      setTimeout(() => display_loaded(error), 100);\n    }\n  }\n\n  function run_callbacks() {\n    try {\n      root._bokeh_onload_callbacks.forEach(function(callback) {\n        if (callback != null)\n          callback();\n      });\n    } finally {\n      delete root._bokeh_onload_callbacks\n    }\n    console.debug(\"Bokeh: all callbacks have finished\");\n  }\n\n  function load_libs(css_urls, js_urls, callback) {\n    if (css_urls == null) css_urls = [];\n    if (js_urls == null) js_urls = [];\n\n    root._bokeh_onload_callbacks.push(callback);\n    if (root._bokeh_is_loading > 0) {\n      console.debug(\"Bokeh: BokehJS is being loaded, scheduling callback at\", now());\n      return null;\n    }\n    if (js_urls == null || js_urls.length === 0) {\n      run_callbacks();\n      return null;\n    }\n    console.debug(\"Bokeh: BokehJS not loaded, scheduling load and callback at\", now());\n    root._bokeh_is_loading = css_urls.length + js_urls.length;\n\n    function on_load() {\n      root._bokeh_is_loading--;\n      if (root._bokeh_is_loading === 0) {\n        console.debug(\"Bokeh: all BokehJS libraries/stylesheets loaded\");\n        run_callbacks()\n      }\n    }\n\n    function on_error(url) {\n      console.error(\"failed to load \" + url);\n    }\n\n    for (let i = 0; i < css_urls.length; i++) {\n      const url = css_urls[i];\n      const element = document.createElement(\"link\");\n      element.onload = on_load;\n      element.onerror = on_error.bind(null, url);\n      element.rel = \"stylesheet\";\n      element.type = \"text/css\";\n      element.href = url;\n      console.debug(\"Bokeh: injecting link tag for BokehJS stylesheet: \", url);\n      document.body.appendChild(element);\n    }\n\n    for (let i = 0; i < js_urls.length; i++) {\n      const url = js_urls[i];\n      const element = document.createElement('script');\n      element.onload = on_load;\n      element.onerror = on_error.bind(null, url);\n      element.async = false;\n      element.src = url;\n      console.debug(\"Bokeh: injecting script tag for BokehJS library: \", url);\n      document.head.appendChild(element);\n    }\n  };\n\n  function inject_raw_css(css) {\n    const element = document.createElement(\"style\");\n    element.appendChild(document.createTextNode(css));\n    document.body.appendChild(element);\n  }\n\n  const js_urls = [\"https://cdn.bokeh.org/bokeh/release/bokeh-3.6.0.min.js\", \"https://cdn.bokeh.org/bokeh/release/bokeh-gl-3.6.0.min.js\", \"https://cdn.bokeh.org/bokeh/release/bokeh-widgets-3.6.0.min.js\", \"https://cdn.bokeh.org/bokeh/release/bokeh-tables-3.6.0.min.js\", \"https://cdn.bokeh.org/bokeh/release/bokeh-mathjax-3.6.0.min.js\"];\n  const css_urls = [];\n\n  const inline_js = [    function(Bokeh) {\n      Bokeh.set_log_level(\"info\");\n    },\nfunction(Bokeh) {\n    }\n  ];\n\n  function run_inline_js() {\n    if (root.Bokeh !== undefined || force === true) {\n      try {\n            for (let i = 0; i < inline_js.length; i++) {\n      inline_js[i].call(root, root.Bokeh);\n    }\n\n      } catch (error) {throw error;\n      }} else if (Date.now() < root._bokeh_timeout) {\n      setTimeout(run_inline_js, 100);\n    } else if (!root._bokeh_failed_load) {\n      console.log(\"Bokeh: BokehJS failed to load within specified timeout.\");\n      root._bokeh_failed_load = true;\n    } else if (force !== true) {\n      const cell = $(document.getElementById(null)).parents('.cell').data().cell;\n      cell.output_area.append_execute_result(NB_LOAD_WARNING)\n    }\n  }\n\n  if (root._bokeh_is_loading === 0) {\n    console.debug(\"Bokeh: BokehJS loaded, going straight to plotting\");\n    run_inline_js();\n  } else {\n    load_libs(css_urls, js_urls, function() {\n      console.debug(\"Bokeh: BokehJS plotting callback run at\", now());\n      run_inline_js();\n    });\n  }\n}(window));",
            "application/vnd.bokehjs_load.v0+json": ""
          },
          "metadata": {},
          "output_type": "display_data"
        },
        {
          "data": {
            "text/html": [
              "\n",
              "  <div id=\"f913f907-4dbe-45b4-b7bb-cd41580d0a16\" data-root-id=\"p1004\" style=\"display: contents;\"></div>\n"
            ]
          },
          "metadata": {},
          "output_type": "display_data"
        },
        {
          "data": {
            "application/javascript": "(function(root) {\n  function embed_document(root) {\n  const docs_json = {\"2dfac06b-598e-4d43-935b-bb49c072b9fc\":{\"version\":\"3.6.0\",\"title\":\"Bokeh Application\",\"roots\":[{\"type\":\"object\",\"name\":\"Figure\",\"id\":\"p1004\",\"attributes\":{\"height\":400,\"x_range\":{\"type\":\"object\",\"name\":\"DataRange1d\",\"id\":\"p1005\"},\"y_range\":{\"type\":\"object\",\"name\":\"DataRange1d\",\"id\":\"p1006\"},\"x_scale\":{\"type\":\"object\",\"name\":\"LinearScale\",\"id\":\"p1013\"},\"y_scale\":{\"type\":\"object\",\"name\":\"LinearScale\",\"id\":\"p1014\"},\"title\":{\"type\":\"object\",\"name\":\"Title\",\"id\":\"p1011\"},\"renderers\":[{\"type\":\"object\",\"name\":\"GlyphRenderer\",\"id\":\"p1044\",\"attributes\":{\"data_source\":{\"type\":\"object\",\"name\":\"ColumnDataSource\",\"id\":\"p1001\",\"attributes\":{\"selected\":{\"type\":\"object\",\"name\":\"Selection\",\"id\":\"p1002\",\"attributes\":{\"indices\":[],\"line_indices\":[]}},\"selection_policy\":{\"type\":\"object\",\"name\":\"UnionRenderers\",\"id\":\"p1003\"},\"data\":{\"type\":\"map\",\"entries\":[[\"x\",{\"type\":\"ndarray\",\"array\":{\"type\":\"bytes\",\"data\":\"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\"},\"shape\":[5000],\"dtype\":\"float32\",\"order\":\"little\"}],[\"y\",{\"type\":\"ndarray\",\"array\":{\"type\":\"bytes\",\"data\":\"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\"},\"shape\":[5000],\"dtype\":\"float32\",\"order\":\"little\"}],[\"color\",[\"blue\",\"blue\",\"blue\",\"blue\",\"blue\",\"blue\",\"blue\",\"blue\",\"blue\",\"blue\",\"blue\",\"blue\",\"blue\",\"blue\",\"blue\",\"blue\",\"blue\",\"blue\",\"blue\",\"blue\",\"blue\",\"blue\",\"blue\",\"blue\",\"blue\",\"blue\",\"blue\",\"blue\",\"blue\",\"blue\",\"blue\",\"blue\",\"blue\",\"blue\",\"blue\",\"blue\",\"blue\",\"blue\",\"blue\",\"blue\",\"blue\",\"blue\",\"blue\",\"blue\",\"blue\",\"blue\",\"blue\",\"blue\",\"blue\",\"blue\",\"blue\",\"blue\",\"blue\",\"blue\",\"blue\",\"blue\",\"blue\",\"blue\",\"blue\",\"blue\",\"blue\",\"blue\",\"blue\",\"blue\",\"blue\",\"blue\",\"blue\",\"blue\",\"blue\",\"blue\",\"blue\",\"blue\",\"blue\",\"blue\",\"blue\",\"blue\",\"blue\",\"blue\",\"blue\",\"blue\",\"blue\",\"blue\",\"blue\",\"blue\",\"blue\",\"blue\",\"blue\",\"blue\",\"blue\",\"blue\",\"blue\",\"blue\",\"blue\",\"blue\",\"blue\",\"blue\",\"blue\",\"blue\",\"blue\",\"blue\",\"blue\",\"blue\",\"blue\",\"blue\",\"blue\",\"blue\",\"blue\",\"blue\",\"blue\",\"blue\",\"blue\",\"blue\",\"blue\",\"blue\",\"blue\",\"blue\",\"blue\",\"blue\",\"blue\",\"blue\",\"blue\",\"blue\",\"blue\",\"blue\",\"blue\",\"blue\",\"blue\",\"blue\",\"blue\",\"blue\",\"blue\",\"blue\",\"blue\",\"blue\",\"blue\",\"blue\",\"blue\",\"blue\",\"blue\",\"blue\",\"blue\",\"blue\",\"blue\",\"blue\",\"blue\",\"blue\",\"blue\",\"blue\",\"blue\",\"blue\",\"blue\",\"blue\",\"blue\",\"blue\",\"blue\",\"blue\",\"blue\",\"blue\",\"blue\",\"blue\",\"blue\",\"blue\",\"blue\",\"blue\",\"blue\",\"blue\",\"blue\",\"blue\",\"blue\",\"blue\",\"blue\",\"blue\",\"blue\",\"blue\",\"blue\",\"blue\",\"blue\",\"blue\",\"blue\",\"blue\",\"blue\",\"blue\",\"blue\",\"blue\",\"blue\",\"blue\",\"blue\",\"blue\",\"blue\",\"blue\",\"blue\",\"blue\",\"blue\",\"blue\",\"blue\",\"blue\",\"blue\",\"blue\",\"blue\",\"blue\",\"blue\",\"blue\",\"blue\",\"blue\",\"blue\",\"blue\",\"blue\",\"blue\",\"blue\",\"blue\",\"blue\",\"blue\",\"blue\",\"blue\",\"blue\",\"blue\",\"blue\",\"blue\",\"blue\",\"blue\",\"blue\",\"blue\",\"blue\",\"blue\",\"blue\",\"blue\",\"blue\",\"blue\",\"blue\",\"blue\",\"blue\",\"blue\",\"blue\",\"blue\",\"blue\",\"blue\",\"blue\",\"blue\",\"blue\",\"blue\",\"blue\",\"blue\",\"blue\",\"blue\",\"blue\",\"blue\",\"blue\",\"blue\",\"blue\",\"blue\",\"blue\",\"blue\",\"blue\",\"blue\",\"blue\",\"blue\",\"blue\",\"blue\",\"blue\",\"blue\",\"blue\",\"blue\",\"blue\",\"blue\",\"blue\",\"blue\",\"blue\",\"blue\",\"blue\",\"blue\",\"blue\",\"blue\",\"blue\",\"blue\",\"blue\",\"blue\",\"blue\",\"blue\",\"blue\",\"blue\",\"blue\",\"blue\",\"blue\",\"blue\",\"blue\",\"blue\",\"blue\",\"blue\",\"blue\",\"blue\",\"blue\",\"blue\",\"blue\",\"blue\",\"blue\",\"blue\",\"blue\",\"blue\",\"blue\",\"blue\",\"blue\",\"blue\",\"blue\",\"blue\",\"blue\",\"blue\",\"blue\",\"blue\",\"blue\",\"blue\",\"blue\",\"blue\",\"blue\",\"blue\",\"blue\",\"blue\",\"blue\",\"blue\",\"blue\",\"blue\",\"blue\",\"blue\",\"blue\",\"blue\",\"blue\",\"blue\",\"blue\",\"blue\",\"blue\",\"blue\",\"blue\",\"blue\",\"blue\",\"blue\",\"blue\",\"blue\",\"blue\",\"blue\",\"blue\",\"blue\",\"blue\",\"blue\",\"blue\",\"blue\",\"blue\",\"blue\",\"blue\",\"blue\",\"blue\",\"blue\",\"blue\",\"blue\",\"blue\",\"blue\",\"blue\",\"blue\",\"blue\",\"blue\",\"blue\",\"blue\",\"blue\",\"blue\",\"blue\",\"blue\",\"blue\",\"blue\",\"blue\",\"blue\",\"blue\",\"blue\",\"blue\",\"blue\",\"blue\",\"blue\",\"blue\",\"blue\",\"blue\",\"blue\",\"blue\",\"blue\",\"blue\",\"blue\",\"blue\",\"blue\",\"blue\",\"blue\",\"blue\",\"blue\",\"blue\",\"blue\",\"blue\",\"blue\",\"blue\",\"blue\",\"blue\",\"blue\",\"blue\",\"blue\",\"blue\",\"blue\",\"blue\",\"blue\",\"blue\",\"blue\",\"blue\",\"blue\",\"blue\",\"blue\",\"blue\",\"blue\",\"blue\",\"blue\",\"blue\",\"blue\",\"blue\",\"blue\",\"blue\",\"blue\",\"blue\",\"blue\",\"blue\",\"blue\",\"blue\",\"blue\",\"blue\",\"blue\",\"blue\",\"blue\",\"blue\",\"blue\",\"blue\",\"blue\",\"blue\",\"blue\",\"blue\",\"blue\",\"blue\",\"blue\",\"blue\",\"blue\",\"blue\",\"blue\",\"blue\",\"blue\",\"blue\",\"blue\",\"blue\",\"blue\",\"blue\",\"blue\",\"blue\",\"blue\",\"blue\",\"blue\",\"blue\",\"blue\",\"blue\",\"blue\",\"blue\",\"blue\",\"blue\",\"blue\",\"blue\",\"blue\",\"blue\",\"blue\",\"blue\",\"blue\",\"blue\",\"blue\",\"blue\",\"blue\",\"blue\",\"blue\",\"blue\",\"blue\",\"blue\",\"blue\",\"blue\",\"blue\",\"blue\",\"blue\",\"blue\",\"blue\",\"blue\",\"blue\",\"blue\",\"blue\",\"blue\",\"blue\",\"blue\",\"blue\",\"blue\",\"blue\",\"blue\",\"blue\",\"blue\",\"blue\",\"blue\",\"blue\",\"blue\",\"blue\",\"blue\",\"blue\",\"blue\",\"blue\",\"blue\",\"blue\",\"blue\",\"blue\",\"blue\",\"blue\",\"blue\",\"blue\",\"blue\",\"blue\",\"blue\",\"blue\",\"blue\",\"blue\",\"blue\",\"blue\",\"blue\",\"blue\",\"blue\",\"blue\",\"blue\",\"blue\",\"blue\",\"blue\",\"blue\",\"blue\",\"blue\",\"blue\",\"blue\",\"blue\",\"blue\",\"blue\",\"blue\",\"blue\",\"blue\",\"blue\",\"blue\",\"blue\",\"blue\",\"blue\",\"blue\",\"blue\",\"blue\",\"blue\",\"blue\",\"blue\",\"blue\",\"blue\",\"blue\",\"blue\",\"blue\",\"blue\",\"blue\",\"blue\",\"blue\",\"blue\",\"blue\",\"blue\",\"blue\",\"blue\",\"blue\",\"blue\",\"blue\",\"blue\",\"blue\",\"blue\",\"blue\",\"blue\",\"blue\",\"blue\",\"blue\",\"blue\",\"blue\",\"blue\",\"blue\",\"blue\",\"blue\",\"blue\",\"blue\",\"blue\",\"blue\",\"blue\",\"blue\",\"blue\",\"blue\",\"blue\",\"blue\",\"blue\",\"blue\",\"blue\",\"blue\",\"blue\",\"blue\",\"blue\",\"blue\",\"blue\",\"blue\",\"blue\",\"blue\",\"blue\",\"blue\",\"blue\",\"blue\",\"blue\",\"blue\",\"blue\",\"blue\",\"blue\",\"blue\",\"blue\",\"blue\",\"blue\",\"blue\",\"blue\",\"blue\",\"blue\",\"blue\",\"blue\",\"blue\",\"blue\",\"blue\",\"blue\",\"blue\",\"blue\",\"blue\",\"blue\",\"blue\",\"blue\",\"blue\",\"blue\",\"blue\",\"blue\",\"blue\",\"blue\",\"blue\",\"blue\",\"blue\",\"blue\",\"blue\",\"blue\",\"blue\",\"blue\",\"blue\",\"blue\",\"blue\",\"blue\",\"blue\",\"blue\",\"blue\",\"blue\",\"blue\",\"blue\",\"blue\",\"blue\",\"blue\",\"blue\",\"blue\",\"blue\",\"blue\",\"blue\",\"blue\",\"blue\",\"blue\",\"blue\",\"blue\",\"blue\",\"blue\",\"blue\",\"blue\",\"blue\",\"blue\",\"blue\",\"blue\",\"blue\",\"blue\",\"blue\",\"blue\",\"blue\",\"blue\",\"blue\",\"blue\",\"blue\",\"blue\",\"blue\",\"blue\",\"blue\",\"blue\",\"blue\",\"blue\",\"blue\",\"blue\",\"blue\",\"blue\",\"blue\",\"blue\",\"blue\",\"blue\",\"blue\",\"blue\",\"blue\",\"blue\",\"blue\",\"blue\",\"blue\",\"blue\",\"blue\",\"blue\",\"blue\",\"blue\",\"blue\",\"blue\",\"blue\",\"blue\",\"blue\",\"blue\",\"blue\",\"blue\",\"blue\",\"blue\",\"blue\",\"blue\",\"blue\",\"blue\",\"blue\",\"blue\",\"blue\",\"blue\",\"blue\",\"blue\",\"blue\",\"blue\",\"blue\",\"blue\",\"blue\",\"blue\",\"blue\",\"blue\",\"blue\",\"blue\",\"blue\",\"blue\",\"blue\",\"blue\",\"blue\",\"blue\",\"blue\",\"blue\",\"blue\",\"blue\",\"blue\",\"blue\",\"blue\",\"blue\",\"blue\",\"blue\",\"blue\",\"blue\",\"blue\",\"blue\",\"blue\",\"blue\",\"blue\",\"blue\",\"blue\",\"blue\",\"blue\",\"blue\",\"blue\",\"blue\",\"blue\",\"blue\",\"blue\",\"blue\",\"blue\",\"blue\",\"blue\",\"blue\",\"blue\",\"blue\",\"blue\",\"blue\",\"blue\",\"blue\",\"blue\",\"blue\",\"blue\",\"blue\",\"blue\",\"blue\",\"blue\",\"blue\",\"blue\",\"blue\",\"blue\",\"blue\",\"blue\",\"blue\",\"blue\",\"blue\",\"blue\",\"blue\",\"blue\",\"blue\",\"blue\",\"blue\",\"blue\",\"blue\",\"blue\",\"blue\",\"blue\",\"blue\",\"blue\",\"blue\",\"blue\",\"blue\",\"blue\",\"blue\",\"blue\",\"blue\",\"blue\",\"blue\",\"blue\",\"blue\",\"blue\",\"blue\",\"blue\",\"blue\",\"blue\",\"blue\",\"blue\",\"blue\",\"blue\",\"blue\",\"blue\",\"blue\",\"blue\",\"blue\",\"blue\",\"blue\",\"blue\",\"blue\",\"blue\",\"blue\",\"blue\",\"blue\",\"blue\",\"blue\",\"blue\",\"blue\",\"blue\",\"blue\",\"blue\",\"blue\",\"blue\",\"blue\",\"blue\",\"blue\",\"blue\",\"blue\",\"blue\",\"blue\",\"blue\",\"blue\",\"blue\",\"blue\",\"blue\",\"blue\",\"blue\",\"blue\",\"blue\",\"blue\",\"blue\",\"blue\",\"blue\",\"blue\",\"blue\",\"blue\",\"blue\",\"blue\",\"blue\",\"blue\",\"blue\",\"blue\",\"blue\",\"blue\",\"blue\",\"blue\",\"blue\",\"blue\",\"blue\",\"blue\",\"blue\",\"blue\",\"blue\",\"blue\",\"blue\",\"blue\",\"blue\",\"blue\",\"blue\",\"blue\",\"blue\",\"blue\",\"blue\",\"blue\",\"blue\",\"blue\",\"blue\",\"blue\",\"blue\",\"blue\",\"blue\",\"blue\",\"blue\",\"blue\",\"blue\",\"blue\",\"blue\",\"blue\",\"blue\",\"blue\",\"blue\",\"blue\",\"blue\",\"blue\",\"blue\",\"blue\",\"blue\",\"blue\",\"blue\",\"blue\",\"blue\",\"blue\",\"blue\",\"blue\",\"blue\",\"blue\",\"blue\",\"blue\",\"blue\",\"blue\",\"blue\",\"blue\",\"blue\",\"blue\",\"blue\",\"blue\",\"blue\",\"blue\",\"blue\",\"blue\",\"blue\",\"blue\",\"blue\",\"blue\",\"blue\",\"blue\",\"blue\",\"blue\",\"blue\",\"blue\",\"blue\",\"blue\",\"blue\",\"blue\",\"blue\",\"blue\",\"blue\",\"blue\",\"blue\",\"blue\",\"blue\",\"blue\",\"blue\",\"blue\",\"blue\",\"blue\",\"blue\",\"blue\",\"blue\",\"blue\",\"blue\",\"blue\",\"blue\",\"blue\",\"blue\",\"blue\",\"blue\",\"blue\",\"blue\",\"blue\",\"blue\",\"blue\",\"blue\",\"blue\",\"blue\",\"blue\",\"blue\",\"blue\",\"blue\",\"blue\",\"blue\",\"blue\",\"blue\",\"blue\",\"blue\",\"blue\",\"blue\",\"blue\",\"blue\",\"blue\",\"blue\",\"blue\",\"blue\",\"blue\",\"blue\",\"blue\",\"blue\",\"blue\",\"blue\",\"blue\",\"blue\",\"blue\",\"blue\",\"blue\",\"blue\",\"blue\",\"blue\",\"blue\",\"blue\",\"blue\",\"blue\",\"blue\",\"blue\",\"blue\",\"blue\",\"blue\",\"blue\",\"blue\",\"blue\",\"blue\",\"blue\",\"blue\",\"blue\",\"blue\",\"blue\",\"blue\",\"blue\",\"blue\",\"blue\",\"blue\",\"blue\",\"blue\",\"blue\",\"blue\",\"blue\",\"blue\",\"blue\",\"blue\",\"blue\",\"blue\",\"blue\",\"blue\",\"blue\",\"blue\",\"blue\",\"blue\",\"blue\",\"blue\",\"blue\",\"blue\",\"blue\",\"blue\",\"blue\",\"blue\",\"blue\",\"blue\",\"blue\",\"blue\",\"blue\",\"blue\",\"blue\",\"blue\",\"blue\",\"blue\",\"blue\",\"blue\",\"blue\",\"blue\",\"blue\",\"blue\",\"blue\",\"blue\",\"blue\",\"blue\",\"blue\",\"blue\",\"blue\",\"blue\",\"blue\",\"blue\",\"blue\",\"blue\",\"blue\",\"blue\",\"blue\",\"blue\",\"blue\",\"blue\",\"blue\",\"blue\",\"blue\",\"blue\",\"blue\",\"blue\",\"blue\",\"blue\",\"blue\",\"blue\",\"blue\",\"blue\",\"blue\",\"blue\",\"blue\",\"blue\",\"blue\",\"blue\",\"blue\",\"blue\",\"blue\",\"blue\",\"blue\",\"blue\",\"blue\",\"blue\",\"blue\",\"blue\",\"blue\",\"blue\",\"blue\",\"blue\",\"blue\",\"blue\",\"blue\",\"blue\",\"blue\",\"blue\",\"blue\",\"blue\",\"blue\",\"blue\",\"blue\",\"blue\",\"blue\",\"blue\",\"blue\",\"blue\",\"blue\",\"blue\",\"blue\",\"blue\",\"blue\",\"blue\",\"blue\",\"blue\",\"blue\",\"blue\",\"blue\",\"blue\",\"blue\",\"blue\",\"blue\",\"blue\",\"blue\",\"blue\",\"blue\",\"blue\",\"blue\",\"blue\",\"blue\",\"blue\",\"blue\",\"blue\",\"blue\",\"blue\",\"blue\",\"blue\",\"blue\",\"blue\",\"blue\",\"blue\",\"blue\",\"blue\",\"blue\",\"blue\",\"blue\",\"blue\",\"blue\",\"blue\",\"blue\",\"blue\",\"blue\",\"blue\",\"blue\",\"blue\",\"blue\",\"blue\",\"blue\",\"blue\",\"blue\",\"blue\",\"blue\",\"blue\",\"blue\",\"blue\",\"blue\",\"blue\",\"blue\",\"blue\",\"blue\",\"blue\",\"blue\",\"blue\",\"blue\",\"blue\",\"blue\",\"blue\",\"blue\",\"blue\",\"blue\",\"blue\",\"blue\",\"blue\",\"blue\",\"blue\",\"blue\",\"blue\",\"blue\",\"blue\",\"blue\",\"blue\",\"blue\",\"blue\",\"blue\",\"blue\",\"blue\",\"blue\",\"blue\",\"blue\",\"blue\",\"blue\",\"blue\",\"blue\",\"blue\",\"blue\",\"blue\",\"blue\",\"blue\",\"blue\",\"blue\",\"blue\",\"blue\",\"blue\",\"blue\",\"blue\",\"blue\",\"blue\",\"blue\",\"blue\",\"blue\",\"blue\",\"blue\",\"blue\",\"blue\",\"blue\",\"blue\",\"blue\",\"blue\",\"blue\",\"blue\",\"blue\",\"blue\",\"blue\",\"blue\",\"blue\",\"blue\",\"blue\",\"blue\",\"blue\",\"blue\",\"blue\",\"blue\",\"blue\",\"blue\",\"blue\",\"blue\",\"blue\",\"blue\",\"blue\",\"blue\",\"blue\",\"blue\",\"blue\",\"blue\",\"blue\",\"blue\",\"blue\",\"blue\",\"blue\",\"blue\",\"blue\",\"blue\",\"blue\",\"blue\",\"blue\",\"blue\",\"blue\",\"blue\",\"blue\",\"blue\",\"blue\",\"blue\",\"blue\",\"blue\",\"blue\",\"blue\",\"blue\",\"blue\",\"blue\",\"blue\",\"blue\",\"blue\",\"blue\",\"blue\",\"blue\",\"blue\",\"blue\",\"blue\",\"blue\",\"blue\",\"blue\",\"blue\",\"blue\",\"blue\",\"blue\",\"blue\",\"blue\",\"blue\",\"blue\",\"blue\",\"blue\",\"blue\",\"blue\",\"blue\",\"blue\",\"blue\",\"blue\",\"blue\",\"blue\",\"blue\",\"blue\",\"blue\",\"blue\",\"blue\",\"blue\",\"blue\",\"blue\",\"blue\",\"blue\",\"blue\",\"blue\",\"blue\",\"blue\",\"blue\",\"blue\",\"blue\",\"blue\",\"blue\",\"blue\",\"blue\",\"blue\",\"blue\",\"blue\",\"blue\",\"blue\",\"blue\",\"blue\",\"blue\",\"blue\",\"blue\",\"blue\",\"blue\",\"blue\",\"blue\",\"blue\",\"blue\",\"blue\",\"blue\",\"blue\",\"blue\",\"blue\",\"blue\",\"blue\",\"blue\",\"blue\",\"blue\",\"blue\",\"blue\",\"blue\",\"blue\",\"blue\",\"blue\",\"blue\",\"blue\",\"blue\",\"blue\",\"blue\",\"blue\",\"blue\",\"blue\",\"blue\",\"blue\",\"blue\",\"blue\",\"blue\",\"blue\",\"blue\",\"blue\",\"blue\",\"blue\",\"blue\",\"blue\",\"blue\",\"blue\",\"blue\",\"blue\",\"blue\",\"blue\",\"blue\",\"blue\",\"blue\",\"blue\",\"blue\",\"blue\",\"blue\",\"blue\",\"blue\",\"blue\",\"blue\",\"blue\",\"blue\",\"blue\",\"blue\",\"blue\",\"blue\",\"blue\",\"blue\",\"blue\",\"blue\",\"blue\",\"blue\",\"blue\",\"blue\",\"blue\",\"blue\",\"blue\",\"blue\",\"blue\",\"blue\",\"blue\",\"blue\",\"blue\",\"blue\",\"blue\",\"blue\",\"blue\",\"blue\",\"blue\",\"blue\",\"blue\",\"blue\",\"blue\",\"blue\",\"blue\",\"blue\",\"blue\",\"blue\",\"blue\",\"blue\",\"blue\",\"blue\",\"blue\",\"blue\",\"blue\",\"blue\",\"blue\",\"blue\",\"blue\",\"blue\",\"blue\",\"blue\",\"blue\",\"blue\",\"blue\",\"blue\",\"blue\",\"blue\",\"blue\",\"blue\",\"blue\",\"blue\",\"blue\",\"blue\",\"blue\",\"blue\",\"blue\",\"blue\",\"blue\",\"blue\",\"blue\",\"blue\",\"blue\",\"blue\",\"blue\",\"blue\",\"blue\",\"blue\",\"blue\",\"blue\",\"blue\",\"blue\",\"blue\",\"blue\",\"blue\",\"blue\",\"blue\",\"blue\",\"blue\",\"blue\",\"blue\",\"blue\",\"blue\",\"blue\",\"blue\",\"blue\",\"blue\",\"blue\",\"blue\",\"blue\",\"blue\",\"blue\",\"blue\",\"blue\",\"blue\",\"blue\",\"blue\",\"blue\",\"blue\",\"blue\",\"blue\",\"blue\",\"blue\",\"blue\",\"blue\",\"blue\",\"blue\",\"blue\",\"blue\",\"blue\",\"blue\",\"blue\",\"blue\",\"blue\",\"blue\",\"blue\",\"blue\",\"blue\",\"blue\",\"blue\",\"blue\",\"blue\",\"blue\",\"blue\",\"blue\",\"blue\",\"blue\",\"blue\",\"blue\",\"blue\",\"blue\",\"blue\",\"blue\",\"blue\",\"blue\",\"blue\",\"blue\",\"blue\",\"blue\",\"blue\",\"blue\",\"blue\",\"blue\",\"blue\",\"blue\",\"blue\",\"blue\",\"blue\",\"blue\",\"blue\",\"blue\",\"blue\",\"blue\",\"blue\",\"blue\",\"blue\",\"blue\",\"blue\",\"blue\",\"blue\",\"blue\",\"blue\",\"blue\",\"blue\",\"blue\",\"blue\",\"blue\",\"blue\",\"blue\",\"blue\",\"blue\",\"blue\",\"blue\",\"blue\",\"blue\",\"blue\",\"blue\",\"blue\",\"blue\",\"blue\",\"blue\",\"blue\",\"blue\",\"blue\",\"blue\",\"blue\",\"blue\",\"blue\",\"blue\",\"blue\",\"blue\",\"blue\",\"blue\",\"blue\",\"blue\",\"blue\",\"blue\",\"blue\",\"blue\",\"blue\",\"blue\",\"blue\",\"blue\",\"blue\",\"blue\",\"blue\",\"blue\",\"blue\",\"blue\",\"blue\",\"blue\",\"blue\",\"blue\",\"blue\",\"blue\",\"blue\",\"blue\",\"blue\",\"blue\",\"blue\",\"blue\",\"blue\",\"blue\",\"blue\",\"blue\",\"blue\",\"blue\",\"blue\",\"blue\",\"blue\",\"blue\",\"blue\",\"blue\",\"blue\",\"blue\",\"blue\",\"blue\",\"blue\",\"blue\",\"blue\",\"blue\",\"blue\",\"blue\",\"blue\",\"blue\",\"blue\",\"blue\",\"blue\",\"blue\",\"blue\",\"blue\",\"blue\",\"blue\",\"blue\",\"blue\",\"blue\",\"blue\",\"blue\",\"blue\",\"blue\",\"blue\",\"blue\",\"blue\",\"blue\",\"blue\",\"blue\",\"blue\",\"blue\",\"blue\",\"blue\",\"blue\",\"blue\",\"blue\",\"blue\",\"blue\",\"blue\",\"blue\",\"blue\",\"blue\",\"blue\",\"blue\",\"blue\",\"blue\",\"blue\",\"blue\",\"blue\",\"blue\",\"blue\",\"blue\",\"blue\",\"blue\",\"blue\",\"blue\",\"blue\",\"blue\",\"blue\",\"blue\",\"blue\",\"blue\",\"blue\",\"blue\",\"blue\",\"blue\",\"blue\",\"blue\",\"blue\",\"blue\",\"blue\",\"blue\",\"blue\",\"blue\",\"blue\",\"blue\",\"blue\",\"blue\",\"blue\",\"blue\",\"blue\",\"blue\",\"blue\",\"blue\",\"blue\",\"blue\",\"blue\",\"blue\",\"blue\",\"blue\",\"blue\",\"blue\",\"blue\",\"blue\",\"blue\",\"blue\",\"blue\",\"blue\",\"blue\",\"blue\",\"blue\",\"blue\",\"blue\",\"blue\",\"blue\",\"blue\",\"blue\",\"blue\",\"blue\",\"blue\",\"blue\",\"blue\",\"blue\",\"blue\",\"blue\",\"blue\",\"blue\",\"blue\",\"blue\",\"blue\",\"blue\",\"blue\",\"blue\",\"blue\",\"blue\",\"blue\",\"blue\",\"blue\",\"blue\",\"blue\",\"blue\",\"blue\",\"blue\",\"blue\",\"blue\",\"blue\",\"blue\",\"blue\",\"blue\",\"blue\",\"blue\",\"blue\",\"blue\",\"blue\",\"blue\",\"blue\",\"blue\",\"blue\",\"blue\",\"blue\",\"blue\",\"blue\",\"blue\",\"blue\",\"blue\",\"blue\",\"blue\",\"blue\",\"blue\",\"blue\",\"blue\",\"blue\",\"blue\",\"blue\",\"blue\",\"blue\",\"blue\",\"blue\",\"blue\",\"blue\",\"blue\",\"blue\",\"blue\",\"blue\",\"blue\",\"blue\",\"blue\",\"blue\",\"blue\",\"blue\",\"blue\",\"blue\",\"blue\",\"blue\",\"blue\",\"blue\",\"blue\",\"blue\",\"blue\",\"blue\",\"blue\",\"blue\",\"blue\",\"blue\",\"blue\",\"blue\",\"blue\",\"blue\",\"blue\",\"blue\",\"blue\",\"blue\",\"blue\",\"blue\",\"blue\",\"blue\",\"blue\",\"blue\",\"blue\",\"blue\",\"blue\",\"blue\",\"blue\",\"blue\",\"blue\",\"blue\",\"blue\",\"blue\",\"blue\",\"blue\",\"blue\",\"blue\",\"blue\",\"blue\",\"blue\",\"blue\",\"blue\",\"blue\",\"blue\",\"blue\",\"blue\",\"blue\",\"blue\",\"blue\",\"blue\",\"blue\",\"blue\",\"blue\",\"blue\",\"blue\",\"blue\",\"blue\",\"blue\",\"blue\",\"blue\",\"blue\",\"blue\",\"blue\",\"blue\",\"blue\",\"blue\",\"blue\",\"blue\",\"blue\",\"blue\",\"blue\",\"blue\",\"blue\",\"blue\",\"blue\",\"blue\",\"blue\",\"blue\",\"blue\",\"blue\",\"blue\",\"blue\",\"blue\",\"blue\",\"blue\",\"blue\",\"blue\",\"blue\",\"blue\",\"blue\",\"blue\",\"blue\",\"blue\",\"blue\",\"blue\",\"blue\",\"blue\",\"blue\",\"blue\",\"blue\",\"blue\",\"blue\",\"blue\",\"blue\",\"blue\",\"blue\",\"blue\",\"blue\",\"blue\",\"blue\",\"blue\",\"blue\",\"blue\",\"blue\",\"blue\",\"blue\",\"blue\",\"blue\",\"blue\",\"blue\",\"blue\",\"blue\",\"blue\",\"blue\",\"blue\",\"blue\",\"blue\",\"blue\",\"blue\",\"blue\",\"blue\",\"blue\",\"blue\",\"blue\",\"blue\",\"blue\",\"blue\",\"blue\",\"blue\",\"blue\",\"blue\",\"blue\",\"blue\",\"blue\",\"blue\",\"blue\",\"blue\",\"blue\",\"blue\",\"blue\",\"blue\",\"blue\",\"blue\",\"blue\",\"blue\",\"blue\",\"blue\",\"blue\",\"blue\",\"blue\",\"blue\",\"blue\",\"blue\",\"blue\",\"blue\",\"blue\",\"blue\",\"blue\",\"blue\",\"blue\",\"blue\",\"blue\",\"blue\",\"blue\",\"blue\",\"blue\",\"blue\",\"blue\",\"blue\",\"blue\",\"blue\",\"blue\",\"blue\",\"blue\",\"blue\",\"blue\",\"blue\",\"blue\",\"blue\",\"blue\",\"blue\",\"blue\",\"blue\",\"blue\",\"blue\",\"blue\",\"blue\",\"blue\",\"blue\",\"blue\",\"blue\",\"blue\",\"blue\",\"blue\",\"blue\",\"blue\",\"blue\",\"blue\",\"blue\",\"blue\",\"blue\",\"blue\",\"blue\",\"blue\",\"blue\",\"blue\",\"blue\",\"blue\",\"blue\",\"blue\",\"blue\",\"blue\",\"blue\",\"blue\",\"blue\",\"blue\",\"blue\",\"blue\",\"blue\",\"blue\",\"blue\",\"blue\",\"blue\",\"blue\",\"blue\",\"blue\",\"blue\",\"blue\",\"blue\",\"blue\",\"blue\",\"blue\",\"blue\",\"blue\",\"blue\",\"blue\",\"blue\",\"blue\",\"blue\",\"blue\",\"blue\",\"blue\",\"blue\",\"blue\",\"blue\",\"blue\",\"blue\",\"blue\",\"blue\",\"blue\",\"blue\",\"blue\",\"blue\",\"blue\",\"blue\",\"blue\",\"blue\",\"blue\",\"blue\",\"blue\",\"blue\",\"blue\",\"blue\",\"blue\",\"blue\",\"blue\",\"blue\",\"blue\",\"blue\",\"blue\",\"blue\",\"blue\",\"blue\",\"blue\",\"blue\",\"blue\",\"blue\",\"blue\",\"blue\",\"blue\",\"blue\",\"blue\",\"blue\",\"blue\",\"blue\",\"blue\",\"blue\",\"blue\",\"blue\",\"blue\",\"blue\",\"blue\",\"blue\",\"blue\",\"blue\",\"blue\",\"blue\",\"blue\",\"blue\",\"blue\",\"blue\",\"blue\",\"blue\",\"blue\",\"blue\",\"blue\",\"blue\",\"blue\",\"blue\",\"blue\",\"blue\",\"blue\",\"blue\",\"blue\",\"blue\",\"blue\",\"blue\",\"blue\",\"blue\",\"blue\",\"blue\",\"blue\",\"blue\",\"blue\",\"blue\",\"blue\",\"blue\",\"blue\",\"blue\",\"blue\",\"blue\",\"blue\",\"blue\",\"blue\",\"blue\",\"blue\",\"blue\",\"blue\",\"blue\",\"blue\",\"blue\",\"blue\",\"blue\",\"blue\",\"blue\",\"blue\",\"blue\",\"blue\",\"blue\",\"blue\",\"blue\",\"blue\",\"blue\",\"blue\",\"blue\",\"blue\",\"blue\",\"blue\",\"blue\",\"blue\",\"blue\",\"blue\",\"blue\",\"blue\",\"blue\",\"blue\",\"blue\",\"blue\",\"blue\",\"blue\",\"blue\",\"blue\",\"blue\",\"blue\",\"blue\",\"blue\",\"blue\",\"blue\",\"blue\",\"blue\",\"blue\",\"blue\",\"blue\",\"blue\",\"blue\",\"blue\",\"blue\",\"blue\",\"blue\",\"blue\",\"blue\",\"blue\",\"blue\",\"blue\",\"blue\",\"blue\",\"blue\",\"blue\",\"blue\",\"blue\",\"blue\",\"blue\",\"blue\",\"blue\",\"blue\",\"blue\",\"blue\",\"blue\",\"blue\",\"blue\",\"blue\",\"blue\",\"blue\",\"blue\",\"blue\",\"blue\",\"blue\",\"blue\",\"blue\",\"blue\",\"blue\",\"blue\",\"blue\",\"blue\",\"blue\",\"blue\",\"blue\",\"blue\",\"blue\",\"blue\",\"blue\",\"blue\",\"blue\",\"blue\",\"blue\",\"blue\",\"blue\",\"blue\",\"blue\",\"blue\",\"blue\",\"blue\",\"blue\",\"blue\",\"blue\",\"blue\",\"blue\",\"blue\",\"blue\",\"blue\",\"blue\",\"blue\",\"blue\",\"blue\",\"blue\",\"blue\",\"blue\",\"blue\",\"blue\",\"blue\",\"blue\",\"blue\",\"blue\",\"blue\",\"blue\",\"blue\",\"blue\",\"blue\",\"blue\",\"blue\",\"blue\",\"blue\",\"blue\",\"blue\",\"blue\",\"blue\",\"blue\",\"blue\",\"blue\",\"blue\",\"blue\",\"blue\",\"blue\",\"blue\",\"blue\",\"blue\",\"blue\",\"blue\",\"blue\",\"blue\",\"blue\",\"blue\",\"blue\",\"blue\",\"blue\",\"blue\",\"blue\",\"blue\",\"blue\",\"blue\",\"blue\",\"blue\",\"blue\",\"blue\",\"blue\",\"blue\",\"blue\",\"blue\",\"blue\",\"blue\",\"blue\",\"blue\",\"blue\",\"blue\",\"blue\",\"blue\",\"blue\",\"blue\",\"blue\",\"blue\",\"blue\",\"blue\",\"blue\",\"blue\",\"blue\",\"blue\",\"blue\",\"blue\",\"blue\",\"blue\",\"blue\",\"blue\",\"blue\",\"blue\",\"blue\",\"blue\",\"blue\",\"blue\",\"blue\",\"blue\",\"blue\",\"blue\",\"blue\",\"blue\",\"blue\",\"blue\",\"blue\",\"blue\",\"blue\",\"blue\",\"blue\",\"blue\",\"blue\",\"blue\",\"blue\",\"blue\",\"blue\",\"blue\",\"blue\",\"blue\",\"blue\",\"blue\",\"blue\",\"blue\",\"blue\",\"blue\",\"blue\",\"blue\",\"blue\",\"blue\",\"blue\",\"blue\",\"blue\",\"blue\",\"blue\",\"blue\",\"blue\",\"blue\",\"blue\",\"blue\",\"blue\",\"blue\",\"blue\",\"blue\",\"blue\",\"blue\",\"blue\",\"blue\",\"blue\",\"blue\",\"blue\",\"blue\",\"blue\",\"blue\",\"blue\",\"blue\",\"blue\",\"blue\",\"blue\",\"blue\",\"blue\",\"blue\",\"blue\",\"blue\",\"blue\",\"blue\",\"blue\",\"blue\",\"blue\",\"blue\",\"blue\",\"blue\",\"blue\",\"blue\",\"blue\",\"blue\",\"blue\",\"blue\",\"blue\",\"blue\",\"blue\",\"blue\",\"blue\",\"blue\",\"blue\",\"blue\",\"blue\",\"blue\",\"blue\",\"blue\",\"blue\",\"blue\",\"blue\",\"blue\",\"blue\",\"blue\",\"blue\",\"blue\",\"blue\",\"blue\",\"blue\",\"blue\",\"blue\",\"blue\",\"blue\",\"blue\",\"blue\",\"blue\",\"blue\",\"blue\",\"blue\",\"blue\",\"blue\",\"blue\",\"blue\",\"blue\",\"blue\",\"blue\",\"blue\",\"blue\",\"blue\",\"blue\",\"blue\",\"blue\",\"blue\",\"blue\",\"blue\",\"blue\",\"blue\",\"blue\",\"blue\",\"blue\",\"blue\",\"blue\",\"blue\",\"blue\",\"blue\",\"blue\",\"blue\",\"blue\",\"blue\",\"blue\",\"blue\",\"blue\",\"blue\",\"blue\",\"blue\",\"blue\",\"blue\",\"blue\",\"blue\",\"blue\",\"blue\",\"blue\",\"blue\",\"blue\",\"blue\",\"blue\",\"blue\",\"blue\",\"blue\",\"blue\",\"blue\",\"blue\",\"blue\",\"blue\",\"blue\",\"blue\",\"blue\",\"blue\",\"blue\",\"blue\",\"blue\",\"blue\",\"blue\",\"blue\",\"blue\",\"blue\",\"blue\",\"blue\",\"blue\",\"blue\",\"blue\",\"blue\",\"blue\",\"blue\",\"blue\",\"blue\",\"blue\",\"blue\",\"blue\",\"blue\",\"blue\",\"blue\",\"blue\",\"blue\",\"blue\",\"blue\",\"blue\",\"blue\",\"blue\",\"blue\",\"blue\",\"blue\",\"blue\",\"blue\",\"blue\",\"blue\",\"blue\",\"blue\",\"blue\",\"blue\",\"blue\",\"blue\",\"blue\",\"blue\",\"blue\",\"blue\",\"blue\",\"blue\",\"blue\",\"blue\",\"blue\",\"blue\",\"blue\",\"blue\",\"blue\",\"blue\",\"blue\",\"blue\",\"blue\",\"blue\",\"blue\",\"blue\",\"blue\",\"blue\",\"blue\",\"blue\",\"blue\",\"blue\",\"blue\",\"blue\",\"blue\",\"blue\",\"blue\",\"blue\",\"blue\",\"blue\",\"blue\",\"blue\",\"blue\",\"blue\",\"blue\",\"blue\",\"blue\",\"blue\",\"blue\",\"blue\",\"blue\",\"blue\",\"blue\",\"blue\",\"blue\",\"blue\",\"blue\",\"blue\",\"blue\",\"blue\",\"blue\",\"blue\",\"blue\",\"blue\",\"blue\",\"blue\",\"blue\",\"blue\",\"blue\",\"blue\",\"blue\",\"blue\",\"blue\",\"blue\",\"blue\",\"blue\",\"blue\",\"blue\",\"blue\",\"blue\",\"blue\",\"blue\",\"blue\",\"blue\",\"blue\",\"blue\",\"blue\",\"blue\",\"blue\",\"blue\",\"blue\",\"blue\",\"blue\",\"blue\",\"blue\",\"blue\",\"blue\",\"blue\",\"blue\",\"blue\",\"blue\",\"blue\",\"blue\",\"blue\",\"blue\",\"blue\",\"blue\",\"blue\",\"blue\",\"blue\",\"blue\",\"blue\",\"blue\",\"blue\",\"blue\",\"blue\",\"blue\",\"blue\",\"blue\",\"blue\",\"blue\",\"blue\",\"blue\",\"blue\",\"blue\",\"blue\",\"blue\",\"blue\",\"blue\",\"blue\",\"blue\",\"blue\",\"blue\",\"blue\",\"blue\",\"blue\",\"blue\",\"blue\",\"blue\",\"blue\",\"blue\",\"blue\",\"blue\",\"blue\",\"blue\",\"blue\",\"blue\",\"blue\",\"blue\",\"blue\",\"blue\",\"blue\",\"blue\",\"blue\",\"blue\",\"blue\",\"blue\",\"blue\",\"blue\",\"blue\",\"blue\",\"blue\",\"blue\",\"blue\",\"blue\",\"blue\",\"blue\",\"blue\",\"blue\",\"blue\",\"blue\",\"blue\",\"blue\",\"blue\",\"blue\",\"blue\",\"blue\",\"blue\",\"blue\",\"blue\",\"blue\",\"blue\",\"blue\",\"blue\",\"blue\",\"blue\",\"blue\",\"blue\",\"blue\",\"blue\",\"blue\",\"blue\",\"blue\",\"blue\",\"blue\",\"blue\",\"blue\",\"blue\",\"blue\",\"blue\",\"blue\",\"blue\",\"blue\",\"blue\",\"blue\",\"blue\",\"blue\",\"blue\",\"blue\",\"blue\",\"blue\",\"blue\",\"blue\",\"blue\",\"blue\",\"blue\",\"blue\",\"blue\",\"blue\",\"blue\",\"blue\",\"blue\",\"blue\",\"blue\",\"blue\",\"blue\",\"blue\",\"blue\",\"blue\",\"blue\",\"blue\",\"blue\",\"blue\",\"blue\",\"blue\",\"blue\",\"blue\",\"blue\",\"blue\",\"blue\",\"blue\",\"blue\",\"blue\",\"blue\",\"blue\",\"blue\",\"blue\",\"blue\",\"blue\",\"blue\",\"blue\",\"blue\",\"blue\",\"blue\",\"blue\",\"blue\",\"blue\",\"blue\",\"blue\",\"blue\",\"blue\",\"blue\",\"blue\",\"blue\",\"blue\",\"blue\",\"blue\",\"blue\",\"blue\",\"blue\",\"blue\",\"blue\",\"blue\",\"blue\",\"blue\",\"blue\",\"blue\",\"blue\",\"blue\",\"blue\",\"blue\",\"blue\",\"blue\",\"blue\",\"blue\",\"blue\",\"blue\",\"blue\",\"blue\",\"blue\",\"blue\",\"blue\",\"blue\",\"blue\",\"blue\",\"blue\",\"blue\",\"blue\",\"blue\",\"blue\",\"blue\",\"blue\",\"blue\",\"blue\",\"blue\",\"blue\",\"blue\",\"blue\",\"blue\",\"blue\",\"blue\",\"blue\",\"blue\",\"blue\",\"blue\",\"blue\",\"blue\",\"blue\",\"blue\",\"blue\",\"blue\",\"blue\",\"blue\",\"blue\",\"blue\",\"blue\",\"blue\",\"blue\",\"blue\",\"blue\",\"blue\",\"blue\",\"blue\",\"blue\",\"blue\",\"blue\",\"blue\",\"blue\",\"blue\",\"blue\",\"blue\",\"blue\",\"blue\",\"blue\",\"blue\",\"blue\",\"blue\",\"blue\",\"blue\",\"blue\",\"blue\",\"blue\",\"blue\",\"blue\",\"blue\",\"blue\",\"blue\",\"blue\",\"blue\",\"blue\",\"blue\",\"blue\",\"blue\",\"blue\",\"blue\",\"blue\",\"blue\",\"blue\",\"blue\",\"blue\",\"blue\",\"blue\",\"blue\",\"blue\",\"blue\",\"blue\",\"blue\",\"blue\",\"blue\",\"blue\",\"blue\",\"blue\",\"blue\",\"blue\",\"blue\",\"blue\",\"blue\",\"blue\",\"blue\",\"blue\",\"blue\",\"blue\",\"blue\",\"blue\",\"blue\",\"blue\",\"blue\",\"blue\",\"blue\",\"blue\",\"blue\",\"blue\",\"blue\",\"blue\",\"blue\",\"blue\",\"blue\",\"blue\",\"blue\",\"blue\",\"blue\",\"blue\",\"blue\",\"blue\",\"blue\",\"blue\",\"blue\",\"blue\",\"blue\",\"blue\",\"blue\",\"blue\",\"blue\",\"blue\",\"blue\",\"blue\",\"blue\",\"blue\",\"blue\",\"blue\",\"blue\",\"blue\",\"blue\",\"blue\",\"blue\",\"blue\",\"blue\",\"blue\",\"blue\",\"blue\",\"blue\",\"blue\",\"blue\",\"blue\",\"blue\",\"blue\",\"blue\",\"blue\",\"blue\",\"blue\",\"blue\",\"blue\",\"blue\",\"blue\",\"blue\",\"blue\",\"blue\",\"blue\",\"blue\",\"blue\",\"blue\",\"blue\",\"blue\",\"blue\",\"blue\",\"blue\",\"blue\",\"blue\",\"blue\",\"blue\",\"blue\",\"blue\",\"blue\",\"blue\",\"blue\",\"blue\",\"blue\",\"blue\",\"blue\",\"blue\",\"blue\",\"blue\",\"blue\",\"blue\",\"blue\",\"blue\",\"blue\",\"blue\",\"blue\",\"blue\",\"blue\",\"blue\",\"blue\",\"blue\",\"blue\",\"blue\",\"blue\",\"blue\",\"blue\",\"blue\",\"blue\",\"blue\",\"blue\",\"blue\",\"blue\",\"blue\",\"blue\",\"blue\",\"blue\",\"blue\",\"blue\",\"blue\",\"blue\",\"blue\",\"blue\",\"blue\",\"blue\",\"blue\",\"blue\",\"blue\",\"blue\",\"blue\",\"blue\",\"blue\",\"blue\",\"blue\",\"blue\",\"blue\",\"blue\",\"blue\",\"blue\",\"blue\",\"blue\",\"blue\",\"blue\",\"blue\",\"blue\",\"blue\",\"blue\",\"blue\",\"blue\",\"blue\",\"blue\",\"blue\",\"blue\",\"blue\",\"blue\",\"blue\",\"blue\",\"blue\",\"blue\",\"blue\",\"blue\",\"blue\",\"blue\",\"blue\",\"blue\",\"blue\",\"blue\",\"blue\",\"blue\",\"blue\",\"blue\",\"blue\",\"blue\",\"blue\",\"blue\",\"blue\",\"blue\",\"blue\",\"blue\",\"blue\",\"blue\",\"blue\",\"blue\",\"blue\",\"blue\",\"blue\",\"blue\",\"blue\",\"blue\",\"blue\",\"blue\",\"blue\",\"blue\",\"blue\",\"blue\",\"blue\",\"blue\",\"blue\",\"blue\",\"blue\",\"blue\",\"blue\",\"blue\",\"blue\",\"blue\",\"blue\",\"blue\",\"blue\",\"blue\",\"blue\",\"blue\",\"blue\",\"blue\",\"blue\",\"blue\",\"blue\",\"blue\",\"blue\",\"blue\",\"blue\",\"blue\",\"blue\",\"blue\",\"blue\",\"blue\",\"blue\",\"blue\",\"blue\",\"blue\",\"blue\",\"blue\",\"blue\",\"blue\",\"blue\",\"blue\",\"blue\",\"blue\",\"blue\",\"blue\",\"blue\",\"blue\",\"blue\",\"blue\",\"blue\",\"blue\",\"blue\",\"blue\",\"blue\",\"blue\",\"blue\",\"blue\",\"blue\",\"blue\",\"blue\",\"blue\",\"blue\",\"blue\",\"blue\",\"blue\",\"blue\",\"blue\",\"blue\",\"blue\",\"blue\",\"blue\",\"blue\",\"blue\",\"blue\",\"blue\",\"blue\",\"blue\",\"blue\",\"blue\",\"blue\",\"blue\",\"blue\",\"blue\",\"blue\",\"blue\",\"blue\",\"blue\",\"blue\",\"blue\",\"blue\",\"blue\",\"blue\",\"blue\",\"blue\",\"blue\",\"blue\",\"blue\",\"blue\",\"blue\",\"blue\",\"blue\",\"blue\",\"blue\",\"blue\",\"blue\",\"blue\",\"blue\",\"blue\",\"blue\",\"blue\",\"blue\",\"blue\",\"blue\",\"blue\",\"blue\",\"blue\",\"blue\",\"blue\",\"blue\",\"blue\",\"blue\",\"blue\",\"blue\",\"blue\",\"blue\",\"blue\",\"blue\",\"blue\",\"blue\",\"blue\",\"blue\",\"blue\",\"blue\",\"blue\",\"blue\",\"blue\",\"blue\",\"blue\",\"blue\",\"blue\",\"blue\",\"blue\",\"blue\",\"blue\",\"blue\",\"blue\",\"blue\",\"blue\",\"blue\",\"blue\",\"blue\",\"blue\",\"blue\",\"blue\",\"blue\",\"blue\",\"blue\",\"blue\",\"blue\",\"blue\",\"blue\",\"blue\",\"blue\",\"blue\",\"blue\",\"blue\",\"blue\",\"blue\",\"blue\",\"blue\",\"blue\",\"blue\",\"blue\",\"blue\",\"blue\",\"blue\",\"blue\",\"blue\",\"blue\",\"blue\",\"blue\",\"blue\",\"blue\",\"blue\",\"blue\",\"blue\",\"blue\",\"blue\",\"blue\",\"blue\",\"blue\",\"blue\",\"blue\",\"blue\",\"blue\",\"blue\",\"blue\",\"blue\",\"blue\",\"blue\",\"blue\",\"blue\",\"blue\",\"blue\",\"blue\",\"blue\",\"blue\",\"blue\",\"blue\",\"blue\",\"blue\",\"blue\",\"blue\",\"blue\",\"blue\",\"blue\",\"blue\",\"blue\",\"blue\",\"blue\",\"blue\",\"blue\",\"blue\",\"blue\",\"blue\",\"blue\",\"blue\",\"blue\",\"blue\",\"blue\",\"blue\",\"blue\",\"blue\",\"blue\",\"blue\",\"blue\",\"blue\",\"blue\",\"blue\",\"blue\",\"blue\",\"blue\",\"blue\",\"blue\",\"blue\",\"blue\",\"blue\",\"blue\",\"blue\",\"blue\",\"blue\",\"blue\",\"blue\",\"blue\",\"blue\",\"blue\",\"blue\",\"blue\",\"blue\",\"blue\",\"blue\",\"blue\",\"blue\",\"blue\",\"blue\",\"blue\",\"blue\",\"blue\",\"blue\",\"blue\",\"blue\",\"blue\",\"blue\",\"blue\",\"blue\",\"blue\",\"blue\",\"blue\",\"blue\",\"blue\",\"blue\",\"blue\",\"blue\",\"blue\",\"blue\",\"blue\",\"blue\",\"blue\",\"blue\",\"blue\",\"blue\",\"blue\",\"blue\",\"blue\",\"blue\",\"blue\",\"blue\",\"blue\",\"blue\",\"blue\",\"blue\",\"blue\",\"blue\",\"blue\",\"blue\",\"blue\",\"blue\",\"blue\",\"blue\",\"blue\",\"blue\",\"blue\",\"blue\",\"blue\",\"blue\",\"blue\",\"blue\",\"blue\",\"blue\",\"blue\",\"blue\",\"blue\",\"blue\",\"blue\",\"blue\",\"blue\",\"blue\",\"blue\",\"blue\",\"blue\",\"blue\",\"blue\",\"blue\",\"blue\",\"blue\",\"blue\",\"blue\",\"blue\",\"blue\",\"blue\",\"blue\",\"blue\",\"blue\",\"blue\",\"blue\",\"blue\",\"blue\",\"blue\",\"blue\",\"blue\",\"blue\",\"blue\",\"blue\",\"blue\",\"blue\",\"blue\",\"blue\",\"blue\",\"blue\",\"blue\",\"blue\",\"blue\",\"blue\",\"blue\",\"blue\",\"blue\",\"blue\",\"blue\",\"blue\",\"blue\",\"blue\",\"blue\",\"blue\",\"blue\",\"blue\",\"blue\",\"blue\",\"blue\",\"blue\",\"blue\",\"blue\",\"blue\",\"blue\",\"blue\",\"blue\",\"blue\",\"blue\",\"blue\",\"blue\",\"blue\",\"blue\",\"blue\",\"blue\",\"blue\",\"blue\",\"blue\",\"blue\",\"blue\",\"blue\",\"blue\",\"blue\",\"blue\",\"blue\",\"blue\",\"blue\",\"blue\",\"blue\",\"blue\",\"blue\",\"blue\",\"blue\",\"blue\",\"blue\",\"blue\",\"blue\",\"blue\",\"blue\",\"blue\",\"blue\",\"blue\",\"blue\",\"blue\",\"blue\",\"blue\",\"blue\",\"blue\",\"blue\",\"blue\",\"blue\",\"blue\",\"blue\",\"blue\",\"blue\",\"blue\",\"blue\",\"blue\",\"blue\",\"blue\",\"blue\",\"blue\",\"blue\",\"blue\",\"blue\",\"blue\",\"blue\",\"blue\",\"blue\",\"blue\",\"blue\",\"blue\",\"blue\",\"blue\",\"blue\",\"blue\",\"blue\",\"blue\",\"blue\",\"blue\",\"blue\",\"blue\",\"blue\",\"blue\",\"blue\",\"blue\",\"blue\",\"blue\",\"blue\",\"blue\",\"blue\",\"blue\",\"blue\",\"blue\",\"blue\",\"blue\",\"blue\",\"blue\",\"blue\",\"blue\",\"blue\",\"blue\",\"blue\",\"blue\",\"blue\",\"blue\",\"blue\",\"blue\",\"blue\",\"blue\",\"blue\",\"blue\",\"blue\",\"blue\",\"blue\",\"blue\",\"blue\",\"blue\",\"blue\",\"blue\",\"blue\",\"blue\",\"blue\",\"blue\",\"blue\",\"blue\",\"blue\",\"blue\",\"blue\",\"blue\",\"blue\",\"blue\",\"blue\",\"blue\",\"blue\",\"blue\",\"blue\",\"blue\",\"blue\",\"blue\",\"blue\",\"blue\",\"blue\",\"blue\",\"blue\",\"blue\",\"blue\",\"blue\",\"blue\",\"blue\",\"blue\",\"blue\",\"blue\",\"blue\",\"blue\",\"blue\",\"blue\",\"blue\",\"blue\",\"blue\",\"blue\",\"blue\",\"blue\",\"blue\",\"blue\",\"blue\",\"blue\",\"blue\",\"blue\",\"blue\",\"blue\",\"blue\",\"blue\",\"blue\",\"blue\",\"blue\",\"blue\",\"blue\",\"blue\",\"blue\",\"blue\",\"blue\",\"blue\",\"blue\",\"blue\",\"blue\",\"blue\",\"blue\",\"blue\",\"blue\",\"blue\",\"blue\",\"blue\",\"blue\",\"blue\",\"blue\",\"blue\",\"blue\",\"blue\",\"blue\",\"blue\",\"blue\",\"blue\",\"blue\",\"blue\",\"blue\",\"blue\",\"blue\",\"blue\",\"blue\",\"blue\",\"blue\",\"blue\",\"blue\",\"blue\",\"blue\",\"blue\",\"blue\",\"blue\",\"blue\",\"blue\",\"blue\",\"blue\",\"blue\",\"blue\",\"blue\",\"blue\",\"blue\",\"blue\",\"blue\",\"blue\",\"blue\",\"blue\",\"blue\",\"blue\",\"blue\",\"blue\",\"blue\",\"blue\",\"blue\",\"blue\",\"blue\",\"blue\",\"blue\",\"blue\",\"blue\",\"blue\",\"blue\",\"blue\",\"blue\",\"blue\",\"blue\",\"blue\",\"blue\",\"blue\",\"blue\",\"blue\",\"blue\",\"blue\",\"blue\",\"blue\",\"blue\",\"blue\",\"blue\",\"blue\",\"blue\",\"blue\",\"blue\",\"blue\",\"blue\",\"blue\",\"blue\",\"blue\",\"blue\",\"blue\",\"blue\",\"blue\",\"blue\",\"blue\",\"blue\",\"blue\",\"blue\",\"blue\",\"blue\",\"blue\",\"blue\",\"blue\",\"blue\",\"blue\",\"blue\",\"blue\",\"blue\",\"blue\",\"blue\",\"blue\",\"blue\",\"blue\",\"blue\",\"blue\",\"blue\",\"blue\",\"blue\",\"blue\",\"blue\",\"blue\",\"blue\",\"blue\",\"blue\",\"blue\",\"blue\",\"blue\",\"blue\",\"blue\",\"blue\",\"blue\",\"blue\",\"blue\",\"blue\",\"blue\",\"blue\",\"blue\",\"blue\",\"blue\",\"blue\",\"blue\",\"blue\",\"blue\",\"blue\",\"blue\",\"blue\",\"blue\",\"blue\",\"blue\",\"blue\",\"blue\",\"blue\",\"blue\",\"blue\",\"blue\",\"blue\",\"blue\",\"blue\",\"blue\",\"blue\",\"blue\",\"blue\",\"blue\",\"blue\",\"blue\",\"blue\",\"blue\",\"blue\",\"blue\",\"blue\",\"blue\",\"blue\",\"blue\",\"blue\",\"blue\",\"blue\",\"blue\",\"blue\",\"blue\",\"blue\",\"blue\",\"blue\",\"blue\",\"blue\",\"blue\",\"blue\",\"blue\",\"blue\",\"blue\",\"blue\",\"blue\",\"blue\",\"blue\",\"blue\",\"blue\",\"blue\",\"blue\",\"blue\",\"blue\",\"blue\",\"blue\",\"blue\",\"blue\",\"blue\",\"blue\",\"blue\",\"blue\",\"blue\",\"blue\",\"blue\",\"blue\",\"blue\",\"blue\",\"blue\",\"blue\",\"blue\",\"blue\",\"blue\",\"blue\",\"blue\",\"blue\",\"blue\",\"blue\",\"blue\",\"blue\",\"blue\",\"blue\",\"blue\",\"blue\",\"blue\",\"blue\",\"blue\",\"blue\",\"blue\",\"blue\",\"blue\",\"blue\",\"blue\",\"blue\",\"blue\",\"blue\",\"blue\",\"blue\",\"blue\",\"blue\",\"blue\",\"blue\",\"blue\",\"blue\",\"blue\",\"blue\",\"blue\",\"blue\",\"blue\",\"blue\",\"blue\",\"blue\",\"blue\",\"blue\",\"blue\",\"blue\",\"blue\",\"blue\",\"blue\",\"blue\",\"blue\",\"blue\",\"blue\",\"blue\",\"blue\",\"blue\",\"blue\",\"blue\",\"blue\",\"blue\",\"blue\",\"blue\",\"blue\",\"blue\",\"blue\",\"blue\",\"blue\",\"blue\",\"blue\",\"blue\",\"blue\",\"blue\",\"blue\",\"blue\",\"blue\",\"blue\",\"blue\",\"blue\",\"blue\",\"blue\",\"blue\",\"blue\",\"blue\",\"blue\",\"blue\",\"blue\",\"blue\",\"blue\",\"blue\",\"blue\",\"blue\",\"blue\",\"blue\",\"blue\",\"blue\",\"blue\",\"blue\",\"blue\",\"blue\",\"blue\",\"blue\",\"blue\",\"blue\",\"blue\",\"blue\",\"blue\",\"blue\",\"blue\",\"blue\",\"blue\",\"blue\",\"blue\",\"blue\",\"blue\",\"blue\",\"blue\",\"blue\",\"blue\",\"blue\",\"blue\",\"blue\",\"blue\",\"blue\",\"blue\",\"blue\",\"blue\",\"blue\",\"blue\",\"blue\",\"blue\",\"blue\",\"blue\",\"blue\",\"blue\",\"blue\",\"blue\",\"blue\",\"blue\",\"blue\",\"blue\",\"blue\",\"blue\",\"blue\",\"blue\",\"blue\",\"blue\",\"blue\",\"blue\",\"blue\",\"blue\",\"blue\",\"blue\",\"blue\",\"blue\",\"blue\",\"blue\",\"blue\",\"blue\",\"blue\",\"blue\",\"blue\",\"blue\",\"blue\",\"blue\",\"blue\",\"blue\",\"blue\",\"blue\",\"blue\",\"blue\",\"blue\",\"blue\",\"blue\",\"blue\",\"blue\",\"blue\",\"blue\",\"blue\",\"blue\",\"blue\",\"blue\",\"blue\",\"blue\",\"blue\",\"blue\",\"blue\",\"blue\",\"blue\",\"blue\",\"blue\",\"blue\",\"blue\",\"blue\",\"blue\",\"blue\",\"blue\",\"blue\",\"blue\",\"blue\",\"blue\",\"blue\",\"blue\",\"blue\",\"blue\",\"blue\",\"blue\",\"blue\",\"blue\",\"blue\",\"blue\",\"blue\",\"blue\",\"blue\",\"blue\",\"blue\",\"blue\",\"blue\",\"blue\",\"blue\",\"blue\",\"blue\",\"blue\",\"blue\",\"blue\",\"blue\",\"blue\",\"blue\",\"blue\",\"blue\",\"blue\",\"blue\",\"blue\",\"blue\",\"blue\",\"blue\",\"blue\",\"blue\",\"blue\",\"blue\",\"blue\",\"blue\",\"blue\",\"blue\",\"blue\",\"blue\",\"blue\",\"blue\",\"blue\",\"blue\",\"blue\",\"blue\",\"blue\",\"blue\",\"blue\",\"blue\",\"blue\",\"blue\",\"blue\",\"blue\",\"blue\",\"blue\",\"blue\",\"blue\",\"blue\",\"blue\",\"blue\",\"blue\",\"blue\",\"blue\",\"blue\",\"blue\",\"blue\",\"blue\",\"blue\",\"blue\",\"blue\",\"blue\",\"blue\",\"blue\",\"blue\",\"blue\",\"blue\",\"blue\",\"blue\",\"blue\",\"blue\",\"blue\",\"blue\",\"blue\",\"blue\",\"blue\",\"blue\",\"blue\",\"blue\",\"blue\",\"blue\",\"blue\",\"blue\",\"blue\",\"blue\",\"blue\",\"blue\",\"blue\",\"blue\",\"blue\",\"blue\",\"blue\",\"blue\",\"blue\",\"blue\",\"blue\",\"blue\",\"blue\",\"blue\",\"blue\",\"blue\",\"blue\",\"blue\",\"blue\",\"blue\",\"blue\",\"blue\",\"blue\",\"blue\",\"blue\",\"blue\",\"blue\",\"blue\",\"blue\",\"blue\",\"blue\",\"blue\",\"blue\",\"blue\",\"blue\",\"blue\",\"blue\",\"blue\",\"blue\",\"blue\",\"blue\",\"blue\",\"blue\",\"blue\",\"blue\",\"blue\",\"blue\",\"blue\",\"blue\",\"blue\",\"blue\",\"blue\",\"blue\",\"blue\",\"blue\",\"blue\",\"blue\",\"blue\",\"blue\",\"blue\",\"blue\",\"blue\",\"blue\",\"blue\",\"blue\",\"blue\",\"blue\",\"blue\",\"blue\",\"blue\",\"blue\",\"blue\",\"blue\",\"blue\",\"blue\",\"blue\",\"blue\",\"blue\",\"blue\",\"blue\",\"blue\",\"blue\",\"blue\",\"blue\",\"blue\",\"blue\",\"blue\",\"blue\",\"blue\",\"blue\",\"blue\",\"blue\",\"blue\",\"blue\",\"blue\",\"blue\",\"blue\",\"blue\",\"blue\",\"blue\",\"blue\",\"blue\",\"blue\",\"blue\",\"blue\",\"blue\",\"blue\",\"blue\",\"blue\",\"blue\",\"blue\",\"blue\",\"blue\",\"blue\",\"blue\",\"blue\",\"blue\",\"blue\",\"blue\",\"blue\",\"blue\",\"blue\",\"blue\",\"blue\",\"blue\",\"blue\",\"blue\",\"blue\",\"blue\",\"blue\",\"blue\",\"blue\",\"blue\",\"blue\",\"blue\",\"blue\",\"blue\",\"blue\",\"blue\",\"blue\",\"blue\",\"blue\",\"blue\",\"blue\",\"blue\",\"blue\",\"blue\",\"blue\",\"blue\",\"blue\",\"blue\",\"blue\",\"blue\",\"blue\",\"blue\",\"blue\",\"blue\",\"blue\",\"blue\",\"blue\",\"blue\",\"blue\",\"blue\",\"blue\",\"blue\",\"blue\",\"blue\",\"blue\",\"blue\",\"blue\",\"blue\",\"blue\",\"blue\",\"blue\",\"blue\",\"blue\",\"blue\",\"blue\",\"blue\",\"blue\",\"blue\",\"blue\",\"blue\",\"blue\",\"blue\",\"blue\",\"blue\",\"blue\",\"blue\",\"blue\",\"blue\",\"blue\",\"blue\",\"blue\",\"blue\",\"blue\",\"blue\",\"blue\",\"blue\",\"blue\",\"blue\",\"blue\",\"blue\",\"blue\",\"blue\",\"blue\",\"blue\",\"blue\",\"blue\",\"blue\",\"blue\",\"blue\",\"blue\",\"blue\",\"blue\",\"blue\",\"blue\",\"blue\",\"blue\",\"blue\",\"blue\",\"blue\",\"blue\",\"blue\",\"blue\",\"blue\",\"blue\",\"blue\",\"blue\",\"blue\",\"blue\",\"blue\",\"blue\",\"blue\",\"blue\",\"blue\",\"blue\",\"blue\",\"blue\",\"blue\",\"blue\",\"blue\",\"blue\",\"blue\",\"blue\",\"blue\",\"blue\",\"blue\",\"blue\",\"blue\",\"blue\",\"blue\",\"blue\",\"blue\",\"blue\",\"blue\",\"blue\",\"blue\",\"blue\",\"blue\",\"blue\",\"blue\",\"blue\",\"blue\",\"blue\",\"blue\",\"blue\",\"blue\",\"blue\",\"blue\",\"blue\",\"blue\",\"blue\",\"blue\",\"blue\",\"blue\",\"blue\",\"blue\",\"blue\",\"blue\",\"blue\",\"blue\",\"blue\",\"blue\",\"blue\",\"blue\",\"blue\",\"blue\",\"blue\",\"blue\",\"blue\",\"blue\",\"blue\",\"blue\",\"blue\",\"blue\",\"blue\",\"blue\",\"blue\",\"blue\",\"blue\",\"blue\",\"blue\",\"blue\",\"blue\",\"blue\",\"blue\",\"blue\",\"blue\",\"blue\",\"blue\",\"blue\",\"blue\",\"blue\",\"blue\",\"blue\",\"blue\",\"blue\",\"blue\",\"blue\",\"blue\",\"blue\",\"blue\",\"blue\",\"blue\",\"blue\",\"blue\",\"blue\",\"blue\",\"blue\",\"blue\",\"blue\",\"blue\",\"blue\",\"blue\",\"blue\",\"blue\",\"blue\",\"blue\",\"blue\",\"blue\",\"blue\",\"blue\",\"blue\",\"blue\",\"blue\",\"blue\",\"blue\",\"blue\",\"blue\",\"blue\",\"blue\",\"blue\",\"blue\",\"blue\",\"blue\",\"blue\",\"blue\",\"blue\",\"blue\",\"blue\",\"blue\",\"blue\",\"blue\",\"blue\",\"blue\",\"blue\",\"blue\",\"blue\",\"blue\",\"blue\",\"blue\",\"blue\",\"blue\",\"blue\",\"blue\",\"blue\",\"blue\",\"blue\",\"blue\",\"blue\",\"blue\",\"blue\",\"blue\",\"blue\",\"blue\",\"blue\",\"blue\",\"blue\",\"blue\",\"blue\",\"blue\",\"blue\",\"blue\",\"blue\",\"blue\",\"blue\",\"blue\",\"blue\",\"blue\",\"blue\",\"blue\",\"blue\",\"blue\",\"blue\",\"blue\",\"blue\",\"blue\",\"blue\",\"blue\",\"blue\",\"blue\",\"blue\",\"blue\",\"blue\",\"blue\",\"blue\",\"blue\",\"blue\",\"blue\",\"blue\",\"blue\",\"blue\",\"blue\",\"blue\",\"blue\",\"blue\",\"blue\",\"blue\",\"blue\",\"blue\",\"blue\",\"blue\",\"blue\",\"blue\",\"blue\",\"blue\",\"blue\",\"blue\",\"blue\",\"blue\",\"blue\",\"blue\",\"blue\",\"blue\",\"blue\",\"blue\",\"blue\",\"blue\",\"blue\",\"blue\",\"blue\",\"blue\",\"blue\",\"blue\",\"blue\",\"blue\",\"blue\",\"blue\",\"blue\",\"blue\",\"blue\",\"blue\",\"blue\",\"blue\",\"blue\",\"blue\",\"blue\",\"blue\",\"blue\",\"blue\",\"blue\",\"blue\",\"blue\",\"blue\",\"blue\",\"blue\",\"blue\",\"blue\",\"blue\",\"blue\",\"blue\",\"blue\",\"blue\",\"blue\",\"blue\",\"blue\",\"blue\",\"blue\",\"blue\",\"blue\",\"blue\",\"blue\",\"blue\",\"blue\",\"blue\",\"blue\",\"blue\",\"blue\",\"blue\",\"blue\",\"blue\",\"blue\",\"blue\",\"blue\",\"blue\",\"blue\",\"blue\",\"blue\",\"blue\",\"blue\",\"blue\",\"blue\",\"blue\",\"blue\",\"blue\",\"blue\",\"blue\",\"blue\",\"blue\",\"blue\",\"blue\",\"blue\",\"blue\",\"blue\",\"blue\",\"blue\",\"blue\",\"blue\",\"blue\",\"blue\",\"blue\",\"blue\",\"blue\",\"blue\",\"blue\",\"blue\",\"blue\",\"blue\",\"blue\",\"blue\",\"blue\",\"blue\",\"blue\",\"blue\",\"blue\",\"blue\",\"blue\",\"blue\",\"blue\",\"blue\",\"blue\",\"blue\",\"blue\",\"blue\",\"blue\",\"blue\",\"blue\",\"blue\",\"blue\",\"blue\",\"blue\",\"blue\",\"blue\",\"blue\",\"blue\",\"blue\",\"blue\",\"blue\",\"blue\",\"blue\",\"blue\",\"blue\",\"blue\",\"blue\",\"blue\",\"blue\",\"blue\",\"blue\",\"blue\",\"blue\",\"blue\",\"blue\",\"blue\",\"blue\",\"blue\",\"blue\",\"blue\",\"blue\",\"blue\",\"blue\",\"blue\",\"blue\",\"blue\",\"blue\",\"blue\",\"blue\",\"blue\",\"blue\",\"blue\",\"blue\",\"blue\",\"blue\",\"blue\",\"blue\",\"blue\",\"blue\",\"blue\",\"blue\",\"blue\",\"blue\",\"blue\",\"blue\",\"blue\",\"blue\",\"blue\",\"blue\",\"blue\",\"blue\",\"blue\",\"blue\",\"blue\",\"blue\",\"blue\",\"blue\",\"blue\",\"blue\",\"blue\",\"blue\",\"blue\",\"blue\",\"blue\",\"blue\",\"blue\",\"blue\",\"blue\",\"blue\",\"blue\",\"blue\",\"blue\",\"blue\",\"blue\",\"blue\",\"blue\",\"blue\",\"blue\",\"blue\",\"blue\",\"blue\",\"blue\",\"blue\",\"blue\",\"blue\",\"blue\",\"blue\",\"blue\",\"blue\",\"blue\",\"blue\",\"blue\",\"blue\",\"blue\",\"blue\",\"blue\",\"blue\",\"blue\",\"blue\",\"blue\",\"blue\",\"blue\",\"blue\",\"blue\",\"blue\",\"blue\",\"blue\",\"blue\",\"blue\",\"blue\",\"blue\",\"blue\",\"blue\",\"blue\",\"blue\",\"blue\",\"blue\",\"blue\",\"blue\",\"blue\",\"blue\",\"blue\",\"blue\",\"blue\"]],[\"token\",[\"verified\",\"2gb\",\"illinois\",\"jazz\",\"checking\",\"telescope\",\"seasons\",\"astrologer\",\"contribution\",\"homemade\",\"heroes\",\"warcraft\",\"kumar\",\"tester\",\"politically\",\"conquer\",\"columbia\",\"quiet\",\"repeat\",\"kapil\",\"involve\",\"mckinsey\",\"switched\",\"att\",\"instance\",\"innocent\",\"portuguese\",\"subscribers\",\"cabinet\",\"terror\",\"85\",\"rotation\",\"shirts\",\"drawn\",\"bi\",\"aspergers\",\"inspiration\",\"beats\",\"\\u00a3\",\"approximately\",\"asset\",\"empathy\",\"rooting\",\"ia\",\"dandruff\",\"slab\",\"operator\",\"horrible\",\"dominant\",\"ocd\",\"spacetime\",\"blow\",\"installing\",\"learnt\",\"separation\",\"institution\",\"temples\",\"hons\",\"pound\",\"removing\",\"unemployment\",\"greenlit\",\"audit\",\"supplement\",\"roller\",\"dota\",\"tiny\",\"equally\",\"braces\",\"aggressive\",\"corn\",\"camps\",\"additional\",\"consent\",\"granted\",\"welfare\",\"myths\",\"stations\",\"timeline\",\"psychologist\",\"nagpur\",\"herself\",\"cooper\",\"exgirlfriend\",\"intercourse\",\"flip\",\"hurts\",\"lpa\",\"nerve\",\"tvs\",\"halloween\",\"screenshot\",\"biomedical\",\"covered\",\"milky\",\"onsite\",\"aside\",\"meaningful\",\"stretch\",\"joker\",\"encounter\",\"tone\",\"founders\",\"talked\",\"respectively\",\"downloads\",\"cocaine\",\"toxic\",\"sword\",\"fuck\",\"trainer\",\"partition\",\"boxing\",\"grid\",\"practicing\",\"menu\",\"cms\",\"indore\",\"ate\",\"volunteer\",\"misconceptions\",\"pics\",\"flies\",\"instantly\",\"trans\",\"friday\",\"sociopaths\",\"ctc\",\"hoax\",\"detailed\",\"sizes\",\"rejection\",\"limitations\",\"bharat\",\"kissing\",\"renewable\",\"oriented\",\"countrys\",\"dumps\",\"spiders\",\"technological\",\"advertisement\",\"headache\",\"zodiac\",\"accommodation\",\"venus\",\"calcium\",\"passenger\",\"falls\",\"overnight\",\"pickup\",\"gary\",\"transportation\",\"odds\",\"jupiter\",\"purchasing\",\"fluently\",\"flu\",\"photons\",\"conductor\",\"ohio\",\"balaji\",\"mcdonalds\",\"betting\",\"irrational\",\"sachin\",\"deactivate\",\"estimate\",\"hairs\",\"fluent\",\"errors\",\"remaining\",\"marriages\",\"medieval\",\"charles\",\"spider\",\"oxford\",\"gita\",\"races\",\"liquor\",\"poland\",\"lease\",\"co2\",\"selenium\",\"attempts\",\"crystal\",\"manaphy\",\"knight\",\"collapsed\",\"wheels\",\"behaviour\",\"bitcoins\",\"parliament\",\"himher\",\"handsome\",\"thousands\",\"caring\",\"kings\",\"lucky\",\"workplace\",\"condom\",\"intuitive\",\"chronic\",\"eyesight\",\"simulation\",\"prank\",\"quickest\",\"concert\",\"popularity\",\"connections\",\"disorders\",\"scripting\",\"appearance\",\"js\",\"depth\",\"cheque\",\"longterm\",\"documentaries\",\"dioxide\",\"bright\",\"info\",\"diseases\",\"appeal\",\"snap\",\"smoked\",\"singers\",\"boil\",\"probably\",\"temperatures\",\"appearing\",\"olive\",\"ntse\",\"telecom\",\"brief\",\"discrimination\",\"ethnic\",\"cache\",\"passionate\",\"shoulder\",\"assault\",\"marshmallow\",\"momentum\",\"yr\",\"migrate\",\"retire\",\"cet\",\"canvas\",\"vietnamese\",\"institutions\",\"meter\",\"roots\",\"integer\",\"imported\",\"ants\",\"lyft\",\"piercing\",\"il\",\"poop\",\"organisms\",\"ve\",\"entropy\",\"calm\",\"saddest\",\"toward\",\"myth\",\"sight\",\"filling\",\"hdmi\",\"satisfied\",\"transactions\",\"pharmacy\",\"nursing\",\"correlation\",\"regression\",\"awake\",\"md\",\"nri\",\"recommendations\",\"bin\",\"finland\",\"multi\",\"voted\",\"discovery\",\"edward\",\"touching\",\"immigrant\",\"geometry\",\"indicate\",\"ourselves\",\"texting\",\"seek\",\"expecting\",\"dj\",\"brake\",\"helicopter\",\"blonde\",\"triple\",\"ladies\",\"vivekananda\",\"switching\",\"prostitution\",\"banana\",\"magazines\",\"shippuden\",\"lucknow\",\"2019\",\"failing\",\"elizabeth\",\"irish\",\"ebook\",\"temporary\",\"governor\",\"wasting\",\"weekends\",\"cpt\",\"wax\",\"labor\",\"instruments\",\"instrumentation\",\"hates\",\"hip\",\"arnab\",\"bubble\",\"employers\",\"aadhaar\",\"boyfriends\",\"jake\",\"explained\",\"yesterday\",\"beta\",\"extrovert\",\"andhra\",\"micromax\",\"vertical\",\"lay\",\"nonprofit\",\"dubbed\",\"typing\",\"automotive\",\"thomas\",\"procedures\",\"priority\",\"funded\",\"arabs\",\"siblings\",\"guinea\",\"missile\",\"luck\",\"strategic\",\"defend\",\"module\",\"tuition\",\"acids\",\"controller\",\"committee\",\"housing\",\"integral\",\"peaceful\",\"refugees\",\"prescription\",\"interns\",\"supported\",\"womans\",\"dentist\",\"wives\",\"village\",\"affecting\",\"lte\",\"beaches\",\"austin\",\"substance\",\"engagement\",\"trainee\",\"measures\",\"trailer\",\"purchased\",\"15000\",\"uttar\",\"glue\",\"dtu\",\"medal\",\"photon\",\"engg\",\"violin\",\"column\",\"somehow\",\"rotate\",\"3000\",\"virat\",\"forgotten\",\"fingers\",\"slim\",\"arrest\",\"covalent\",\"ncert\",\"kernel\",\"da\",\"alarm\",\"ngo\",\"4gb\",\"productivity\",\"planned\",\"district\",\"berlin\",\"lists\",\"leads\",\"slang\",\"defence\",\"aspiring\",\"56\",\"enemy\",\"farming\",\"muller\",\"pays\",\"liver\",\"membrane\",\"secretly\",\"plug\",\"gum\",\"eclipse\",\"chewing\",\"labs\",\"zombie\",\"authority\",\"males\",\"argentina\",\"tasks\",\"fell\",\"nails\",\"palestine\",\"tanks\",\"identical\",\"deck\",\"qualification\",\"leadership\",\"kohli\",\"pronunciation\",\"hello\",\"violent\",\"sabha\",\"respiration\",\"transform\",\"warranty\",\"faculty\",\"adolf\",\"expenses\",\"jersey\",\"mercury\",\"whiskey\",\"tackle\",\"tweet\",\"blame\",\"cruise\",\"mahindra\",\"discharge\",\"reduced\",\"vodka\",\"mahatma\",\"bass\",\"compete\",\"stains\",\"pill\",\"swim\",\"ali\",\"gf\",\"ford\",\"prince\",\"sweat\",\"performing\",\"limits\",\"leonardo\",\"cow\",\"resolve\",\"matters\",\"pharmaceutical\",\"ray\",\"remotely\",\"pf\",\"clinical\",\"bpo\",\"homeless\",\"husbands\",\"rising\",\"newtons\",\"outcome\",\"derivative\",\"alpha\",\"grown\",\"capitalism\",\"astronaut\",\"hybrid\",\"palm\",\"teens\",\"hits\",\"airplanes\",\"none\",\"admin\",\"applicable\",\"amcat\",\"spam\",\"neutrality\",\"pixel\",\"festival\",\"faces\",\"molar\",\"snakes\",\"sip\",\"kik\",\"farm\",\"ltd\",\"votes\",\"publishing\",\"comfort\",\"frontend\",\"spin\",\"diagnosed\",\"buildings\",\"\\u00b0\",\"cashless\",\"addictive\",\"extinct\",\"ugc\",\"coke\",\"llb\",\"phrases\",\"struggle\",\"drives\",\"fiber\",\"grocery\",\"achieved\",\"penny\",\"bath\",\"allies\",\"uninstall\",\"ny\",\"appears\",\"effort\",\"satellites\",\"confirmed\",\"loneliness\",\"illuminati\",\"uri\",\"lucid\",\"preferably\",\"neither\",\"\\u221a\",\"pacific\",\"americas\",\"bs\",\"graduated\",\"bills\",\"tube\",\"germans\",\"assume\",\"cleared\",\"mate\",\"divide\",\"versions\",\"fallen\",\"journey\",\"anthem\",\"certificates\",\"looked\",\"sponsor\",\"useless\",\"dependent\",\"invite\",\"guru\",\"keyword\",\"aipmt\",\"clone\",\"kgs\",\"chip\",\"origins\",\"wide\",\"motivational\",\"elite\",\"wanna\",\"unity\",\"cough\",\"connecting\",\"mystery\",\"kim\",\"syrian\",\"voldemort\",\"responsibilities\",\"molecules\",\"boobs\",\"holidays\",\"tutorial\",\"circumstances\",\"fiitjee\",\"islands\",\"bypass\",\"slowly\",\"mixture\",\"aluminum\",\"salesforce\",\"twin\",\"iot\",\"remedy\",\"sheets\",\"pole\",\"hated\",\"females\",\"protected\",\"irs\",\"insecure\",\"entering\",\"neuroscience\",\"offices\",\"delta\",\"suggestion\",\"snapdeal\",\"backstory\",\"periodic\",\"cancelled\",\"mans\",\"complicated\",\"bitsat\",\"pleasure\",\"loop\",\"dropbox\",\"selfish\",\"nude\",\"20000\",\"voter\",\"variables\",\"victory\",\"closest\",\"compensation\",\"extended\",\"locations\",\"cracked\",\"perks\",\"ended\",\"exit\",\"awareness\",\"pakistanis\",\"ebooks\",\"bull\",\"unblock\",\"100000\",\"entrepreneurship\",\"infrastructure\",\"scotland\",\"guest\",\"attacked\",\"hurting\",\"lion\",\"reject\",\"purposes\",\"knife\",\"thai\",\"ipl\",\"knee\",\"accepting\",\"spent\",\"punjabi\",\"tab\",\"quoras\",\"caffeine\",\"athletes\",\"ink\",\"cooked\",\"improving\",\"invaded\",\"allah\",\"thermodynamics\",\"mortgage\",\"firsttime\",\"achievements\",\"issued\",\"breath\",\"award\",\"llc\",\"legends\",\"mood\",\"influenced\",\"proteins\",\"holy\",\"performed\",\"pee\",\"blocks\",\"molecule\",\"interests\",\"imei\",\"requires\",\"cisco\",\"moves\",\"marrying\",\"mca\",\"perfectly\",\"iisc\",\"corporation\",\"shiva\",\"viruses\",\"difficulty\",\"50000\",\"volte\",\"shampoo\",\"secular\",\"transplant\",\"ghz\",\"ahead\",\"crew\",\"interact\",\"depend\",\"hawaii\",\"hiv\",\"evening\",\"vegetable\",\"revenge\",\"suppose\",\"busy\",\"label\",\"rogue\",\"rational\",\"hillstation\",\"brains\",\"urdu\",\"imagine\",\"salaries\",\"survey\",\"g4\",\"butt\",\"manufacturers\",\"saas\",\"residency\",\"recommendation\",\"purple\",\"fault\",\"aadhar\",\"aging\",\"bhopal\",\"conducted\",\"loses\",\"infection\",\"forest\",\"impacts\",\"collection\",\"fridge\",\"diamond\",\"mis\",\"recorded\",\"march\",\"conditioner\",\"signature\",\"listed\",\"branches\",\"manchester\",\"wanting\",\"perception\",\"absolutely\",\"servers\",\"soluble\",\"swami\",\"lumia\",\"directors\",\"52\",\"2008\",\"gaining\",\"stereotypes\",\"homes\",\"vegas\",\"jam\",\"behave\",\"relatively\",\"forum\",\"ib\",\"earphones\",\"facilities\",\"april\",\"finally\",\"tail\",\"capacitor\",\"tiger\",\"deaf\",\"deliver\",\"django\",\"expand\",\"skip\",\"nearly\",\"maybe\",\"task\",\"gateway\",\"strangest\",\"abstract\",\"adding\",\"suck\",\"tim\",\"printed\",\"sigma\",\"immigrate\",\"decline\",\"arrested\",\"95\",\"narcissistic\",\"freelancing\",\"patterns\",\"expired\",\"casual\",\"tablets\",\"patients\",\"lean\",\"pieces\",\"laymans\",\"whatever\",\"polish\",\"lemon\",\"abortion\",\"i3\",\"theorem\",\"h\",\"compulsory\",\"helped\",\"sons\",\"feminism\",\"compiler\",\"tested\",\"enhance\",\"adhd\",\"manhattan\",\"iii\",\"nail\",\"eee\",\"deals\",\"excellent\",\"ipo\",\"folder\",\"sand\",\"continuous\",\"capable\",\"libraries\",\"aggregate\",\"64\",\"bsnl\",\"profiles\",\"spirit\",\"pulled\",\"owns\",\"deloitte\",\"therapist\",\"acts\",\"millions\",\"authors\",\"marathi\",\"dvd\",\"coconut\",\"swiss\",\"interaction\",\"ncr\",\"kannada\",\"smallest\",\"advisable\",\"smartest\",\"sorry\",\"normally\",\"ends\",\"rome\",\"spectrum\",\"cousin\",\"75\",\"suzuki\",\"nights\",\"cap\",\"enable\",\"counselling\",\"proxy\",\"margin\",\"shops\",\"hackers\",\"tatkal\",\"opened\",\"cinema\",\"consumption\",\"coal\",\"silent\",\"choosing\",\"introduction\",\"electromagnetic\",\"hcl\",\"complaint\",\"puppies\",\"vc\",\"symbols\",\"lenses\",\"username\",\"arrow\",\"adopted\",\"affects\",\"sudden\",\"pcm\",\"gel\",\"affair\",\"pinterest\",\"statements\",\"supplements\",\"justified\",\"turns\",\"santa\",\"shoe\",\"trek\",\"headphone\",\"girlfriends\",\"verizon\",\"rocket\",\"conference\",\"ego\",\"srm\",\"afghanistan\",\"nucleus\",\"generated\",\"chinas\",\"ww1\",\"consultancy\",\"socially\",\"allen\",\"berkeley\",\"missed\",\"crying\",\"introduced\",\"ps3\",\"flour\",\"brought\",\"elder\",\"minecraft\",\"9th\",\"freelancer\",\"circles\",\"scars\",\"entertainment\",\"turbine\",\"deeply\",\"rom\",\"evolved\",\"nato\",\"strengths\",\"ide\",\"tweets\",\"scholarships\",\"mentor\",\"collect\",\"hdfc\",\"mandarin\",\"solo\",\"terrible\",\"influential\",\"professionals\",\"65\",\"recognition\",\"nvidia\",\"cia\",\"designs\",\"10k\",\"creation\",\"tom\",\"rated\",\"introverts\",\"boiling\",\"communism\",\"treaty\",\"whereas\",\"thanks\",\"cigarette\",\"bengaluru\",\"oneplus\",\"reserve\",\"advertise\",\"nits\",\"helping\",\"bruce\",\"mp3\",\"severe\",\"proposal\",\"cultures\",\"tap\",\"animated\",\"planes\",\"hall\",\"cognitive\",\"supports\",\"keys\",\"gotten\",\"feedback\",\"recording\",\"proceed\",\"membership\",\"console\",\"overseas\",\"hows\",\"william\",\"billionaires\",\"updated\",\"pre\",\"organizations\",\"messi\",\"unexpected\",\"nitrogen\",\"hungry\",\"nigeria\",\"sync\",\"arduino\",\"gross\",\"outer\",\"searching\",\"workers\",\"outlook\",\"europeans\",\"founder\",\"lectures\",\"legitimate\",\"camp\",\"ordinary\",\"investments\",\"bone\",\"raising\",\"quite\",\"ages\",\"joint\",\"johnson\",\"destination\",\"concerned\",\"belief\",\"refrigerator\",\"implications\",\"manga\",\"mandatory\",\"obamas\",\"lawyers\",\"bedroom\",\"icon\",\"qualifications\",\"qa\",\"bikes\",\"boston\",\"holding\",\"session\",\"appointment\",\"weaknesses\",\"iphones\",\"motorcycle\",\"schizophrenia\",\"5th\",\"intellectual\",\"eaten\",\"attending\",\"medals\",\"adsense\",\"nda\",\"6th\",\"kali\",\"georgia\",\"wechat\",\"earlier\",\"drone\",\"truck\",\"horse\",\"merchant\",\"torque\",\"seed\",\"backend\",\"holmes\",\"graduating\",\"400\",\"bones\",\"sufficient\",\"participate\",\"rifle\",\"shock\",\"downloaded\",\"earthquake\",\"breasts\",\"secretary\",\"insert\",\"damaged\",\"massive\",\"standing\",\"remainder\",\"programme\",\"holocaust\",\"totally\",\"belt\",\"affairs\",\"nokia\",\"mechanism\",\"pin\",\"scan\",\"fought\",\"superpower\",\"poetry\",\"signals\",\"educated\",\"scariest\",\"trains\",\"closer\",\"weapon\",\"icici\",\"serial\",\"bicycle\",\"terminal\",\"finished\",\"stolen\",\"inspiring\",\"cuisine\",\"spark\",\"sounds\",\"pricing\",\"click\",\"underwear\",\"kidney\",\"bengal\",\"invention\",\"discount\",\"chase\",\"evaluate\",\"distributed\",\"themes\",\"amd\",\"stem\",\"st\",\"genre\",\"vegetables\",\"council\",\"bihar\",\"thick\",\"mouse\",\"worry\",\"newly\",\"updates\",\"candy\",\"prepaid\",\"wet\",\"rap\",\"motors\",\"implemented\",\"theoretical\",\"fabric\",\"mexican\",\"portfolio\",\"technique\",\"icse\",\"expansion\",\"evolutionary\",\"justify\",\"trick\",\"attached\",\"lightning\",\"pitch\",\"armed\",\"einstein\",\"conversion\",\"iitjee\",\"declared\",\"admit\",\"acquisition\",\"innovation\",\"runs\",\"wwe\",\"trial\",\"memories\",\"refuse\",\"netherlands\",\"committed\",\"fraud\",\"jailbreak\",\"settle\",\"badly\",\"approved\",\"eligibility\",\"trend\",\"increases\",\"comic\",\"quorans\",\"cellular\",\"matches\",\"receiving\",\"bmw\",\"vlsi\",\"signed\",\"lakes\",\"350\",\"communications\",\"pork\",\"joined\",\"anyway\",\"differentiate\",\"actresses\",\"29\",\"ethics\",\"premier\",\"hearing\",\"vehicles\",\"drama\",\"instant\",\"lips\",\"dates\",\"july\",\"holiday\",\"coach\",\"malayalam\",\"superior\",\"soviet\",\"plate\",\"throw\",\"worship\",\"bars\",\"sharma\",\"mothers\",\"integrated\",\"clubs\",\"bug\",\"melbourne\",\"co\",\"bisexual\",\"regions\",\"lesson\",\"heads\",\"reader\",\"snake\",\"qualify\",\"paul\",\"causing\",\"disappear\",\"era\",\"lets\",\"qualified\",\"spiritual\",\"wolf\",\"requirement\",\"journalism\",\"studied\",\"lowest\",\"vader\",\"coursera\",\"stark\",\"configuration\",\"verbal\",\"undergrad\",\"dimensions\",\"transition\",\"efficiently\",\"interstellar\",\"locked\",\"summary\",\"chandigarh\",\"ghosts\",\"included\",\"operate\",\"dimension\",\"mount\",\"noticed\",\"rating\",\"somewhere\",\"martin\",\"bra\",\"bird\",\"zuckerberg\",\"sensor\",\"audience\",\"dirty\",\"starbucks\",\"permission\",\"residential\",\"wholesale\",\"assets\",\"clearly\",\"km\",\"invade\",\"ipcc\",\"fb\",\"shell\",\"shave\",\"loud\",\"tip\",\"seeds\",\"sets\",\"polar\",\"although\",\"june\",\"judaism\",\"anti\",\"instrument\",\"seven\",\"shooting\",\"j\",\"portal\",\"tower\",\"github\",\"linked\",\"admitted\",\"punishment\",\"mid\",\"micro\",\"cured\",\"lifestyle\",\"nor\",\"upset\",\"challenge\",\"soap\",\"standards\",\"integration\",\"lottery\",\"lab\",\"williams\",\"odd\",\"soil\",\"sensitive\",\"route\",\"tattoos\",\"coin\",\"declare\",\"frame\",\"differential\",\"bowl\",\"softwares\",\"notifications\",\"maintenance\",\"inner\",\"apples\",\"converted\",\"recruiter\",\"bombay\",\"command\",\"posting\",\"controlled\",\"balls\",\"personally\",\"poker\",\"extract\",\"hired\",\"bugs\",\"providers\",\"loans\",\"calculator\",\"attractions\",\"torrents\",\"keywords\",\"profession\",\"blogging\",\"transport\",\"sue\",\"anonymously\",\"compounds\",\"robot\",\"buddhism\",\"sweet\",\"defense\",\"nobody\",\"uc\",\"defined\",\"division\",\"bags\",\"epic\",\"unhealthy\",\"craziest\",\"urban\",\"combination\",\"pair\",\"laugh\",\"cv\",\"usd\",\"launched\",\"usps\",\"visited\",\"nexus\",\"regularly\",\"brothers\",\"broker\",\"concentrate\",\"agreement\",\"nervous\",\"frozen\",\"detail\",\"sir\",\"situations\",\"borderline\",\"angularjs\",\"abusive\",\"tourism\",\"relate\",\"august\",\"communist\",\"accountant\",\"dumb\",\"arab\",\"b2b\",\"du\",\"thermal\",\"asians\",\"threat\",\"karma\",\"passive\",\"homosexuality\",\"putting\",\"quantitative\",\"relativity\",\"sanskrit\",\"opinions\",\"verify\",\"bear\",\"roll\",\"expanding\",\"teenage\",\"jeans\",\"providing\",\"shared\",\"extreme\",\"mi\",\"vr\",\"progress\",\"greece\",\"cpu\",\"ips\",\"merge\",\"reputation\",\"loving\",\"salman\",\"iss\",\"warm\",\"dental\",\"extension\",\"attraction\",\"fictional\",\"journal\",\"login\",\"secondary\",\"recognize\",\"southern\",\"ph\",\"lunch\",\"wallet\",\"ronaldo\",\"larger\",\"actions\",\"fathers\",\"adopt\",\"claims\",\"bottom\",\"therapy\",\"patient\",\"described\",\"virginity\",\"functional\",\"ionic\",\"chartered\",\"discover\",\"55\",\"21st\",\"biased\",\"mad\",\"northern\",\"onto\",\"liberals\",\"premium\",\"neutral\",\"detect\",\"diagram\",\"sperm\",\"ga\",\"bleach\",\"spread\",\"contributions\",\"activate\",\"prior\",\"safest\",\"holder\",\"360\",\"aim\",\"rental\",\"families\",\"everybody\",\"shut\",\"payments\",\"150\",\"cube\",\"vegan\",\"newspaper\",\"beef\",\"houses\",\"preferred\",\"simultaneously\",\"marked\",\"reactions\",\"emergency\",\"protection\",\"cab\",\"forex\",\"norway\",\"immigrants\",\"googles\",\"ssb\",\"wing\",\"yrs\",\"ensure\",\"spy\",\"reasoning\",\"strange\",\"forgive\",\"turkish\",\"tag\",\"ranking\",\"platforms\",\"fox\",\"existed\",\"walmart\",\"lazy\",\"ears\",\"clock\",\"beam\",\"rare\",\"bush\",\"2011\",\"stops\",\"batteries\",\"certified\",\"naked\",\"worldwide\",\"staying\",\"lifetime\",\"ted\",\"lake\",\"wealthy\",\"transit\",\"stephen\",\"rural\",\"versa\",\"pets\",\"commonly\",\"adults\",\"ultimate\",\"genius\",\"vinegar\",\"allows\",\"aid\",\"retirement\",\"airtel\",\"sciences\",\"mountain\",\"drinks\",\"tour\",\"wind\",\"seattle\",\"disabled\",\"bodies\",\"lesbian\",\"governments\",\"kinetic\",\"tumblr\",\"absolute\",\"author\",\"toilet\",\"whey\",\"sleepy\",\"molecular\",\"watches\",\"inventions\",\"rain\",\"34\",\"angular\",\"o\",\"dish\",\"however\",\"agents\",\"abs\",\"switzerland\",\"transformer\",\"clearing\",\"consciousness\",\"broadband\",\"uae\",\"automatic\",\"opposed\",\"geography\",\"astronauts\",\"decisions\",\"cement\",\"induction\",\"luxury\",\"upvotes\",\"politicians\",\"posted\",\"toefl\",\"kitchen\",\"noise\",\"radius\",\"dye\",\"miles\",\"risks\",\"scientifically\",\"mnc\",\"propose\",\"prepared\",\"iiit\",\"mention\",\"equipment\",\"darth\",\"january\",\"surname\",\"raised\",\"attitude\",\"gta\",\"david\",\"hike\",\"awkward\",\"proven\",\"productive\",\"lg\",\"filled\",\"atmosphere\",\"lee\",\"irctc\",\"addicted\",\"dynamic\",\"employment\",\"weekend\",\"replacement\",\"singing\",\"owners\",\"bipolar\",\"tomorrow\",\"poems\",\"default\",\"kvpy\",\"sauce\",\"competitors\",\"russians\",\"sample\",\"crimes\",\"hang\",\"inspired\",\"furniture\",\"throughout\",\"presence\",\"efficiency\",\"leg\",\"biological\",\"pilani\",\"conversations\",\"inspirational\",\"bachelor\",\"centers\",\"withdraw\",\"fundamental\",\"comparison\",\"november\",\"fifa\",\"penalty\",\"algebra\",\"joke\",\"htc\",\"pilots\",\"collapse\",\"texts\",\"vocabulary\",\"moved\",\"sc\",\"smile\",\"october\",\"dot\",\"genetic\",\"architect\",\"url\",\"51\",\"sore\",\"uniform\",\"re\",\"rails\",\"smaller\",\"marine\",\"terrorists\",\"nazi\",\"breast\",\"politician\",\"subtitles\",\"chosen\",\"egypt\",\"thin\",\"packages\",\"editor\",\"bands\",\"mythology\",\"reasonable\",\"permit\",\"acceptable\",\"seriously\",\"iraq\",\"fever\",\"visitor\",\"honest\",\"friction\",\"offering\",\"smarter\",\"ahmedabad\",\"replaced\",\"resolution\",\"burning\",\"bridge\",\"catholic\",\"calendar\",\"resident\",\"policies\",\"forced\",\"leading\",\"arm\",\"deserve\",\"context\",\"coolest\",\"arranged\",\"arizona\",\"comics\",\"harm\",\"democrats\",\"jail\",\"breed\",\"anywhere\",\"psu\",\"christ\",\"violence\",\"agriculture\",\"objective\",\"moments\",\"infinity\",\"supporting\",\"critical\",\"trees\",\"beyond\",\"bag\",\"vitamin\",\"assembly\",\"solved\",\"array\",\"perspective\",\"pas\",\"wwii\",\"skinny\",\"contains\",\"lift\",\"cleaning\",\"peter\",\"aap\",\"pimples\",\"initial\",\"lesserknown\",\"sights\",\"principles\",\"realize\",\"millionaire\",\"faux\",\"orbit\",\"desire\",\"hi\",\"prophet\",\"suits\",\"careers\",\"thinks\",\"quantity\",\"spots\",\"wage\",\"asleep\",\"sociology\",\"guard\",\"units\",\"structural\",\"operation\",\"pants\",\"w\",\"bulk\",\"possibly\",\"drunk\",\"fired\",\"accident\",\"inch\",\"bottle\",\"aerospace\",\"narcissist\",\"ux\",\"angeles\",\"wood\",\"index\",\"safely\",\"robotics\",\"edition\",\"metals\",\"practices\",\"scheme\",\"interior\",\"diabetes\",\"nobel\",\"youth\",\"lived\",\"september\",\"chief\",\"proposed\",\"assuming\",\"sin\",\"counter\",\"disable\",\"introduce\",\"restore\",\"swimming\",\"intern\",\"answering\",\"mentioned\",\"crash\",\"laser\",\"teenagers\",\"presentation\",\"quran\",\"classified\",\"demonetisation\",\"communicate\",\"cotton\",\"autism\",\"anger\",\"environmental\",\"stable\",\"7th\",\"bread\",\"invited\",\"wisdom\",\"wrote\",\"widely\",\"minor\",\"formal\",\"dreaming\",\"managers\",\"escape\",\"pollution\",\"taiwan\",\"verification\",\"los\",\"figures\",\"26\",\"illness\",\"sides\",\"compatible\",\"pack\",\"conspiracy\",\"hedge\",\"flights\",\"dropped\",\"former\",\"suffer\",\"aware\",\"designers\",\"mahabharata\",\"evolve\",\"weigh\",\"dies\",\"fruits\",\"cc\",\"butter\",\"sharing\",\"atoms\",\"tongue\",\"transaction\",\"poverty\",\"suffering\",\"presidents\",\"resistance\",\"adam\",\"civilization\",\"mining\",\"toronto\",\"stick\",\"increased\",\"wild\",\"freelance\",\"removal\",\"aws\",\"rio\",\"principle\",\"asus\",\"cute\",\"consumer\",\"pool\",\"variable\",\"tutorials\",\"advance\",\"keeping\",\"visible\",\"cognizant\",\"equations\",\"rooms\",\"krishna\",\"printer\",\"tooth\",\"mentally\",\"realistic\",\"automobile\",\"cake\",\"tie\",\"beach\",\"ghost\",\"comfortable\",\"mysql\",\"oral\",\"closed\",\"helps\",\"maharashtra\",\"admissions\",\"i5\",\"partners\",\"axis\",\"beliefs\",\"neck\",\"clans\",\"hidden\",\"cyber\",\"voting\",\"bacteria\",\"layer\",\"chhattisgarh\",\"5000\",\"sitting\",\"murder\",\"argument\",\"f\",\"privacy\",\"syndrome\",\"2010\",\"bite\",\"vacation\",\"isro\",\"trouble\",\"records\",\"answered\",\"digit\",\"defeat\",\"childhood\",\"5s\",\"gates\",\"f1\",\"town\",\"anal\",\"copper\",\"talks\",\"affiliate\",\"sociopath\",\"installed\",\"static\",\"copyright\",\"animation\",\"donate\",\"stranger\",\"bcom\",\"destroyed\",\"gujarat\",\"foundation\",\"prize\",\"components\",\"foreigner\",\"arms\",\"unlimited\",\"needing\",\"settings\",\"item\",\"eve\",\"competition\",\"landing\",\"beard\",\"patent\",\"ending\",\"2020\",\"incident\",\"petroleum\",\"florida\",\"particularly\",\"ups\",\"generator\",\"leather\",\"heal\",\"experiment\",\"28\",\"passing\",\"talent\",\"remote\",\"300\",\"published\",\"impossible\",\"steam\",\"80\",\"washing\",\"guilty\",\"punjab\",\"70\",\"album\",\"bullet\",\"paris\",\"interface\",\"agencies\",\"mission\",\"digits\",\"modis\",\"recruitment\",\"manipal\",\"telling\",\"meal\",\"orange\",\"stone\",\"links\",\"ab\",\"upper\",\"cameras\",\"p\",\"combat\",\"passion\",\"shower\",\"thailand\",\"beings\",\"grad\",\"27\",\"finger\",\"jump\",\"lights\",\"ui\",\"bba\",\"sweden\",\"arrive\",\"4th\",\"amendment\",\"window\",\"satellite\",\"al\",\"matlab\",\"jokes\",\"muhammad\",\"expression\",\"booking\",\"dinner\",\"skype\",\"lots\",\"2018\",\"teen\",\"finish\",\"dslr\",\"mens\",\"proud\",\"entrepreneurs\",\"ukraine\",\"coins\",\"scenario\",\"transmission\",\"ignore\",\"pride\",\"contribute\",\"grand\",\"curve\",\"false\",\"operations\",\"breakup\",\"eventually\",\"acquire\",\"commission\",\"lies\",\"spoken\",\"pills\",\"masturbating\",\"jackson\",\"airbnb\",\"delivered\",\"disk\",\"radiation\",\"plays\",\"marvel\",\"particle\",\"breakfast\",\"smartphones\",\"relevant\",\"quota\",\"refund\",\"inches\",\"telugu\",\"angel\",\"eastern\",\"inflation\",\"predict\",\"annoying\",\"obc\",\"tough\",\"conduct\",\"originate\",\"notification\",\"backup\",\"harder\",\"richest\",\"pronounce\",\"sri\",\"wheel\",\"wasnt\",\"oldest\",\"sheet\",\"soda\",\"20s\",\"wipro\",\"awesome\",\"facial\",\"z\",\"noida\",\"confident\",\"fbi\",\"corrupt\",\"succeed\",\"reddit\",\"associate\",\"input\",\"guns\",\"rahul\",\"baking\",\"description\",\"musical\",\"apache\",\"nowadays\",\"fluid\",\"capacity\",\"loose\",\"freshman\",\"cfa\",\"optional\",\"theres\",\"ps4\",\"trends\",\"jon\",\"richard\",\"legit\",\"nodejs\",\"document\",\"sexually\",\"particles\",\"singer\",\"printing\",\"captain\",\"valuable\",\"several\",\"aiims\",\"boot\",\"sit\",\"zone\",\"billionaire\",\"floor\",\"gravitational\",\"export\",\"motivation\",\"golden\",\"transgender\",\"healthcare\",\"heaven\",\"81\",\"leaves\",\"listening\",\"overall\",\"press\",\"dishes\",\"railways\",\"warming\",\"enfield\",\"extent\",\"acceleration\",\"afford\",\"bonds\",\"border\",\"registration\",\"cast\",\"hope\",\"shipping\",\"karnataka\",\"specifically\",\"opportunity\",\"arabia\",\"pump\",\"pg\",\"carrier\",\"plot\",\"kingdom\",\"contract\",\"painful\",\"kindle\",\"boring\",\"essential\",\"disney\",\"charger\",\"seconds\",\"measured\",\"honda\",\"ba\",\"makeup\",\"\\u2013\",\"mini\",\"annual\",\"traits\",\"retrieve\",\"willing\",\"swift\",\"consume\",\"hindus\",\"psychopath\",\"tells\",\"solving\",\"conditions\",\"artists\",\"spotify\",\"bomb\",\"integrate\",\"stuck\",\"nikon\",\"gadgets\",\"womens\",\"judge\",\"republicans\",\"vacuum\",\"felt\",\"putin\",\"tennis\",\"concentration\",\"fans\",\"constantly\",\"matrix\",\"secrets\",\"spot\",\"soft\",\"stored\",\"neural\",\"submit\",\"scores\",\"ola\",\"wire\",\"gdp\",\"jaipur\",\"typically\",\"airline\",\"roles\",\"cheaper\",\"machines\",\"shift\",\"impress\",\"basics\",\"32\",\"conservative\",\"birds\",\"tend\",\"duty\",\"setup\",\"rude\",\"pink\",\"church\",\"mine\",\"jack\",\"sending\",\"cooking\",\"versus\",\"expert\",\"olympic\",\"biotechnology\",\"gurgaon\",\"worked\",\"codes\",\"successfully\",\"hardware\",\"faith\",\"pr\",\"television\",\"compound\",\"vit\",\"universal\",\"thank\",\"grammatically\",\"chicago\",\"ivy\",\"worried\",\"enterprise\",\"sodium\",\"railway\",\"remedies\",\"racism\",\"tracking\",\"psychological\",\"apartment\",\"magazine\",\"martial\",\"beauty\",\"waiting\",\"attacks\",\"horror\",\"fantasy\",\"ma\",\"select\",\"increasing\",\"metro\",\"opt\",\"map\",\"watched\",\"gear\",\"icloud\",\"james\",\"comedy\",\"lollipop\",\"ireland\",\"upcoming\",\"italian\",\"oven\",\"emotionally\",\"decided\",\"lakh\",\"grey\",\"kept\",\"produced\",\"mouth\",\"manual\",\"dhoni\",\"fill\",\"throat\",\"shoot\",\"liked\",\"innovative\",\"immediately\",\"lonely\",\"fighting\",\"max\",\"accidentally\",\"schedule\",\"orgasm\",\"rape\",\"ride\",\"muscles\",\"graduates\",\"taller\",\"boost\",\"lakhs\",\"microwave\",\"electrons\",\"upon\",\"attract\",\"ap\",\"abuse\",\"earths\",\"forever\",\"underrated\",\"facing\",\"terrorist\",\"alien\",\"celebrity\",\"frequently\",\"vpn\",\"wales\",\"powder\",\"superman\",\"mixed\",\"caught\",\"goods\",\"beginning\",\"starts\",\"atomic\",\"associated\",\"triangle\",\"parties\",\"banning\",\"k\",\"honey\",\"monitor\",\"graph\",\"leaders\",\"embedded\",\"juice\",\"split\",\"lady\",\"sequence\",\"911\",\"harassment\",\"nepal\",\"pop\",\"habit\",\"setting\",\"edge\",\"ww2\",\"gps\",\"federal\",\"charged\",\"lying\",\"empty\",\"whenever\",\"airplane\",\"jet\",\"destroy\",\"ies\",\"wouldnt\",\"quick\",\"decrease\",\"robert\",\"pradesh\",\"professors\",\"massage\",\"held\",\"spending\",\"markets\",\"objects\",\"chart\",\"mechanics\",\"silver\",\"usage\",\"basketball\",\"gen\",\"periods\",\"identity\",\"individuals\",\"css\",\"soul\",\"ipod\",\"chest\",\"understanding\",\"coast\",\"classic\",\"spain\",\"babies\",\"sd\",\"hostel\",\"shirt\",\"further\",\"logical\",\"franchise\",\"obtain\",\"foreigners\",\"fully\",\"region\",\"designed\",\"cheated\",\"beneficial\",\"shes\",\"accent\",\"couldnt\",\"queen\",\"sick\",\"blowing\",\"properly\",\"stronger\",\"returns\",\"condition\",\"musk\",\"ugly\",\"teams\",\"filter\",\"snow\",\"glasses\",\"employer\",\"solid\",\"followed\",\"embarrassing\",\"auto\",\"meeting\",\"belong\",\"strike\",\"internships\",\"bachelors\",\"administration\",\"temple\",\"wealth\",\"retail\",\"speakers\",\"electoral\",\"headphones\",\"streaming\",\"mirror\",\"diesel\",\"republic\",\"antivirus\",\"customers\",\"atm\",\"vagina\",\"cigarettes\",\"aptitude\",\"lewis\",\"saudi\",\"puppy\",\"recovery\",\"jimmy\",\"obsessed\",\"domestic\",\"pen\",\"batch\",\"de\",\"drawing\",\"ai\",\"medium\",\"simply\",\"photoshop\",\"sms\",\"turning\",\"nadu\",\"appropriate\",\"adobe\",\"substitute\",\"fruit\",\"recipes\",\"fighter\",\"saving\",\"greater\",\"cheat\",\"routine\",\"push\",\"sherlock\",\"arguments\",\"sony\",\"import\",\"soldiers\",\"charges\",\"emotions\",\"ibm\",\"un\",\"innovations\",\"itunes\",\"consultant\",\"iims\",\"relations\",\"psychopaths\",\"existing\",\"angle\",\"clash\",\"bus\",\"australian\",\"crazy\",\"pull\",\"theories\",\"savings\",\"suit\",\"contrast\",\"calculus\",\"pi\",\"credits\",\"bluetooth\",\"himself\",\"traveling\",\"criminal\",\"xiaomi\",\"zealand\",\"seats\",\"electron\",\"script\",\"11th\",\"lessons\",\"programmers\",\"december\",\"flag\",\"singh\",\"arabic\",\"sale\",\"nfl\",\"grammar\",\"killing\",\"virgin\",\"differently\",\"poem\",\"provided\",\"automation\",\"shy\",\"translation\",\"mathematical\",\"45\",\"celebrities\",\"spring\",\"downloading\",\"dr\",\"organization\",\"majority\",\"clients\",\"hd\",\"motivate\",\"thats\",\"thesis\",\"door\",\"weakest\",\"saw\",\"canon\",\"younger\",\"costs\",\"river\",\"rings\",\"factory\",\"decent\",\"clintons\",\"holes\",\"desert\",\"divorce\",\"sold\",\"cheese\",\"atom\",\"taught\",\"minute\",\"ocean\",\"crisis\",\"represent\",\"surgical\",\"parent\",\"brexit\",\"possibility\",\"longest\",\"edit\",\"scholarship\",\"motivated\",\"chocolate\",\"faced\",\"90\",\"parallel\",\"foot\",\"examination\",\"friendly\",\"kinds\",\"wins\",\"islamic\",\"degrees\",\"registered\",\"distribution\",\"junior\",\"gave\",\"sing\",\"articles\",\"hadoop\",\"saved\",\"hero\",\"ear\",\"asks\",\"improved\",\"teenager\",\"forms\",\"wash\",\"provides\",\"washington\",\"strikes\",\"binary\",\"syria\",\"indonesia\",\"powers\",\"highly\",\"heshe\",\"happiness\",\"director\",\"citizenship\",\"knew\",\"humanity\",\"translate\",\"nba\",\"permanently\",\"soccer\",\"todays\",\"challenges\",\"barack\",\"title\",\"latin\",\"fitness\",\"genuine\",\"investor\",\"dislike\",\"scenes\",\"hacker\",\"bangladesh\",\"ebay\",\"earning\",\"dell\",\"paytm\",\"spouse\",\"bored\",\"roman\",\"official\",\"dragon\",\"park\",\"except\",\"habits\",\"quote\",\"astrology\",\"congress\",\"automatically\",\"island\",\"religions\",\"christianity\",\"supreme\",\"owner\",\"hell\",\"wikipedia\",\"cancel\",\"industries\",\"actress\",\"client\",\"visual\",\"michael\",\"remain\",\"ability\",\"concrete\",\"conflict\",\"string\",\"linear\",\"supposed\",\"engines\",\"2012\",\"\\u2018\",\"lesser\",\"traditional\",\"episodes\",\"goals\",\"tata\",\"opening\",\"target\",\"weak\",\"anonymous\",\"bjp\",\"resource\",\"concepts\",\"ruby\",\"friendship\",\"nyc\",\"pretty\",\"implement\",\"painting\",\"ill\",\"agency\",\"reverse\",\"confused\",\"italy\",\"response\",\"yellow\",\"dance\",\"contain\",\"vice\",\"editing\",\"acting\",\"weirdest\",\"feels\",\"govt\",\"accounting\",\"rise\",\"wise\",\"leaving\",\"lens\",\"artist\",\"arvind\",\"pattern\",\"scared\",\"attention\",\"airlines\",\"sky\",\"malaysia\",\"port\",\"attempt\",\"element\",\"classical\",\"shown\",\"safety\",\"including\",\"tablet\",\"la\",\"terrorism\",\"commit\",\"maps\",\"african\",\"viewed\",\"calling\",\"6s\",\"agent\",\"output\",\"justice\",\"don\",\"addiction\",\"lock\",\"vegetarian\",\"britain\",\"percent\",\"meditation\",\"ibps\",\"monthly\",\"writers\",\"forward\",\"stuff\",\"mr\",\"ready\",\"forgot\",\"flying\",\"recommended\",\"fields\",\"blind\",\"l\",\"hinduism\",\"desktop\",\"host\",\"tattoo\",\"maintain\",\"boards\",\"helpful\",\"semester\",\"load\",\"tier\",\"agree\",\"factor\",\"elon\",\"freshers\",\"sql\",\"cases\",\"exact\",\"confidence\",\"behavior\",\"hacked\",\"quotes\",\"hydrogen\",\"pakistani\",\"masturbate\",\"divided\",\"skill\",\"fine\",\"falling\",\"chess\",\"charging\",\"pages\",\"vector\",\"supporters\",\"waste\",\"sanders\",\"affordable\",\"unlock\",\"techniques\",\"wine\",\"keyboard\",\"cm\",\"wireless\",\"lawyer\",\"egg\",\"cope\",\"mindblowing\",\"recipe\",\"corruption\",\"scored\",\"secure\",\"teaching\",\"opposite\",\"educational\",\"bernie\",\"y\",\"library\",\"models\",\"kid\",\"stack\",\"separate\",\"19\",\"extremely\",\"properties\",\"cable\",\"magic\",\"removed\",\"computing\",\"hospital\",\"beer\",\"christians\",\"twice\",\"kg\",\"consulting\",\"whose\",\"serious\",\"petrol\",\"travelling\",\"revolution\",\"custom\",\"structures\",\"guide\",\"celebrate\",\"lenovo\",\"turned\",\"ielts\",\"grades\",\"fuel\",\"relative\",\"oracle\",\"academy\",\"lack\",\"passed\",\"relation\",\"values\",\"movement\",\"strategies\",\"eu\",\"emotional\",\"legs\",\"pokemon\",\"3g\",\"iran\",\"mostly\",\"jewish\",\"offered\",\"log\",\"hasnt\",\"explanation\",\"signal\",\"stores\",\"syllabus\",\"bits\",\"yoga\",\"weapons\",\"gods\",\"10000\",\"delivery\",\"gb\",\"sum\",\"letters\",\"venture\",\"selection\",\"winning\",\"35\",\"comment\",\"consequences\",\"sport\",\"items\",\"seems\",\"ring\",\"jealous\",\"laptops\",\"criteria\",\"fresh\",\"reference\",\"bitcoin\",\"infinite\",\"perform\",\"brazil\",\"density\",\"plans\",\"hosting\",\"clothing\",\"hong\",\"dying\",\"heavy\",\"steve\",\"gone\",\"damage\",\"missing\",\"ethical\",\"republican\",\"contacts\",\"activity\",\"electronic\",\"qualities\",\"piano\",\"hisher\",\"repair\",\"posts\",\"disease\",\"winter\",\"ten\",\"publish\",\"paint\",\"physically\",\"executive\",\"deposit\",\"elements\",\"xbox\",\"ceo\",\"visitors\",\"discovered\",\"tickets\",\"literature\",\"primary\",\"naturally\",\"senior\",\"u\",\"hardest\",\"debate\",\"frequency\",\"vietnam\",\"cry\",\"assistant\",\"gifts\",\"practical\",\"funny\",\"valid\",\"liberal\",\"refer\",\"beat\",\"shape\",\"institutes\",\"msc\",\"internal\",\"located\",\"significant\",\"scientists\",\"g\",\"ship\",\"proper\",\"independence\",\"added\",\"hes\",\"catch\",\"urine\",\"effectively\",\"named\",\"responsible\",\"strength\",\"whos\",\"immigration\",\"vehicle\",\"tesla\",\"kong\",\"meth\",\"england\",\"huge\",\"pizza\",\"rejected\",\"george\",\"fan\",\"salt\",\"browser\",\"sat\",\"loved\",\"fees\",\"walking\",\"symbol\",\"equity\",\"ubuntu\",\"alternatives\",\"theme\",\"virus\",\"manufacturing\",\"cutoff\",\"pure\",\"22\",\"introvert\",\"unable\",\"greek\",\"rice\",\"gst\",\"happening\",\"centre\",\"kiss\",\"prison\",\"bigger\",\"font\",\"construction\",\"exercises\",\"keeps\",\"gmat\",\"offers\",\"cross\",\"nasa\",\"unit\",\"advertising\",\"cup\",\"fixed\",\"limited\",\"billion\",\"subjects\",\"arts\",\"worlds\",\"stupid\",\"breaking\",\"funding\",\"tank\",\"generate\",\"efficient\",\"exists\",\"atheist\",\"entrepreneur\",\"direction\",\"broken\",\"offline\",\"firms\",\"station\",\"magnetic\",\"include\",\"aliens\",\"tinder\",\"logo\",\"photography\",\"worse\",\"besides\",\"path\",\"somebody\",\"interviews\",\"persons\",\"figure\",\"placed\",\"nation\",\"knows\",\"unmarried\",\"hp\",\"profitable\",\"tricks\",\"boss\",\"reply\",\"scam\",\"circle\",\"processor\",\"debt\",\"growing\",\"royal\",\"fiction\",\"department\",\"mistake\",\"weird\",\"graphics\",\"external\",\"article\",\"volume\",\"scratch\",\"chain\",\"protect\",\"storage\",\"texas\",\"liquid\",\"circuit\",\"graphic\",\"tired\",\"weather\",\"oxygen\",\"velocity\",\"dad\",\"band\",\"teachers\",\"drugs\",\"complex\",\"studio\",\"accenture\",\"leader\",\"levels\",\"goal\",\"logic\",\"acne\",\"plastic\",\"motion\",\"button\",\"peoples\",\"vision\",\"gap\",\"dollar\",\"computers\",\"stomach\",\"sources\",\"constant\",\"draw\",\"dress\",\"calculated\",\"sort\",\"3rd\",\"club\",\"channels\",\"creating\",\"candidates\",\"kejriwal\",\"broke\",\"sentences\",\"format\",\"emails\",\"raw\",\"stanford\",\"completed\",\"documents\",\"pan\",\"showing\",\"enter\",\"unknown\",\"bought\",\"router\",\"claim\",\"six\",\"technologies\",\"\\u20b9\",\"flipkart\",\"infosys\",\"mutual\",\"angry\",\"iits\",\"affected\",\"prices\",\"shares\",\"naruto\",\"processing\",\"finding\",\"democratic\",\"evolution\",\"harmful\",\"dual\",\"virtual\",\"member\",\"wave\",\"actual\",\"extra\",\"radio\",\"citizens\",\"e\",\"hr\",\"previous\",\"stopped\",\"walk\",\"redmi\",\"speaker\",\"torrent\",\"smoke\",\"mistakes\",\"flash\",\"iron\",\"entire\",\"individual\",\"express\",\"flow\",\"mode\",\"aircraft\",\"section\",\"planets\",\"10th\",\"respond\",\"easier\",\"evil\",\"percentile\",\"seeing\",\"calories\",\"upgrade\",\"professor\",\"v\",\"launch\",\"staff\",\"till\",\"silicon\",\"entry\",\"constitution\",\"century\",\"notice\",\"ie\",\"atheists\",\"tests\",\"21\",\"became\",\"kerala\",\"truly\",\"count\",\"essay\",\"papers\",\"accurate\",\"colors\",\"respect\",\"ideal\",\"rock\",\"reliance\",\"peace\",\"masturbation\",\"audio\",\"random\",\"independent\",\"colour\",\"hotels\",\"presidency\",\"generation\",\"paypal\",\"shot\",\"central\",\"released\",\"occur\",\"display\",\"industrial\",\"particular\",\"risk\",\"eg\",\"belly\",\"pet\",\"similarities\",\"organic\",\"marijuana\",\"networks\",\"aspects\",\"flat\",\"d\",\"comments\",\"nose\",\"identify\",\"rbi\",\"improvement\",\"directly\",\"framework\",\"suggestions\",\"designing\",\"brands\",\"religious\",\"influence\",\"novels\",\"statistics\",\"historical\",\"ground\",\"commerce\",\"pregnancy\",\"romantic\",\"failure\",\"wearing\",\"john\",\"apart\",\"bay\",\"symptoms\",\"200\",\"couple\",\"60\",\"canadian\",\"lie\",\"print\",\"carry\",\"gender\",\"experienced\",\"pounds\",\"reservation\",\"either\",\"stage\",\"artificial\",\"fit\",\"blogs\",\"developing\",\"environment\",\"learned\",\"copy\",\"phase\",\"bond\",\"democracy\",\"cgpa\",\"operating\",\"surface\",\"officers\",\"h1b\",\"ip\",\"workout\",\"fee\",\"elected\",\"hands\",\"largest\",\"sad\",\"shouldnt\",\"seat\",\"sister\",\"developers\",\"despite\",\"scene\",\"po\",\"diploma\",\"request\",\"empire\",\"ratio\",\"considering\",\"academic\",\"tree\",\"register\",\"advantage\",\"eligible\",\"nit\",\"shop\",\"intel\",\"funniest\",\"alternative\",\"fail\",\"ads\",\"nature\",\"miss\",\"involved\",\"overrated\",\"attend\",\"freedom\",\"dna\",\"beginners\",\"raise\",\"dry\",\"failed\",\"legally\",\"batman\",\"upload\",\"carbon\",\"regret\",\"applied\",\"points\",\"investors\",\"pick\",\"equivalent\",\"connected\",\"christmas\",\"lyrics\",\"nations\",\"caused\",\"bsc\",\"1st\",\"action\",\"activities\",\"biology\",\"hide\",\"asia\",\"takes\",\"require\",\"alive\",\"mom\",\"cycle\",\"generally\",\"campaign\",\"fair\",\"wake\",\"bit\",\"rules\",\"olympics\",\"racist\",\"areas\",\"eggs\",\"feature\",\"sap\",\"taxes\",\"ad\",\"shall\",\"theyre\",\"species\",\"pilot\",\"firm\",\"fish\",\"define\",\"doctors\",\"piece\",\"itself\",\"bang\",\"solutions\",\"iim\",\"2013\",\"wanted\",\"length\",\"burn\",\"waves\",\"bar\",\"gives\",\"forces\",\"christian\",\"anybody\",\"relationships\",\"nice\",\"wedding\",\"various\",\"brother\",\"films\",\"cream\",\"suddenly\",\"philippines\",\"fashion\",\"truth\",\"gpa\",\"cgl\",\"tall\",\"goa\",\"hacking\",\"statement\",\"reset\",\"materials\",\"played\",\"match\",\"usb\",\"novel\",\"unusual\",\"knowing\",\"selected\",\"valley\",\"chrome\",\"couples\",\"becomes\",\"died\",\"cheating\",\"community\",\"groups\",\"category\",\"pursuing\",\"writer\",\"mexico\",\"anymore\",\"sugar\",\"climate\",\"brown\",\"players\",\"ii\",\"reviews\",\"took\",\"led\",\"connection\",\"begin\",\"html\",\"changing\",\"received\",\"plants\",\"debit\",\"record\",\"revenue\",\"mars\",\"strongest\",\"members\",\"formed\",\"union\",\"thought\",\"existence\",\"kashmir\",\"gandhi\",\"pdf\",\"banned\",\"0\",\"plane\",\"treated\",\"electricity\",\"scale\",\"basis\",\"moral\",\"images\",\"methods\",\"certification\",\"voltage\",\"style\",\"base\",\"excel\",\"amazing\",\"regarding\",\"result\",\"rates\",\"hold\",\"indias\",\"airport\",\"businesses\",\"feet\",\"built\",\"linkedin\",\"signs\",\"above\",\"networking\",\"r\",\"shopping\",\"looks\",\"went\",\"placements\",\"bed\",\"experiences\",\"daughter\",\"tourist\",\"employee\",\"caste\",\"wait\",\"direct\",\"especially\",\"feed\",\"continue\",\"expected\",\"algorithm\",\"depressed\",\"shoes\",\"soon\",\"supply\",\"stress\",\"24\",\"inr\",\"foods\",\"rent\",\"architecture\",\"ban\",\"entrance\",\"actors\",\"messenger\",\"unique\",\"kolkata\",\"funds\",\"rupee\",\"promote\",\"rupees\",\"jews\",\"23\",\"cook\",\"cultural\",\"accepted\",\"hear\",\"glass\",\"road\",\"joining\",\"measure\",\"havent\",\"metal\",\"resume\",\"afraid\",\"turkey\",\"meat\",\"goes\",\"installation\",\"netflix\",\"benefit\",\"demand\",\"release\",\"produce\",\"report\",\"cover\",\"changes\",\"double\",\"2nd\",\"reaction\",\"killed\",\"steel\",\"requirements\",\"france\",\"exchange\",\"ac\",\"quantum\",\"reliable\",\"box\",\"results\",\"lives\",\"treatment\",\"4g\",\"ece\",\"probability\",\"sleeping\",\"philosophy\",\"handle\",\"forget\",\"driver\",\"demonetization\",\"algorithms\",\"trade\",\"rule\",\"muscle\",\"calls\",\"tried\",\"mental\",\"sure\",\"quit\",\"navy\",\"achieve\",\"francisco\",\"location\",\"until\",\"sense\",\"anxiety\",\"wordpress\",\"focus\",\"fact\",\"production\",\"conversation\",\"motor\",\"five\",\"attracted\",\"hit\",\"analyst\",\"moto\",\"isis\",\"chicken\",\"sector\",\"permanent\",\"along\",\"king\",\"slow\",\"candidate\",\"minutes\",\"purchase\",\"gun\",\"selling\",\"usually\",\"\\u2026\",\"fly\",\"round\",\"panel\",\"error\",\"stocks\",\"api\",\"remember\",\"africa\",\"paying\",\"hitler\",\"3d\",\"regular\",\"losing\",\"mail\",\"yahoo\",\"cheapest\",\"older\",\"concept\",\"characters\",\"definition\",\"lines\",\"pm\",\"cloud\",\"cats\",\"russian\",\"ipad\",\"korean\",\"proof\",\"battle\",\"stars\",\"stream\",\"recent\",\"typical\",\"performance\",\"harvard\",\"restaurant\",\"origin\",\"listen\",\"smell\",\"decide\",\"serve\",\"undergraduate\",\"profit\",\"situation\",\"surgery\",\"asking\",\"plant\",\"link\",\"square\",\"completing\",\"four\",\"trust\",\"payment\",\"gym\",\"andor\",\"worklife\",\"guitar\",\"elections\",\"half\",\"investing\",\"scientist\",\"street\",\"needs\",\"native\",\"thoughts\",\"reality\",\"40\",\"medicine\",\"race\",\"choice\",\"longer\",\"came\",\"applying\",\"hiring\",\"west\",\"weed\",\"hacks\",\"step\",\"sea\",\"crime\",\"devices\",\"event\",\"citizen\",\"14\",\"17\",\"ticket\",\"fund\",\"equation\",\"suicide\",\"whom\",\"met\",\"almost\",\"designer\",\"local\",\"departments\",\"khan\",\"customer\",\"banking\",\"javascript\",\"trip\",\"issue\",\"react\",\"cannot\",\"dubai\",\"wall\",\"touch\",\"parts\",\"loves\",\"clothes\",\"straight\",\"sexual\",\"active\",\"inpatient\",\"dreams\",\"protein\",\"table\",\"exercise\",\"lord\",\"mtech\",\"creative\",\"ball\",\"speaking\",\"son\",\"receive\",\"dollars\",\"domain\",\"prospects\",\"hour\",\"graduation\",\"commercial\",\"themselves\",\"factors\",\"jesus\",\"programmer\",\"recommend\",\"replace\",\"chat\",\"placement\",\"episode\",\"fastest\",\"restaurants\",\"object\",\"drivers\",\"gaming\",\"mark\",\"taste\",\"seem\",\"perfect\",\"potential\",\"trumps\",\"appear\",\"rights\",\"equal\",\"rest\",\"package\",\"meant\",\"drop\",\"cool\",\"material\",\"potter\",\"events\",\"convince\",\"completely\",\"n\",\"zero\",\"significance\",\"lower\",\"feelings\",\"followers\",\"evidence\",\"certain\",\"later\",\"original\",\"bible\",\"disorder\",\"testing\",\"via\",\"stand\",\"actor\",\"characteristics\",\"cities\",\"reach\",\"ago\",\"mbbs\",\"speech\",\"electric\",\"approach\",\"scientific\",\"root\",\"analytics\",\"below\",\"grade\",\"mains\",\"topic\",\"fun\",\"ancient\",\"adult\",\"standard\",\"ice\",\"everyday\",\"population\",\"invented\",\"european\",\"intelligent\",\"11\",\"subject\",\"rehab\",\"background\",\"giving\",\"platform\",\"flight\",\"thrones\",\"maths\",\"dc\",\"teeth\",\"mit\",\"weeks\",\"east\",\"means\",\"programs\",\"beginner\",\"heat\",\"third\",\"tea\",\"range\",\"london\",\"maximum\",\"enjoy\",\"2000\",\"cells\",\"quickly\",\"here\",\"expensive\",\"phrase\",\"partner\",\"league\",\"anime\",\"latest\",\"specific\",\"whether\",\"functions\",\"os\",\"fire\",\"saying\",\"secret\",\"13\",\"planet\",\"hole\",\"super\",\"teacher\",\"strong\",\"accounts\",\"minister\",\"database\",\"economic\",\"channel\",\"estate\",\"ram\",\"switch\",\"asian\",\"smoking\",\"branch\",\"israel\",\"18\",\"features\",\"success\",\"lead\",\"total\",\"key\",\"master\",\"ok\",\"favourite\",\"psychology\",\"pok\\u00e9mon\",\"nothing\",\"clean\",\"25\",\"politics\",\"drinking\",\"sometimes\",\"recently\",\"korea\",\"sent\",\"poor\",\"hindu\",\"hollywood\",\"survive\",\"cure\",\"property\",\"return\",\"narendra\",\"budget\",\"sports\",\"limit\",\"arent\",\"boys\",\"driving\",\"whole\",\"cash\",\"smartphone\",\"php\",\"developed\",\"ssc\",\"hot\",\"attractive\",\"tool\",\"physical\",\"ecommerce\",\"sbi\",\"morning\",\"animal\",\"multiple\",\"loan\",\"acid\",\"fresher\",\"spanish\",\"moving\",\"decision\",\"county\",\"determined\",\"becoming\",\"seo\",\"summer\",\"manage\",\"server\",\"competitive\",\"milk\",\"importance\",\"banks\",\"cheap\",\"powerful\",\"issues\",\"penis\",\"according\",\"analysis\",\"bike\",\"position\",\"western\",\"advanced\",\"campus\",\"highest\",\"front\",\"court\",\"status\",\"gravity\",\"positions\",\"comes\",\"steps\",\"complete\",\"electronics\",\"won\",\"hurt\",\"certificate\",\"temperature\",\"player\",\"someones\",\"communication\",\"million\",\"talking\",\"preparing\",\"finance\",\"cancer\",\"9\",\"harry\",\"accept\",\"2014\",\"plus\",\"born\",\"tcs\",\"license\",\"bring\",\"teach\",\"practice\",\"trading\",\"m\",\"might\",\"opportunities\",\"global\",\"wish\",\"outside\",\"attack\",\"procedure\",\"needed\",\"update\",\"coffee\",\"provider\",\"rather\",\"16\",\"allow\",\"tamil\",\"mix\",\"connect\",\"room\",\"watching\",\"deep\",\"york\",\"image\",\"birth\",\"sign\",\"birthday\",\"playing\",\"wars\",\"grads\",\"hire\",\"phones\",\"cbse\",\"details\",\"clear\",\"cricket\",\"dangerous\",\"track\",\"corporate\",\"voice\",\"upsc\",\"content\",\"okay\",\"san\",\"heart\",\"far\",\"heard\",\"prove\",\"positive\",\"moment\",\"sales\",\"opinion\",\"engineers\",\"block\",\"diet\",\"coding\",\"core\",\"baby\",\"father\",\"little\",\"large\",\"blocked\",\"distance\",\"land\",\"simple\",\"husband\",\"told\",\"traffic\",\"prevent\",\"pictures\",\"planning\",\"fear\",\"classes\",\"towards\",\"technical\",\"building\",\"trying\",\"photo\",\"early\",\"uses\",\"sydney\",\"startups\",\"act\",\"id\",\"describe\",\"12th\",\"may\",\"formula\",\"gets\",\"present\",\"wont\",\"cut\",\"treat\",\"mathematics\",\"visiting\",\"eye\",\"policy\",\"close\",\"cse\",\"suitable\",\"version\",\"tools\",\"head\",\"minimum\",\"chennai\",\"easily\",\"method\",\"intelligence\",\"gre\",\"mother\",\"doctor\",\"macbook\",\"deleted\",\"gas\",\"suggest\",\"cards\",\"files\",\"loss\",\"art\",\"easiest\",\"late\",\"among\",\"together\",\"depression\",\"higher\",\"alone\",\"economics\",\"dead\",\"growth\",\"insurance\",\"gold\",\"necessary\",\"neet\",\"blog\",\"example\",\"memory\",\"crack\",\"consider\",\"works\",\"currency\",\"recruit\",\"pursue\",\"strategy\",\"young\",\"cs\",\"projects\",\"50\",\"manager\",\"abroad\",\"schools\",\"illegal\",\"inside\",\"stories\",\"hand\",\"t\",\"greatest\",\"personality\",\"galaxy\",\"device\",\"views\",\"user\",\"chemistry\",\"cars\",\"iq\",\"prefer\",\"picture\",\"nuclear\",\"middle\",\"applications\",\"gmail\",\"laws\",\"final\",\"capital\",\"kids\",\"society\",\"fake\",\"bill\",\"save\",\"though\",\"likely\",\"determine\",\"shows\",\"character\",\"snapchat\",\"youre\",\"eyes\",\"islam\",\"marry\",\"brand\",\"yet\",\"impact\",\"speak\",\"within\",\"rich\",\"resources\",\"net\",\"non\",\"pressure\",\"changed\",\"allowed\",\"obama\",\"cold\",\"running\",\"feeling\",\"jio\",\"football\",\"gift\",\"written\",\"buying\",\"mac\",\"spend\",\"prime\",\"blue\",\"train\",\"studies\",\"negative\",\"thinking\",\"solution\",\"sun\",\"least\",\"following\",\"install\",\"else\",\"muslims\",\"camera\",\"vote\",\"linux\",\"expect\",\"german\",\"recover\",\"starting\",\"crush\",\"coming\",\"muslim\",\"modern\",\"battery\",\"provide\",\"access\",\"presidential\",\"interest\",\"dating\",\"pro\",\"likes\",\"french\",\"singapore\",\"useful\",\"already\",\"professional\",\"percentage\",\"drink\",\"created\",\"board\",\"passport\",\"structure\",\"case\",\"height\",\"microsoft\",\"break\",\"screen\",\"names\",\"chance\",\"special\",\"30\",\"skin\",\"natural\",\"color\",\"interested\",\"amount\",\"pain\",\"healthy\",\"hack\",\"messages\",\"ias\",\"gay\",\"disadvantages\",\"pass\",\"moon\",\"systems\",\"hindi\",\"financial\",\"taken\",\"yes\",\"sim\",\"pregnant\",\"faster\",\"animals\",\"internship\",\"let\",\"photos\",\"balance\",\"sound\",\"due\",\"knowledge\",\"charge\",\"message\",\"officer\",\"solar\",\"military\",\"meet\",\"option\",\"reading\",\"across\",\"overcome\",\"everyone\",\"everything\",\"wife\",\"reduce\",\"chances\",\"samsung\",\"income\",\"bollywood\",\"season\",\"europe\",\"boy\",\"currently\",\"ex\",\"smart\",\"california\",\"engine\",\"paid\",\"army\",\"contact\",\"address\",\"wants\",\"ones\",\"gain\",\"reasons\",\"avoid\",\"please\",\"note\",\"known\",\"pune\",\"film\",\"national\",\"once\",\"users\",\"porn\",\"scope\",\"twitter\",\"drug\",\"rank\",\"japan\",\"fight\",\"transfer\",\"political\",\"green\",\"news\",\"self\",\"uber\",\"basic\",\"british\",\"religion\",\"hyderabad\",\"topics\",\"explain\",\"phd\",\"eating\",\"letter\",\"calculate\",\"ive\",\"tech\",\"personal\",\"japanese\",\"check\",\"hotel\",\"wifi\",\"beautiful\",\"difficult\",\"paper\",\"languages\",\"investment\",\"develop\",\"north\",\"electrical\",\"ios\",\"alcohol\",\"exactly\",\"profile\",\"past\",\"exams\",\"ca\",\"convert\",\"vs\",\"understand\",\"care\",\"dream\",\"try\",\"americans\",\"lost\",\"chemical\",\"source\",\"b\",\"admission\",\"easy\",\"must\",\"three\",\"effect\",\"view\",\"options\",\"page\",\"away\",\"red\",\"said\",\"line\",\"short\",\"happy\",\"security\",\"dark\",\"preparation\",\"second\",\"fat\",\"matter\",\"few\",\"since\",\"role\",\"pc\",\"office\",\"team\",\"delete\",\"cell\",\"election\",\"economy\",\"term\",\"dogs\",\"text\",\"female\",\"effective\",\"brain\",\"share\",\"digital\",\"btech\",\"russia\",\"\\u201c\",\"party\",\"numbers\",\"20\",\"store\",\"male\",\"mass\",\"turn\",\"left\",\"married\",\"rs\",\"taking\",\"those\",\"password\",\"follow\",\"advice\",\"isnt\",\"15\",\"types\",\"network\",\"\\u201d\",\"week\",\"purpose\",\"related\",\"fix\",\"started\",\"courses\",\"masters\",\"grow\",\"8\",\"fast\",\"leave\",\"100\",\"often\",\"found\",\"pros\",\"marriage\",\"cons\",\"quality\",\"words\",\"kill\",\"price\",\"near\",\"modi\",\"enough\",\"search\",\"python\",\"x\",\"blood\",\"math\",\"yourself\",\"drive\",\"size\",\"star\",\"graduate\",\"majors\",\"500\",\"model\",\"studying\",\"general\",\"oil\",\"colleges\",\"area\",\"developer\",\"germany\",\"industry\",\"full\",\"training\",\"says\",\"period\",\"videos\",\"universe\",\"fall\",\"daily\",\"information\",\"foreign\",\"credit\",\"force\",\"12\",\"youve\",\"south\",\"offer\",\"set\",\"add\",\"send\",\"australia\",\"center\",\"1000\",\"famous\",\"2015\",\"lot\",\"function\",\"tax\",\"correct\",\"solve\",\"advantages\",\"coaching\",\"institute\",\"effects\",\"guys\",\"again\",\"group\",\"hours\",\"side\",\"sentence\",\"low\",\"similar\",\"plan\",\"children\",\"answers\",\"talk\",\"marks\",\"ideas\",\"theory\",\"death\",\"compared\",\"night\",\"remove\",\"dog\",\"anything\",\"single\",\"successful\",\"gate\",\"indians\",\"put\",\"problems\",\"move\",\"writing\",\"point\",\"invest\",\"asked\",\"biggest\",\"others\",\"stock\",\"notes\",\"story\",\"machine\",\"private\",\"sell\",\"seen\",\"required\",\"field\",\"file\",\"rate\",\"humans\",\"application\",\"face\",\"sites\",\"mind\",\"facts\",\"mumbai\",\"post\",\"stay\",\"child\",\"terms\",\"products\",\"control\",\"legal\",\"police\",\"didnt\",\"level\",\"worst\",\"hate\",\"visit\",\"called\",\"amazon\",\"causes\",\"health\",\"form\",\"physics\",\"iit\",\"skills\",\"times\",\"medical\",\"based\",\"list\",\"websites\",\"die\",\"part\",\"less\",\"benefits\",\"apple\",\"instead\",\"these\",\"boyfriend\",\"sleep\",\"canada\",\"reason\",\"education\",\"cause\",\"jee\",\"value\",\"today\",\"media\",\"public\",\"happened\",\"product\",\"research\",\"main\",\"behind\",\"international\",\"project\",\"uk\",\"differ\",\"7\",\"places\",\"wear\",\"order\",\"date\",\"etc\",\"small\",\"songs\",\"apps\",\"email\",\"given\",\"wrong\",\"site\",\"normal\",\"culture\",\"also\",\"civil\",\"city\",\"available\",\"house\",\"exist\",\"startup\",\"services\",\"ms\",\"both\",\"down\",\"2017\",\"run\",\"cat\",\"well\",\"space\",\"join\",\"deal\",\"games\",\"visa\",\"rid\",\"air\",\"speed\",\"popular\",\"problem\",\"support\",\"current\",\"pakistan\",\"choose\",\"build\",\"idea\",\"america\",\"whatsapp\",\"affect\",\"law\",\"technology\",\"call\",\"6\",\"universities\",\"family\",\"marketing\",\"major\",\"actually\",\"favorite\",\"light\",\"bangalore\",\"woman\",\"because\",\"type\",\"program\",\"looking\",\"living\",\"open\",\"believe\",\"month\",\"able\",\"management\",\"travel\",\"degree\",\"show\",\"interesting\",\"score\",\"months\",\"series\",\"chinese\",\"development\",\"end\",\"code\",\"design\",\"per\",\"employees\",\"review\",\"clinton\",\"common\",\"kind\",\"internet\",\"song\",\"download\",\"course\",\"parents\",\"jobs\",\"such\",\"increase\",\"java\",\"god\",\"another\",\"united\",\"girlfriend\",\"mechanical\",\"always\",\"next\",\"never\",\"around\",\"tips\",\"mba\",\"myself\",\"hillary\",\"apply\",\"answer\",\"something\",\"considered\",\"making\",\"differences\",\"market\",\"compare\",\"great\",\"keep\",\"test\",\"s\",\"win\",\"against\",\"states\",\"earn\",\"youtube\",\"worth\",\"delhi\",\"energy\",\"laptop\",\"american\",\"lose\",\"each\",\"hard\",\"makes\",\"age\",\"ask\",\"safe\",\"body\",\"power\",\"salary\",\"4\",\"watch\",\"white\",\"windows\",\"instagram\",\"history\",\"pay\",\"every\",\"last\",\"create\",\"relationship\",\"music\",\"too\",\"meaning\",\"state\",\"average\",\"earth\",\"got\",\"process\",\"class\",\"tv\",\"eat\",\"done\",\"happens\",\"days\",\"big\",\"off\",\"improve\",\"future\",\"place\",\"man\",\"human\",\"government\",\"play\",\"countries\",\"food\",\"service\",\"students\",\"weight\",\"game\",\"engineer\",\"write\",\"very\",\"interview\",\"web\",\"tell\",\"social\",\"girls\",\"video\",\"look\",\"having\",\"guy\",\"home\",\"hair\",\"usa\",\"doesnt\",\"word\",\"bank\",\"friend\",\"true\",\"experience\",\"career\",\"president\",\"question\",\"own\",\"china\",\"come\",\"under\",\"working\",\"him\",\"doing\",\"donald\",\"friends\",\"right\",\"5\",\"cost\",\"mobile\",\"even\",\"movies\",\"then\",\"c\",\"\\u2019\",\"exam\",\"men\",\"learning\",\"card\",\"war\",\"read\",\"programming\",\"black\",\"anyone\",\"high\",\"10\",\"companies\",\"car\",\"getting\",\"give\",\"important\",\"questions\",\"cant\",\"iphone\",\"website\",\"top\",\"water\",\"prepare\",\"during\",\"real\",\"say\",\"system\",\"name\",\"through\",\"two\",\"1\",\"our\",\"study\",\"3\",\"university\",\"made\",\"back\",\"happen\",\"stop\",\"student\",\"sex\",\"bad\",\"language\",\"going\",\"same\",\"before\",\"software\",\"school\",\"live\",\"country\",\"android\",\"science\",\"help\",\"she\",\"see\",\"thing\",\"women\",\"over\",\"data\",\"examples\",\"computer\",\"had\",\"ways\",\"change\",\"while\",\"book\",\"english\",\"account\",\"still\",\"movie\",\"books\",\"2016\",\"facebook\",\"free\",\"number\",\"college\",\"app\",\"2\",\"just\",\"now\",\"no\",\"trump\",\"company\",\"only\",\"old\",\"been\",\"google\",\"phone\",\"long\",\"different\",\"girl\",\"his\",\"her\",\"years\",\"really\",\"them\",\"using\",\"business\",\"need\",\"being\",\"buy\",\"day\",\"person\",\"things\",\"possible\",\"could\",\"were\",\"its\",\"love\",\"engineering\",\"im\",\"used\",\"online\",\"go\",\"year\",\"he\",\"into\",\"feel\",\"dont\",\"first\",\"up\"]]]}}},\"view\":{\"type\":\"object\",\"name\":\"CDSView\",\"id\":\"p1045\",\"attributes\":{\"filter\":{\"type\":\"object\",\"name\":\"AllIndices\",\"id\":\"p1046\"}}},\"glyph\":{\"type\":\"object\",\"name\":\"Scatter\",\"id\":\"p1041\",\"attributes\":{\"x\":{\"type\":\"field\",\"field\":\"x\"},\"y\":{\"type\":\"field\",\"field\":\"y\"},\"size\":{\"type\":\"value\",\"value\":10},\"line_color\":{\"type\":\"field\",\"field\":\"color\"},\"line_alpha\":{\"type\":\"value\",\"value\":0.25},\"fill_color\":{\"type\":\"field\",\"field\":\"color\"},\"fill_alpha\":{\"type\":\"value\",\"value\":0.25},\"hatch_color\":{\"type\":\"field\",\"field\":\"color\"},\"hatch_alpha\":{\"type\":\"value\",\"value\":0.25}}},\"nonselection_glyph\":{\"type\":\"object\",\"name\":\"Scatter\",\"id\":\"p1042\",\"attributes\":{\"x\":{\"type\":\"field\",\"field\":\"x\"},\"y\":{\"type\":\"field\",\"field\":\"y\"},\"size\":{\"type\":\"value\",\"value\":10},\"line_color\":{\"type\":\"field\",\"field\":\"color\"},\"line_alpha\":{\"type\":\"value\",\"value\":0.1},\"fill_color\":{\"type\":\"field\",\"field\":\"color\"},\"fill_alpha\":{\"type\":\"value\",\"value\":0.1},\"hatch_color\":{\"type\":\"field\",\"field\":\"color\"},\"hatch_alpha\":{\"type\":\"value\",\"value\":0.1}}},\"muted_glyph\":{\"type\":\"object\",\"name\":\"Scatter\",\"id\":\"p1043\",\"attributes\":{\"x\":{\"type\":\"field\",\"field\":\"x\"},\"y\":{\"type\":\"field\",\"field\":\"y\"},\"size\":{\"type\":\"value\",\"value\":10},\"line_color\":{\"type\":\"field\",\"field\":\"color\"},\"line_alpha\":{\"type\":\"value\",\"value\":0.2},\"fill_color\":{\"type\":\"field\",\"field\":\"color\"},\"fill_alpha\":{\"type\":\"value\",\"value\":0.2},\"hatch_color\":{\"type\":\"field\",\"field\":\"color\"},\"hatch_alpha\":{\"type\":\"value\",\"value\":0.2}}}}}],\"toolbar\":{\"type\":\"object\",\"name\":\"Toolbar\",\"id\":\"p1012\",\"attributes\":{\"tools\":[{\"type\":\"object\",\"name\":\"PanTool\",\"id\":\"p1025\"},{\"type\":\"object\",\"name\":\"WheelZoomTool\",\"id\":\"p1026\",\"attributes\":{\"renderers\":\"auto\"}},{\"type\":\"object\",\"name\":\"BoxZoomTool\",\"id\":\"p1027\",\"attributes\":{\"overlay\":{\"type\":\"object\",\"name\":\"BoxAnnotation\",\"id\":\"p1028\",\"attributes\":{\"syncable\":false,\"line_color\":\"black\",\"line_alpha\":1.0,\"line_width\":2,\"line_dash\":[4,4],\"fill_color\":\"lightgrey\",\"fill_alpha\":0.5,\"level\":\"overlay\",\"visible\":false,\"left\":{\"type\":\"number\",\"value\":\"nan\"},\"right\":{\"type\":\"number\",\"value\":\"nan\"},\"top\":{\"type\":\"number\",\"value\":\"nan\"},\"bottom\":{\"type\":\"number\",\"value\":\"nan\"},\"left_units\":\"canvas\",\"right_units\":\"canvas\",\"top_units\":\"canvas\",\"bottom_units\":\"canvas\",\"handles\":{\"type\":\"object\",\"name\":\"BoxInteractionHandles\",\"id\":\"p1034\",\"attributes\":{\"all\":{\"type\":\"object\",\"name\":\"AreaVisuals\",\"id\":\"p1033\",\"attributes\":{\"fill_color\":\"white\",\"hover_fill_color\":\"lightgray\"}}}}}}}},{\"type\":\"object\",\"name\":\"SaveTool\",\"id\":\"p1035\"},{\"type\":\"object\",\"name\":\"ResetTool\",\"id\":\"p1036\"},{\"type\":\"object\",\"name\":\"HelpTool\",\"id\":\"p1037\"},{\"type\":\"object\",\"name\":\"HoverTool\",\"id\":\"p1047\",\"attributes\":{\"renderers\":\"auto\",\"tooltips\":[[\"token\",\"@token\"]]}}],\"active_scroll\":{\"id\":\"p1026\"}}},\"left\":[{\"type\":\"object\",\"name\":\"LinearAxis\",\"id\":\"p1020\",\"attributes\":{\"ticker\":{\"type\":\"object\",\"name\":\"BasicTicker\",\"id\":\"p1021\",\"attributes\":{\"mantissas\":[1,2,5]}},\"formatter\":{\"type\":\"object\",\"name\":\"BasicTickFormatter\",\"id\":\"p1022\"},\"major_label_policy\":{\"type\":\"object\",\"name\":\"AllLabels\",\"id\":\"p1023\"}}}],\"below\":[{\"type\":\"object\",\"name\":\"LinearAxis\",\"id\":\"p1015\",\"attributes\":{\"ticker\":{\"type\":\"object\",\"name\":\"BasicTicker\",\"id\":\"p1016\",\"attributes\":{\"mantissas\":[1,2,5]}},\"formatter\":{\"type\":\"object\",\"name\":\"BasicTickFormatter\",\"id\":\"p1017\"},\"major_label_policy\":{\"type\":\"object\",\"name\":\"AllLabels\",\"id\":\"p1018\"}}}],\"center\":[{\"type\":\"object\",\"name\":\"Grid\",\"id\":\"p1019\",\"attributes\":{\"axis\":{\"id\":\"p1015\"}}},{\"type\":\"object\",\"name\":\"Grid\",\"id\":\"p1024\",\"attributes\":{\"dimension\":1,\"axis\":{\"id\":\"p1020\"}}}]}}]}};\n  const render_items = [{\"docid\":\"2dfac06b-598e-4d43-935b-bb49c072b9fc\",\"roots\":{\"p1004\":\"f913f907-4dbe-45b4-b7bb-cd41580d0a16\"},\"root_ids\":[\"p1004\"]}];\n  void root.Bokeh.embed.embed_items_notebook(docs_json, render_items);\n  }\n  if (root.Bokeh !== undefined) {\n    embed_document(root);\n  } else {\n    let attempts = 0;\n    const timer = setInterval(function(root) {\n      if (root.Bokeh !== undefined) {\n        clearInterval(timer);\n        embed_document(root);\n      } else {\n        attempts++;\n        if (attempts > 100) {\n          clearInterval(timer);\n          console.log(\"Bokeh: ERROR: Unable to run BokehJS code because BokehJS library is missing\");\n        }\n      }\n    }, 10, root)\n  }\n})(window);",
            "application/vnd.bokehjs_exec.v0+json": ""
          },
          "metadata": {
            "application/vnd.bokehjs_exec.v0+json": {
              "id": "p1004"
            }
          },
          "output_type": "display_data"
        },
        {
          "data": {
            "text/html": [
              "<div style=\"display: table;\"><div style=\"display: table-row;\"><div style=\"display: table-cell;\"><b title=\"bokeh.plotting._figure.figure\">figure</b>(</div><div style=\"display: table-cell;\">id&nbsp;=&nbsp;'p1004', <span id=\"p1051\" style=\"cursor: pointer;\">&hellip;)</span></div></div><div class=\"p1050\" style=\"display: none;\"><div style=\"display: table-cell;\"></div><div style=\"display: table-cell;\">above&nbsp;=&nbsp;[],</div></div><div class=\"p1050\" style=\"display: none;\"><div style=\"display: table-cell;\"></div><div style=\"display: table-cell;\">align&nbsp;=&nbsp;'auto',</div></div><div class=\"p1050\" style=\"display: none;\"><div style=\"display: table-cell;\"></div><div style=\"display: table-cell;\">aspect_ratio&nbsp;=&nbsp;None,</div></div><div class=\"p1050\" style=\"display: none;\"><div style=\"display: table-cell;\"></div><div style=\"display: table-cell;\">aspect_scale&nbsp;=&nbsp;1,</div></div><div class=\"p1050\" style=\"display: none;\"><div style=\"display: table-cell;\"></div><div style=\"display: table-cell;\">attribution&nbsp;=&nbsp;[],</div></div><div class=\"p1050\" style=\"display: none;\"><div style=\"display: table-cell;\"></div><div style=\"display: table-cell;\">background_fill_alpha&nbsp;=&nbsp;1.0,</div></div><div class=\"p1050\" style=\"display: none;\"><div style=\"display: table-cell;\"></div><div style=\"display: table-cell;\">background_fill_color&nbsp;=&nbsp;'#ffffff',</div></div><div class=\"p1050\" style=\"display: none;\"><div style=\"display: table-cell;\"></div><div style=\"display: table-cell;\">below&nbsp;=&nbsp;[LinearAxis(id='p1015', ...)],</div></div><div class=\"p1050\" style=\"display: none;\"><div style=\"display: table-cell;\"></div><div style=\"display: table-cell;\">border_fill_alpha&nbsp;=&nbsp;1.0,</div></div><div class=\"p1050\" style=\"display: none;\"><div style=\"display: table-cell;\"></div><div style=\"display: table-cell;\">border_fill_color&nbsp;=&nbsp;'#ffffff',</div></div><div class=\"p1050\" style=\"display: none;\"><div style=\"display: table-cell;\"></div><div style=\"display: table-cell;\">center&nbsp;=&nbsp;[Grid(id='p1019', ...), Grid(id='p1024', ...)],</div></div><div class=\"p1050\" style=\"display: none;\"><div style=\"display: table-cell;\"></div><div style=\"display: table-cell;\">context_menu&nbsp;=&nbsp;None,</div></div><div class=\"p1050\" style=\"display: none;\"><div style=\"display: table-cell;\"></div><div style=\"display: table-cell;\">css_classes&nbsp;=&nbsp;[],</div></div><div class=\"p1050\" style=\"display: none;\"><div style=\"display: table-cell;\"></div><div style=\"display: table-cell;\">css_variables&nbsp;=&nbsp;{},</div></div><div class=\"p1050\" style=\"display: none;\"><div style=\"display: table-cell;\"></div><div style=\"display: table-cell;\">disabled&nbsp;=&nbsp;False,</div></div><div class=\"p1050\" style=\"display: none;\"><div style=\"display: table-cell;\"></div><div style=\"display: table-cell;\">elements&nbsp;=&nbsp;[],</div></div><div class=\"p1050\" style=\"display: none;\"><div style=\"display: table-cell;\"></div><div style=\"display: table-cell;\">extra_x_ranges&nbsp;=&nbsp;{},</div></div><div class=\"p1050\" style=\"display: none;\"><div style=\"display: table-cell;\"></div><div style=\"display: table-cell;\">extra_x_scales&nbsp;=&nbsp;{},</div></div><div class=\"p1050\" style=\"display: none;\"><div style=\"display: table-cell;\"></div><div style=\"display: table-cell;\">extra_y_ranges&nbsp;=&nbsp;{},</div></div><div class=\"p1050\" style=\"display: none;\"><div style=\"display: table-cell;\"></div><div style=\"display: table-cell;\">extra_y_scales&nbsp;=&nbsp;{},</div></div><div class=\"p1050\" style=\"display: none;\"><div style=\"display: table-cell;\"></div><div style=\"display: table-cell;\">flow_mode&nbsp;=&nbsp;'block',</div></div><div class=\"p1050\" style=\"display: none;\"><div style=\"display: table-cell;\"></div><div style=\"display: table-cell;\">frame_align&nbsp;=&nbsp;True,</div></div><div class=\"p1050\" style=\"display: none;\"><div style=\"display: table-cell;\"></div><div style=\"display: table-cell;\">frame_height&nbsp;=&nbsp;None,</div></div><div class=\"p1050\" style=\"display: none;\"><div style=\"display: table-cell;\"></div><div style=\"display: table-cell;\">frame_width&nbsp;=&nbsp;None,</div></div><div class=\"p1050\" style=\"display: none;\"><div style=\"display: table-cell;\"></div><div style=\"display: table-cell;\">height&nbsp;=&nbsp;400,</div></div><div class=\"p1050\" style=\"display: none;\"><div style=\"display: table-cell;\"></div><div style=\"display: table-cell;\">height_policy&nbsp;=&nbsp;'auto',</div></div><div class=\"p1050\" style=\"display: none;\"><div style=\"display: table-cell;\"></div><div style=\"display: table-cell;\">hidpi&nbsp;=&nbsp;True,</div></div><div class=\"p1050\" style=\"display: none;\"><div style=\"display: table-cell;\"></div><div style=\"display: table-cell;\">hold_render&nbsp;=&nbsp;False,</div></div><div class=\"p1050\" style=\"display: none;\"><div style=\"display: table-cell;\"></div><div style=\"display: table-cell;\">js_event_callbacks&nbsp;=&nbsp;{},</div></div><div class=\"p1050\" style=\"display: none;\"><div style=\"display: table-cell;\"></div><div style=\"display: table-cell;\">js_property_callbacks&nbsp;=&nbsp;{},</div></div><div class=\"p1050\" style=\"display: none;\"><div style=\"display: table-cell;\"></div><div style=\"display: table-cell;\">left&nbsp;=&nbsp;[LinearAxis(id='p1020', ...)],</div></div><div class=\"p1050\" style=\"display: none;\"><div style=\"display: table-cell;\"></div><div style=\"display: table-cell;\">lod_factor&nbsp;=&nbsp;10,</div></div><div class=\"p1050\" style=\"display: none;\"><div style=\"display: table-cell;\"></div><div style=\"display: table-cell;\">lod_interval&nbsp;=&nbsp;300,</div></div><div class=\"p1050\" style=\"display: none;\"><div style=\"display: table-cell;\"></div><div style=\"display: table-cell;\">lod_threshold&nbsp;=&nbsp;2000,</div></div><div class=\"p1050\" style=\"display: none;\"><div style=\"display: table-cell;\"></div><div style=\"display: table-cell;\">lod_timeout&nbsp;=&nbsp;500,</div></div><div class=\"p1050\" style=\"display: none;\"><div style=\"display: table-cell;\"></div><div style=\"display: table-cell;\">margin&nbsp;=&nbsp;None,</div></div><div class=\"p1050\" style=\"display: none;\"><div style=\"display: table-cell;\"></div><div style=\"display: table-cell;\">match_aspect&nbsp;=&nbsp;False,</div></div><div class=\"p1050\" style=\"display: none;\"><div style=\"display: table-cell;\"></div><div style=\"display: table-cell;\">max_height&nbsp;=&nbsp;None,</div></div><div class=\"p1050\" style=\"display: none;\"><div style=\"display: table-cell;\"></div><div style=\"display: table-cell;\">max_width&nbsp;=&nbsp;None,</div></div><div class=\"p1050\" style=\"display: none;\"><div style=\"display: table-cell;\"></div><div style=\"display: table-cell;\">min_border&nbsp;=&nbsp;5,</div></div><div class=\"p1050\" style=\"display: none;\"><div style=\"display: table-cell;\"></div><div style=\"display: table-cell;\">min_border_bottom&nbsp;=&nbsp;None,</div></div><div class=\"p1050\" style=\"display: none;\"><div style=\"display: table-cell;\"></div><div style=\"display: table-cell;\">min_border_left&nbsp;=&nbsp;None,</div></div><div class=\"p1050\" style=\"display: none;\"><div style=\"display: table-cell;\"></div><div style=\"display: table-cell;\">min_border_right&nbsp;=&nbsp;None,</div></div><div class=\"p1050\" style=\"display: none;\"><div style=\"display: table-cell;\"></div><div style=\"display: table-cell;\">min_border_top&nbsp;=&nbsp;None,</div></div><div class=\"p1050\" style=\"display: none;\"><div style=\"display: table-cell;\"></div><div style=\"display: table-cell;\">min_height&nbsp;=&nbsp;None,</div></div><div class=\"p1050\" style=\"display: none;\"><div style=\"display: table-cell;\"></div><div style=\"display: table-cell;\">min_width&nbsp;=&nbsp;None,</div></div><div class=\"p1050\" style=\"display: none;\"><div style=\"display: table-cell;\"></div><div style=\"display: table-cell;\">name&nbsp;=&nbsp;None,</div></div><div class=\"p1050\" style=\"display: none;\"><div style=\"display: table-cell;\"></div><div style=\"display: table-cell;\">outline_line_alpha&nbsp;=&nbsp;1.0,</div></div><div class=\"p1050\" style=\"display: none;\"><div style=\"display: table-cell;\"></div><div style=\"display: table-cell;\">outline_line_cap&nbsp;=&nbsp;'butt',</div></div><div class=\"p1050\" style=\"display: none;\"><div style=\"display: table-cell;\"></div><div style=\"display: table-cell;\">outline_line_color&nbsp;=&nbsp;'#e5e5e5',</div></div><div class=\"p1050\" style=\"display: none;\"><div style=\"display: table-cell;\"></div><div style=\"display: table-cell;\">outline_line_dash&nbsp;=&nbsp;[],</div></div><div class=\"p1050\" style=\"display: none;\"><div style=\"display: table-cell;\"></div><div style=\"display: table-cell;\">outline_line_dash_offset&nbsp;=&nbsp;0,</div></div><div class=\"p1050\" style=\"display: none;\"><div style=\"display: table-cell;\"></div><div style=\"display: table-cell;\">outline_line_join&nbsp;=&nbsp;'bevel',</div></div><div class=\"p1050\" style=\"display: none;\"><div style=\"display: table-cell;\"></div><div style=\"display: table-cell;\">outline_line_width&nbsp;=&nbsp;1,</div></div><div class=\"p1050\" style=\"display: none;\"><div style=\"display: table-cell;\"></div><div style=\"display: table-cell;\">output_backend&nbsp;=&nbsp;'canvas',</div></div><div class=\"p1050\" style=\"display: none;\"><div style=\"display: table-cell;\"></div><div style=\"display: table-cell;\">renderers&nbsp;=&nbsp;[GlyphRenderer(id='p1044', ...)],</div></div><div class=\"p1050\" style=\"display: none;\"><div style=\"display: table-cell;\"></div><div style=\"display: table-cell;\">reset_policy&nbsp;=&nbsp;'standard',</div></div><div class=\"p1050\" style=\"display: none;\"><div style=\"display: table-cell;\"></div><div style=\"display: table-cell;\">resizable&nbsp;=&nbsp;False,</div></div><div class=\"p1050\" style=\"display: none;\"><div style=\"display: table-cell;\"></div><div style=\"display: table-cell;\">right&nbsp;=&nbsp;[],</div></div><div class=\"p1050\" style=\"display: none;\"><div style=\"display: table-cell;\"></div><div style=\"display: table-cell;\">sizing_mode&nbsp;=&nbsp;None,</div></div><div class=\"p1050\" style=\"display: none;\"><div style=\"display: table-cell;\"></div><div style=\"display: table-cell;\">styles&nbsp;=&nbsp;{},</div></div><div class=\"p1050\" style=\"display: none;\"><div style=\"display: table-cell;\"></div><div style=\"display: table-cell;\">stylesheets&nbsp;=&nbsp;[],</div></div><div class=\"p1050\" style=\"display: none;\"><div style=\"display: table-cell;\"></div><div style=\"display: table-cell;\">subscribed_events&nbsp;=&nbsp;PropertyValueSet(),</div></div><div class=\"p1050\" style=\"display: none;\"><div style=\"display: table-cell;\"></div><div style=\"display: table-cell;\">syncable&nbsp;=&nbsp;True,</div></div><div class=\"p1050\" style=\"display: none;\"><div style=\"display: table-cell;\"></div><div style=\"display: table-cell;\">tags&nbsp;=&nbsp;[],</div></div><div class=\"p1050\" style=\"display: none;\"><div style=\"display: table-cell;\"></div><div style=\"display: table-cell;\">title&nbsp;=&nbsp;Title(id='p1011', ...),</div></div><div class=\"p1050\" style=\"display: none;\"><div style=\"display: table-cell;\"></div><div style=\"display: table-cell;\">title_location&nbsp;=&nbsp;'above',</div></div><div class=\"p1050\" style=\"display: none;\"><div style=\"display: table-cell;\"></div><div style=\"display: table-cell;\">toolbar&nbsp;=&nbsp;Toolbar(id='p1012', ...),</div></div><div class=\"p1050\" style=\"display: none;\"><div style=\"display: table-cell;\"></div><div style=\"display: table-cell;\">toolbar_inner&nbsp;=&nbsp;False,</div></div><div class=\"p1050\" style=\"display: none;\"><div style=\"display: table-cell;\"></div><div style=\"display: table-cell;\">toolbar_location&nbsp;=&nbsp;'right',</div></div><div class=\"p1050\" style=\"display: none;\"><div style=\"display: table-cell;\"></div><div style=\"display: table-cell;\">toolbar_sticky&nbsp;=&nbsp;True,</div></div><div class=\"p1050\" style=\"display: none;\"><div style=\"display: table-cell;\"></div><div style=\"display: table-cell;\">visible&nbsp;=&nbsp;True,</div></div><div class=\"p1050\" style=\"display: none;\"><div style=\"display: table-cell;\"></div><div style=\"display: table-cell;\">width&nbsp;=&nbsp;600,</div></div><div class=\"p1050\" style=\"display: none;\"><div style=\"display: table-cell;\"></div><div style=\"display: table-cell;\">width_policy&nbsp;=&nbsp;'auto',</div></div><div class=\"p1050\" style=\"display: none;\"><div style=\"display: table-cell;\"></div><div style=\"display: table-cell;\">x_range&nbsp;=&nbsp;DataRange1d(id='p1005', ...),</div></div><div class=\"p1050\" style=\"display: none;\"><div style=\"display: table-cell;\"></div><div style=\"display: table-cell;\">x_scale&nbsp;=&nbsp;LinearScale(id='p1013', ...),</div></div><div class=\"p1050\" style=\"display: none;\"><div style=\"display: table-cell;\"></div><div style=\"display: table-cell;\">y_range&nbsp;=&nbsp;DataRange1d(id='p1006', ...),</div></div><div class=\"p1050\" style=\"display: none;\"><div style=\"display: table-cell;\"></div><div style=\"display: table-cell;\">y_scale&nbsp;=&nbsp;LinearScale(id='p1014', ...))</div></div></div>\n",
              "<script>\n",
              "(function() {\n",
              "  let expanded = false;\n",
              "  const ellipsis = document.getElementById(\"p1051\");\n",
              "  ellipsis.addEventListener(\"click\", function() {\n",
              "    const rows = document.getElementsByClassName(\"p1050\");\n",
              "    for (let i = 0; i < rows.length; i++) {\n",
              "      const el = rows[i];\n",
              "      el.style.display = expanded ? \"none\" : \"table-row\";\n",
              "    }\n",
              "    ellipsis.innerHTML = expanded ? \"&hellip;)\" : \"&lsaquo;&lsaquo;&lsaquo;\";\n",
              "    expanded = !expanded;\n",
              "  });\n",
              "})();\n",
              "</script>\n"
            ],
            "text/plain": [
              "figure(id='p1004', ...)"
            ]
          },
          "execution_count": 45,
          "metadata": {},
          "output_type": "execute_result"
        }
      ],
      "source": [
        "draw_vectors(embedding[:, 0], embedding[:, 1], token=top_words)"
      ]
    },
    {
      "cell_type": "markdown",
      "metadata": {
        "id": "aWTz0NLvzgcA"
      },
      "source": [
        "Для сдачи задания необходимо загрузить функции `subsample_frequent_words` и `get_negative_sampling_prob`, а также сгенерировать файл для посылки ниже и приложить в соответствующую задачу. Успехов!"
      ]
    },
    {
      "cell_type": "code",
      "execution_count": 46,
      "metadata": {
        "colab": {
          "base_uri": "https://localhost:8080/"
        },
        "id": "wK0espmMzgcC",
        "outputId": "6993e710-6492-45e1-afbc-ffc85028bf5c"
      },
      "outputs": [
        {
          "name": "stdout",
          "output_type": "stream",
          "text": [
            "File saved to `submission_dict.json`\n"
          ]
        }
      ],
      "source": [
        "# do not change the code in the block below\n",
        "# __________start of block__________\n",
        "import os\n",
        "import json\n",
        "\n",
        "assert os.path.exists(\n",
        "    \"words_subset.txt\"\n",
        "), \"Please, download `words_subset.txt` and place it in the working directory\"\n",
        "\n",
        "with open(\"words_subset.txt\") as iofile:\n",
        "    selected_words = iofile.read().split(\"\\n\")\n",
        "\n",
        "\n",
        "def get_matrix_for_selected_words(selected_words, embedding_matrix, word_to_index):\n",
        "    word_vectors = []\n",
        "    for word in selected_words:\n",
        "        index = word_to_index.get(word, None)\n",
        "        vector = [0.0] * embedding_matrix.shape[1]\n",
        "        if index is not None:\n",
        "            vector = embedding_matrix[index].numpy().tolist()\n",
        "        word_vectors.append(vector)\n",
        "    return word_vectors\n",
        "\n",
        "\n",
        "word_vectors = get_matrix_for_selected_words(\n",
        "    selected_words, embedding_matrix_context, word_to_index\n",
        ")\n",
        "\n",
        "with open(\"submission_dict.json\", \"w\") as iofile:\n",
        "    json.dump(word_vectors, iofile)\n",
        "print(\"File saved to `submission_dict.json`\")\n",
        "# __________end of block__________"
      ]
    }
  ],
  "metadata": {
    "colab": {
      "provenance": []
    },
    "kernelspec": {
      "display_name": "py3_research",
      "language": "python",
      "name": "python3"
    },
    "language_info": {
      "codemirror_mode": {
        "name": "ipython",
        "version": 3
      },
      "file_extension": ".py",
      "mimetype": "text/x-python",
      "name": "python",
      "nbconvert_exporter": "python",
      "pygments_lexer": "ipython3",
      "version": "3.11.2"
    },
    "widgets": {
      "application/vnd.jupyter.widget-state+json": {
        "1b5d0a45a2c049ac88be84cfc5183ec6": {
          "model_module": "@jupyter-widgets/controls",
          "model_module_version": "1.5.0",
          "model_name": "HBoxModel",
          "state": {
            "_dom_classes": [],
            "_model_module": "@jupyter-widgets/controls",
            "_model_module_version": "1.5.0",
            "_model_name": "HBoxModel",
            "_view_count": null,
            "_view_module": "@jupyter-widgets/controls",
            "_view_module_version": "1.5.0",
            "_view_name": "HBoxView",
            "box_style": "",
            "children": [
              "IPY_MODEL_515eb0391af14f11ac86562a5b4a6270",
              "IPY_MODEL_8892bf6a751c41f8aa3572c6342145bf",
              "IPY_MODEL_34ed351efd444aa4b50b830aa41e7279"
            ],
            "layout": "IPY_MODEL_323a5612f7a848d5a4f6f8ee054628e0"
          }
        },
        "323a5612f7a848d5a4f6f8ee054628e0": {
          "model_module": "@jupyter-widgets/base",
          "model_module_version": "1.2.0",
          "model_name": "LayoutModel",
          "state": {
            "_model_module": "@jupyter-widgets/base",
            "_model_module_version": "1.2.0",
            "_model_name": "LayoutModel",
            "_view_count": null,
            "_view_module": "@jupyter-widgets/base",
            "_view_module_version": "1.2.0",
            "_view_name": "LayoutView",
            "align_content": null,
            "align_items": null,
            "align_self": null,
            "border": null,
            "bottom": null,
            "display": null,
            "flex": null,
            "flex_flow": null,
            "grid_area": null,
            "grid_auto_columns": null,
            "grid_auto_flow": null,
            "grid_auto_rows": null,
            "grid_column": null,
            "grid_gap": null,
            "grid_row": null,
            "grid_template_areas": null,
            "grid_template_columns": null,
            "grid_template_rows": null,
            "height": null,
            "justify_content": null,
            "justify_items": null,
            "left": null,
            "margin": null,
            "max_height": null,
            "max_width": null,
            "min_height": null,
            "min_width": null,
            "object_fit": null,
            "object_position": null,
            "order": null,
            "overflow": null,
            "overflow_x": null,
            "overflow_y": null,
            "padding": null,
            "right": null,
            "top": null,
            "visibility": null,
            "width": null
          }
        },
        "34ed351efd444aa4b50b830aa41e7279": {
          "model_module": "@jupyter-widgets/controls",
          "model_module_version": "1.5.0",
          "model_name": "HTMLModel",
          "state": {
            "_dom_classes": [],
            "_model_module": "@jupyter-widgets/controls",
            "_model_module_version": "1.5.0",
            "_model_name": "HTMLModel",
            "_view_count": null,
            "_view_module": "@jupyter-widgets/controls",
            "_view_module_version": "1.5.0",
            "_view_name": "HTMLView",
            "description": "",
            "description_tooltip": null,
            "layout": "IPY_MODEL_918da1e1037e4eeca3deecb5e5e5b46c",
            "placeholder": "​",
            "style": "IPY_MODEL_37caea48e182455d8c5bb32fb8fd34b2",
            "value": " 2500/2500 [1:02:52&lt;00:00,  1.60s/it]"
          }
        },
        "37caea48e182455d8c5bb32fb8fd34b2": {
          "model_module": "@jupyter-widgets/controls",
          "model_module_version": "1.5.0",
          "model_name": "DescriptionStyleModel",
          "state": {
            "_model_module": "@jupyter-widgets/controls",
            "_model_module_version": "1.5.0",
            "_model_name": "DescriptionStyleModel",
            "_view_count": null,
            "_view_module": "@jupyter-widgets/base",
            "_view_module_version": "1.2.0",
            "_view_name": "StyleView",
            "description_width": ""
          }
        },
        "3af1350b5396430980bb9e7c745aedf3": {
          "model_module": "@jupyter-widgets/base",
          "model_module_version": "1.2.0",
          "model_name": "LayoutModel",
          "state": {
            "_model_module": "@jupyter-widgets/base",
            "_model_module_version": "1.2.0",
            "_model_name": "LayoutModel",
            "_view_count": null,
            "_view_module": "@jupyter-widgets/base",
            "_view_module_version": "1.2.0",
            "_view_name": "LayoutView",
            "align_content": null,
            "align_items": null,
            "align_self": null,
            "border": null,
            "bottom": null,
            "display": null,
            "flex": null,
            "flex_flow": null,
            "grid_area": null,
            "grid_auto_columns": null,
            "grid_auto_flow": null,
            "grid_auto_rows": null,
            "grid_column": null,
            "grid_gap": null,
            "grid_row": null,
            "grid_template_areas": null,
            "grid_template_columns": null,
            "grid_template_rows": null,
            "height": null,
            "justify_content": null,
            "justify_items": null,
            "left": null,
            "margin": null,
            "max_height": null,
            "max_width": null,
            "min_height": null,
            "min_width": null,
            "object_fit": null,
            "object_position": null,
            "order": null,
            "overflow": null,
            "overflow_x": null,
            "overflow_y": null,
            "padding": null,
            "right": null,
            "top": null,
            "visibility": null,
            "width": null
          }
        },
        "515eb0391af14f11ac86562a5b4a6270": {
          "model_module": "@jupyter-widgets/controls",
          "model_module_version": "1.5.0",
          "model_name": "HTMLModel",
          "state": {
            "_dom_classes": [],
            "_model_module": "@jupyter-widgets/controls",
            "_model_module_version": "1.5.0",
            "_model_name": "HTMLModel",
            "_view_count": null,
            "_view_module": "@jupyter-widgets/controls",
            "_view_module_version": "1.5.0",
            "_view_name": "HTMLView",
            "description": "",
            "description_tooltip": null,
            "layout": "IPY_MODEL_3af1350b5396430980bb9e7c745aedf3",
            "placeholder": "​",
            "style": "IPY_MODEL_b43a1cae325648a79cff94007aea7339",
            "value": "100%"
          }
        },
        "8892bf6a751c41f8aa3572c6342145bf": {
          "model_module": "@jupyter-widgets/controls",
          "model_module_version": "1.5.0",
          "model_name": "FloatProgressModel",
          "state": {
            "_dom_classes": [],
            "_model_module": "@jupyter-widgets/controls",
            "_model_module_version": "1.5.0",
            "_model_name": "FloatProgressModel",
            "_view_count": null,
            "_view_module": "@jupyter-widgets/controls",
            "_view_module_version": "1.5.0",
            "_view_name": "ProgressView",
            "bar_style": "success",
            "description": "",
            "description_tooltip": null,
            "layout": "IPY_MODEL_d9d4c3e37c12486ab08e71db1d4fa3f0",
            "max": 2500,
            "min": 0,
            "orientation": "horizontal",
            "style": "IPY_MODEL_d1d08722b8f441c187b2477f27c4c305",
            "value": 2500
          }
        },
        "918da1e1037e4eeca3deecb5e5e5b46c": {
          "model_module": "@jupyter-widgets/base",
          "model_module_version": "1.2.0",
          "model_name": "LayoutModel",
          "state": {
            "_model_module": "@jupyter-widgets/base",
            "_model_module_version": "1.2.0",
            "_model_name": "LayoutModel",
            "_view_count": null,
            "_view_module": "@jupyter-widgets/base",
            "_view_module_version": "1.2.0",
            "_view_name": "LayoutView",
            "align_content": null,
            "align_items": null,
            "align_self": null,
            "border": null,
            "bottom": null,
            "display": null,
            "flex": null,
            "flex_flow": null,
            "grid_area": null,
            "grid_auto_columns": null,
            "grid_auto_flow": null,
            "grid_auto_rows": null,
            "grid_column": null,
            "grid_gap": null,
            "grid_row": null,
            "grid_template_areas": null,
            "grid_template_columns": null,
            "grid_template_rows": null,
            "height": null,
            "justify_content": null,
            "justify_items": null,
            "left": null,
            "margin": null,
            "max_height": null,
            "max_width": null,
            "min_height": null,
            "min_width": null,
            "object_fit": null,
            "object_position": null,
            "order": null,
            "overflow": null,
            "overflow_x": null,
            "overflow_y": null,
            "padding": null,
            "right": null,
            "top": null,
            "visibility": null,
            "width": null
          }
        },
        "b43a1cae325648a79cff94007aea7339": {
          "model_module": "@jupyter-widgets/controls",
          "model_module_version": "1.5.0",
          "model_name": "DescriptionStyleModel",
          "state": {
            "_model_module": "@jupyter-widgets/controls",
            "_model_module_version": "1.5.0",
            "_model_name": "DescriptionStyleModel",
            "_view_count": null,
            "_view_module": "@jupyter-widgets/base",
            "_view_module_version": "1.2.0",
            "_view_name": "StyleView",
            "description_width": ""
          }
        },
        "d1d08722b8f441c187b2477f27c4c305": {
          "model_module": "@jupyter-widgets/controls",
          "model_module_version": "1.5.0",
          "model_name": "ProgressStyleModel",
          "state": {
            "_model_module": "@jupyter-widgets/controls",
            "_model_module_version": "1.5.0",
            "_model_name": "ProgressStyleModel",
            "_view_count": null,
            "_view_module": "@jupyter-widgets/base",
            "_view_module_version": "1.2.0",
            "_view_name": "StyleView",
            "bar_color": null,
            "description_width": ""
          }
        },
        "d9d4c3e37c12486ab08e71db1d4fa3f0": {
          "model_module": "@jupyter-widgets/base",
          "model_module_version": "1.2.0",
          "model_name": "LayoutModel",
          "state": {
            "_model_module": "@jupyter-widgets/base",
            "_model_module_version": "1.2.0",
            "_model_name": "LayoutModel",
            "_view_count": null,
            "_view_module": "@jupyter-widgets/base",
            "_view_module_version": "1.2.0",
            "_view_name": "LayoutView",
            "align_content": null,
            "align_items": null,
            "align_self": null,
            "border": null,
            "bottom": null,
            "display": null,
            "flex": null,
            "flex_flow": null,
            "grid_area": null,
            "grid_auto_columns": null,
            "grid_auto_flow": null,
            "grid_auto_rows": null,
            "grid_column": null,
            "grid_gap": null,
            "grid_row": null,
            "grid_template_areas": null,
            "grid_template_columns": null,
            "grid_template_rows": null,
            "height": null,
            "justify_content": null,
            "justify_items": null,
            "left": null,
            "margin": null,
            "max_height": null,
            "max_width": null,
            "min_height": null,
            "min_width": null,
            "object_fit": null,
            "object_position": null,
            "order": null,
            "overflow": null,
            "overflow_x": null,
            "overflow_y": null,
            "padding": null,
            "right": null,
            "top": null,
            "visibility": null,
            "width": null
          }
        }
      }
    }
  },
  "nbformat": 4,
  "nbformat_minor": 0
}
